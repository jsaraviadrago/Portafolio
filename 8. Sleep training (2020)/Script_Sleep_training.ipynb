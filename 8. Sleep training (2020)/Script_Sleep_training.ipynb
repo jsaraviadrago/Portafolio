{
 "cells": [
  {
   "cell_type": "code",
   "execution_count": 2,
   "metadata": {
    "collapsed": true,
    "pycharm": {
     "is_executing": false
    }
   },
   "outputs": [
    {
     "name": "stdout",
     "text": [
      "<class 'pandas.core.frame.DataFrame'>\nRangeIndex: 161 entries, 0 to 160\nData columns (total 20 columns):\n #   Column                   Non-Null Count  Dtype  \n---  ------                   --------------  -----  \n 0   Dia                      161 non-null    object \n 1   Hora_inicio              161 non-null    object \n 2   Actividad                161 non-null    object \n 3   Codigo_Actividad         161 non-null    object \n 4   Siesta1_inicio           134 non-null    object \n 5   Siesta1_final            134 non-null    object \n 6   Siesta2_inicio           134 non-null    object \n 7   Siesta2_final            134 non-null    object \n 8   Siesta3_inicio           117 non-null    object \n 9   Siesta3_final            117 non-null    object \n 10  Nap_time_siesta1         134 non-null    object \n 11  Nap_time_siesta2         134 non-null    object \n 12  NAP_time_siesta3         117 non-null    object \n 13  Awake_time_siesta1       134 non-null    object \n 14  Awake_time_siesta2       134 non-null    object \n 15  Awake_time_siesta3       117 non-null    object \n 16  Awake_time_dormir_noche  134 non-null    object \n 17  Sum_Nap                  134 non-null    object \n 18  Sum_awake                134 non-null    object \n 19  Unnamed: 19              0 non-null      float64\ndtypes: float64(1), object(19)\nmemory usage: 25.3+ KB\n"
     ],
     "output_type": "stream"
    }
   ],
   "source": [
    "# Cargar la base de datos\n",
    "import pandas as pd\n",
    "\n",
    "data_sleep_training = pd.read_csv(\"/Users/home/Documents/Mediums/Sleep training/Sleep_training_261020.csv\")\n"
   ]
  },
  {
   "cell_type": "code",
   "execution_count": 3,
   "outputs": [
    {
     "name": "stdout",
     "text": [
      "<class 'pandas.core.frame.DataFrame'>\nRangeIndex: 161 entries, 0 to 160\nData columns (total 20 columns):\n #   Column                   Non-Null Count  Dtype  \n---  ------                   --------------  -----  \n 0   Dia                      161 non-null    object \n 1   Hora_inicio              161 non-null    object \n 2   Actividad                161 non-null    object \n 3   Codigo_Actividad         161 non-null    object \n 4   Siesta1_inicio           134 non-null    object \n 5   Siesta1_final            134 non-null    object \n 6   Siesta2_inicio           134 non-null    object \n 7   Siesta2_final            134 non-null    object \n 8   Siesta3_inicio           117 non-null    object \n 9   Siesta3_final            117 non-null    object \n 10  Nap_time_siesta1         134 non-null    object \n 11  Nap_time_siesta2         134 non-null    object \n 12  NAP_time_siesta3         117 non-null    object \n 13  Awake_time_siesta1       134 non-null    object \n 14  Awake_time_siesta2       134 non-null    object \n 15  Awake_time_siesta3       117 non-null    object \n 16  Awake_time_dormir_noche  134 non-null    object \n 17  Sum_Nap                  134 non-null    object \n 18  Sum_awake                134 non-null    object \n 19  Unnamed: 19              0 non-null      float64\ndtypes: float64(1), object(19)\nmemory usage: 25.3+ KB\n"
     ],
     "output_type": "stream"
    },
    {
     "data": {
      "text/plain": "        Dia Hora_inicio              Actividad Codigo_Actividad  \\\n0  16/10/20       17:30           Leche y baño               LB   \n1  16/10/20       18:15           Hacer dormir               HD   \n2  16/10/20       18:20          Poner en cuna               PC   \n3  16/10/20       18:45  Profundamente dormida               PD   \n4  16/10/20       18:50          Salida cuarto               SC   \n\n  Siesta1_inicio Siesta1_final Siesta2_inicio Siesta2_final Siesta3_inicio  \\\n0            NaN           NaN            NaN           NaN            NaN   \n1            NaN           NaN            NaN           NaN            NaN   \n2            NaN           NaN            NaN           NaN            NaN   \n3            NaN           NaN            NaN           NaN            NaN   \n4            NaN           NaN            NaN           NaN            NaN   \n\n  Siesta3_final Nap_time_siesta1 Nap_time_siesta2 NAP_time_siesta3  \\\n0           NaN              NaN              NaN              NaN   \n1           NaN              NaN              NaN              NaN   \n2           NaN              NaN              NaN              NaN   \n3           NaN              NaN              NaN              NaN   \n4           NaN              NaN              NaN              NaN   \n\n  Awake_time_siesta1 Awake_time_siesta2 Awake_time_siesta3  \\\n0                NaN                NaN                NaN   \n1                NaN                NaN                NaN   \n2                NaN                NaN                NaN   \n3                NaN                NaN                NaN   \n4                NaN                NaN                NaN   \n\n  Awake_time_dormir_noche Sum_Nap Sum_awake  Unnamed: 19  \n0                     NaN     NaN       NaN          NaN  \n1                     NaN     NaN       NaN          NaN  \n2                     NaN     NaN       NaN          NaN  \n3                     NaN     NaN       NaN          NaN  \n4                     NaN     NaN       NaN          NaN  ",
      "text/html": "<div>\n<style scoped>\n    .dataframe tbody tr th:only-of-type {\n        vertical-align: middle;\n    }\n\n    .dataframe tbody tr th {\n        vertical-align: top;\n    }\n\n    .dataframe thead th {\n        text-align: right;\n    }\n</style>\n<table border=\"1\" class=\"dataframe\">\n  <thead>\n    <tr style=\"text-align: right;\">\n      <th></th>\n      <th>Dia</th>\n      <th>Hora_inicio</th>\n      <th>Actividad</th>\n      <th>Codigo_Actividad</th>\n      <th>Siesta1_inicio</th>\n      <th>Siesta1_final</th>\n      <th>Siesta2_inicio</th>\n      <th>Siesta2_final</th>\n      <th>Siesta3_inicio</th>\n      <th>Siesta3_final</th>\n      <th>Nap_time_siesta1</th>\n      <th>Nap_time_siesta2</th>\n      <th>NAP_time_siesta3</th>\n      <th>Awake_time_siesta1</th>\n      <th>Awake_time_siesta2</th>\n      <th>Awake_time_siesta3</th>\n      <th>Awake_time_dormir_noche</th>\n      <th>Sum_Nap</th>\n      <th>Sum_awake</th>\n      <th>Unnamed: 19</th>\n    </tr>\n  </thead>\n  <tbody>\n    <tr>\n      <th>0</th>\n      <td>16/10/20</td>\n      <td>17:30</td>\n      <td>Leche y baño</td>\n      <td>LB</td>\n      <td>NaN</td>\n      <td>NaN</td>\n      <td>NaN</td>\n      <td>NaN</td>\n      <td>NaN</td>\n      <td>NaN</td>\n      <td>NaN</td>\n      <td>NaN</td>\n      <td>NaN</td>\n      <td>NaN</td>\n      <td>NaN</td>\n      <td>NaN</td>\n      <td>NaN</td>\n      <td>NaN</td>\n      <td>NaN</td>\n      <td>NaN</td>\n    </tr>\n    <tr>\n      <th>1</th>\n      <td>16/10/20</td>\n      <td>18:15</td>\n      <td>Hacer dormir</td>\n      <td>HD</td>\n      <td>NaN</td>\n      <td>NaN</td>\n      <td>NaN</td>\n      <td>NaN</td>\n      <td>NaN</td>\n      <td>NaN</td>\n      <td>NaN</td>\n      <td>NaN</td>\n      <td>NaN</td>\n      <td>NaN</td>\n      <td>NaN</td>\n      <td>NaN</td>\n      <td>NaN</td>\n      <td>NaN</td>\n      <td>NaN</td>\n      <td>NaN</td>\n    </tr>\n    <tr>\n      <th>2</th>\n      <td>16/10/20</td>\n      <td>18:20</td>\n      <td>Poner en cuna</td>\n      <td>PC</td>\n      <td>NaN</td>\n      <td>NaN</td>\n      <td>NaN</td>\n      <td>NaN</td>\n      <td>NaN</td>\n      <td>NaN</td>\n      <td>NaN</td>\n      <td>NaN</td>\n      <td>NaN</td>\n      <td>NaN</td>\n      <td>NaN</td>\n      <td>NaN</td>\n      <td>NaN</td>\n      <td>NaN</td>\n      <td>NaN</td>\n      <td>NaN</td>\n    </tr>\n    <tr>\n      <th>3</th>\n      <td>16/10/20</td>\n      <td>18:45</td>\n      <td>Profundamente dormida</td>\n      <td>PD</td>\n      <td>NaN</td>\n      <td>NaN</td>\n      <td>NaN</td>\n      <td>NaN</td>\n      <td>NaN</td>\n      <td>NaN</td>\n      <td>NaN</td>\n      <td>NaN</td>\n      <td>NaN</td>\n      <td>NaN</td>\n      <td>NaN</td>\n      <td>NaN</td>\n      <td>NaN</td>\n      <td>NaN</td>\n      <td>NaN</td>\n      <td>NaN</td>\n    </tr>\n    <tr>\n      <th>4</th>\n      <td>16/10/20</td>\n      <td>18:50</td>\n      <td>Salida cuarto</td>\n      <td>SC</td>\n      <td>NaN</td>\n      <td>NaN</td>\n      <td>NaN</td>\n      <td>NaN</td>\n      <td>NaN</td>\n      <td>NaN</td>\n      <td>NaN</td>\n      <td>NaN</td>\n      <td>NaN</td>\n      <td>NaN</td>\n      <td>NaN</td>\n      <td>NaN</td>\n      <td>NaN</td>\n      <td>NaN</td>\n      <td>NaN</td>\n      <td>NaN</td>\n    </tr>\n  </tbody>\n</table>\n</div>"
     },
     "metadata": {},
     "output_type": "execute_result",
     "execution_count": 3
    }
   ],
   "source": [
    "# Revisar que la base este bien cargada\n",
    "data_sleep_training.head()\n"
   ],
   "metadata": {
    "collapsed": false,
    "pycharm": {
     "name": "#%%\n",
     "is_executing": false
    }
   }
  },
  {
   "cell_type": "code",
   "execution_count": null,
   "outputs": [],
   "source": [],
   "metadata": {
    "collapsed": false,
    "pycharm": {
     "name": "#%%\n"
    }
   }
  },
  {
   "cell_type": "code",
   "execution_count": null,
   "outputs": [],
   "source": [],
   "metadata": {
    "collapsed": false,
    "pycharm": {
     "name": "#%%"
    }
   }
  }
 ],
 "metadata": {
  "kernelspec": {
   "display_name": "Python 3",
   "language": "python",
   "name": "python3"
  },
  "language_info": {
   "codemirror_mode": {
    "name": "ipython",
    "version": 2
   },
   "file_extension": ".py",
   "mimetype": "text/x-python",
   "name": "python",
   "nbconvert_exporter": "python",
   "pygments_lexer": "ipython2",
   "version": "2.7.6"
  },
  "pycharm": {
   "stem_cell": {
    "cell_type": "raw",
    "source": [],
    "metadata": {
     "collapsed": false
    }
   }
  }
 },
 "nbformat": 4,
 "nbformat_minor": 0
}