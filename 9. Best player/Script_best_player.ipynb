{
 "cells": [
  {
   "cell_type": "code",
   "execution_count": 13,
   "metadata": {
    "collapsed": true,
    "pycharm": {
     "is_executing": false
    }
   },
   "outputs": [],
   "source": [
    "import pandas as pd\n",
    "import sidetable as stb\n",
    "import numpy as np\n"
   ]
  },
  {
   "cell_type": "code",
   "execution_count": 14,
   "outputs": [],
   "source": [
    "db_bplayer = pd.read_csv(\"/Users/home/Dropbox/Databases/Mejor jugador futbol/Mejor_deLa_historia.csv\",\n",
    "                         encoding = \"ISO-8859-1\")\n",
    "\n",
    "db_bplayer = db_bplayer[['ï»¿Nombre','Apellido',\n",
    "                         'Pais', 'Eleccion', \n",
    "                         'Fecha_nacimiento', 'Posicion',\n",
    "                         'Duplicate', 'Anho_Fallecio']]\n",
    "\n",
    "db_bplayer.columns = ['Nombre','Apellido',\n",
    "                         'Pais', 'Eleccion', \n",
    "                         'Fecha_nacimiento', 'Posicion',\n",
    "                         'Duplicate', 'Anho_Fallecio']\n",
    "Unique = [\"0\"]\n",
    "db_bplayer = db_bplayer[db_bplayer.Duplicate.isin(Unique)]          \n",
    "\n",
    "#db_bplayer[\"Anho_debut_Messi\"] = 2003\n",
    "#db_bplayer[\"Anho_debut_Pele\"] = 1956\n",
    "#db_bplayer[\"Anho_debut_Maradona\"] = 1976\n",
    "\n",
    "conditions = [\n",
    "    (db_bplayer['Anho_Fallecio'] < 1976),\n",
    "    (db_bplayer['Anho_Fallecio'] < 2003),\n",
    "    (db_bplayer['Anho_Fallecio'] >= 2003)]\n",
    "\n",
    "values = ['Vieron a Pele', 'Vieron Maradona y Pele',\n",
    "          'Vieron a todos']\n",
    "\n",
    "db_bplayer['Vio_jugador'] = np.select(conditions, values)\n",
    "\n",
    "db_bplayer['Vio_jugador'] = db_bplayer['Vio_jugador'].replace('0', 'Vieron a todos') \n",
    "\n",
    "\n",
    "# Revisar los descriptivos que vieron todos\n",
    "Vio_todos = [\"Vieron a todos\"]\n",
    "db_bplayer_allwatch = db_bplayer[db_bplayer.Vio_jugador.isin(Vio_todos)]\n"
   ],
   "metadata": {
    "collapsed": false,
    "pycharm": {
     "name": "#%%\n",
     "is_executing": false
    }
   }
  },
  {
   "cell_type": "code",
   "execution_count": 15,
   "outputs": [],
   "source": [
    "#db_bplayer_allwatch.stb.freq(['Eleccion'])\n",
    "#db_bplayer_allwatch.stb.freq(['Pais'])\n",
    "#db_bplayer.stb.freq(['Posicion'])"
   ],
   "metadata": {
    "collapsed": false,
    "pycharm": {
     "name": "#%%\n",
     "is_executing": false
    }
   }
  },
  {
   "cell_type": "code",
   "execution_count": 16,
   "outputs": [],
   "source": [
    "Messi = [\"Messi\"]\n",
    "db_bplayer_Messi = db_bplayer_allwatch[db_bplayer_allwatch.Eleccion.isin(Messi)]\n",
    "#db_bplayer_Messi.stb.freq(['Pais'])\n"
   ],
   "metadata": {
    "collapsed": false,
    "pycharm": {
     "name": "#%%\n",
     "is_executing": false
    }
   }
  },
  {
   "cell_type": "code",
   "execution_count": 17,
   "outputs": [],
   "source": [
    "Pele = [\"Pele\"]\n",
    "db_bplayer_Pele = db_bplayer_allwatch[db_bplayer_allwatch.Eleccion.isin(Pele)]\n",
    "#db_bplayer_Pele.stb.freq(['Pais'])"
   ],
   "metadata": {
    "collapsed": false,
    "pycharm": {
     "name": "#%%\n",
     "is_executing": false
    }
   }
  },
  {
   "cell_type": "code",
   "execution_count": 18,
   "outputs": [],
   "source": [
    "Maradona = [\"Maradona\"]\n",
    "db_bplayer_Maradona = db_bplayer_allwatch[db_bplayer_allwatch.Eleccion.isin(Maradona)]\n",
    "#db_bplayer_Maradona.stb.freq(['Pais'])"
   ],
   "metadata": {
    "collapsed": false,
    "pycharm": {
     "name": "#%%\n",
     "is_executing": false
    }
   }
  },
  {
   "cell_type": "code",
   "execution_count": 18,
   "outputs": [],
   "source": [],
   "metadata": {
    "collapsed": false,
    "pycharm": {
     "name": "#%%\n",
     "is_executing": false
    }
   }
  }
 ],
 "metadata": {
  "kernelspec": {
   "display_name": "Python 3",
   "language": "python",
   "name": "python3"
  },
  "language_info": {
   "codemirror_mode": {
    "name": "ipython",
    "version": 2
   },
   "file_extension": ".py",
   "mimetype": "text/x-python",
   "name": "python",
   "nbconvert_exporter": "python",
   "pygments_lexer": "ipython2",
   "version": "2.7.6"
  },
  "pycharm": {
   "stem_cell": {
    "cell_type": "raw",
    "source": [],
    "metadata": {
     "collapsed": false
    }
   }
  }
 },
 "nbformat": 4,
 "nbformat_minor": 0
}