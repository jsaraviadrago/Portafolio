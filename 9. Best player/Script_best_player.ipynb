{
 "cells": [
  {
   "cell_type": "code",
   "execution_count": 6,
   "metadata": {
    "collapsed": true,
    "pycharm": {
     "is_executing": false
    }
   },
   "outputs": [],
   "source": [
    "import pandas as pd\n",
    "import sidetable as stb\n",
    "import numpy as np\n"
   ]
  },
  {
   "cell_type": "code",
   "execution_count": 12,
   "outputs": [
    {
     "data": {
      "text/plain": "    Nombre   Apellido Pais Eleccion  Fecha_nacimiento    Posicion  Duplicate  \\\n0      NaN   Abelardo  ESP    Messi            1970.0     Defensa          0   \n1     eric     Abidal  FRA    Messi            1979.0     Defensa          0   \n2  Vicente      Feola  BRA     Pele            1909.0  Entrenador          0   \n3     Beto     Acosta  ARG    Messi            1966.0   Delantero          0   \n4      NaN  Leonidas   BRA     Pele            1913.0   Delantero          0   \n5      NaN       Adan  ESP    Messi            1987.0     Arquero          0   \n6   Amadeo    Carrizo  ARG     Pele            1926.0     Arquero          0   \n7   Sergio    AgÃ¼ero  ARG    Messi            1988.0   Delantero          0   \n8    Pablo      Aimar  ARG    Messi            1979.0  Mediocampo          0   \n9    Jordi       Alba  ESP    Messi            1989.0     Defensa          0   \n\n   Anho_Fallecio     Vio_jugador  \n0            NaN  Vieron a todos  \n1            NaN  Vieron a todos  \n2         1975.0   Vieron a Pele  \n3            NaN  Vieron a todos  \n4         2004.0  Vieron a todos  \n5            NaN  Vieron a todos  \n6         2020.0  Vieron a todos  \n7            NaN  Vieron a todos  \n8            NaN  Vieron a todos  \n9            NaN  Vieron a todos  ",
      "text/html": "<div>\n<style scoped>\n    .dataframe tbody tr th:only-of-type {\n        vertical-align: middle;\n    }\n\n    .dataframe tbody tr th {\n        vertical-align: top;\n    }\n\n    .dataframe thead th {\n        text-align: right;\n    }\n</style>\n<table border=\"1\" class=\"dataframe\">\n  <thead>\n    <tr style=\"text-align: right;\">\n      <th></th>\n      <th>Nombre</th>\n      <th>Apellido</th>\n      <th>Pais</th>\n      <th>Eleccion</th>\n      <th>Fecha_nacimiento</th>\n      <th>Posicion</th>\n      <th>Duplicate</th>\n      <th>Anho_Fallecio</th>\n      <th>Vio_jugador</th>\n    </tr>\n  </thead>\n  <tbody>\n    <tr>\n      <th>0</th>\n      <td>NaN</td>\n      <td>Abelardo</td>\n      <td>ESP</td>\n      <td>Messi</td>\n      <td>1970.0</td>\n      <td>Defensa</td>\n      <td>0</td>\n      <td>NaN</td>\n      <td>Vieron a todos</td>\n    </tr>\n    <tr>\n      <th>1</th>\n      <td>eric</td>\n      <td>Abidal</td>\n      <td>FRA</td>\n      <td>Messi</td>\n      <td>1979.0</td>\n      <td>Defensa</td>\n      <td>0</td>\n      <td>NaN</td>\n      <td>Vieron a todos</td>\n    </tr>\n    <tr>\n      <th>2</th>\n      <td>Vicente</td>\n      <td>Feola</td>\n      <td>BRA</td>\n      <td>Pele</td>\n      <td>1909.0</td>\n      <td>Entrenador</td>\n      <td>0</td>\n      <td>1975.0</td>\n      <td>Vieron a Pele</td>\n    </tr>\n    <tr>\n      <th>3</th>\n      <td>Beto</td>\n      <td>Acosta</td>\n      <td>ARG</td>\n      <td>Messi</td>\n      <td>1966.0</td>\n      <td>Delantero</td>\n      <td>0</td>\n      <td>NaN</td>\n      <td>Vieron a todos</td>\n    </tr>\n    <tr>\n      <th>4</th>\n      <td>NaN</td>\n      <td>Leonidas</td>\n      <td>BRA</td>\n      <td>Pele</td>\n      <td>1913.0</td>\n      <td>Delantero</td>\n      <td>0</td>\n      <td>2004.0</td>\n      <td>Vieron a todos</td>\n    </tr>\n    <tr>\n      <th>5</th>\n      <td>NaN</td>\n      <td>Adan</td>\n      <td>ESP</td>\n      <td>Messi</td>\n      <td>1987.0</td>\n      <td>Arquero</td>\n      <td>0</td>\n      <td>NaN</td>\n      <td>Vieron a todos</td>\n    </tr>\n    <tr>\n      <th>6</th>\n      <td>Amadeo</td>\n      <td>Carrizo</td>\n      <td>ARG</td>\n      <td>Pele</td>\n      <td>1926.0</td>\n      <td>Arquero</td>\n      <td>0</td>\n      <td>2020.0</td>\n      <td>Vieron a todos</td>\n    </tr>\n    <tr>\n      <th>7</th>\n      <td>Sergio</td>\n      <td>AgÃ¼ero</td>\n      <td>ARG</td>\n      <td>Messi</td>\n      <td>1988.0</td>\n      <td>Delantero</td>\n      <td>0</td>\n      <td>NaN</td>\n      <td>Vieron a todos</td>\n    </tr>\n    <tr>\n      <th>8</th>\n      <td>Pablo</td>\n      <td>Aimar</td>\n      <td>ARG</td>\n      <td>Messi</td>\n      <td>1979.0</td>\n      <td>Mediocampo</td>\n      <td>0</td>\n      <td>NaN</td>\n      <td>Vieron a todos</td>\n    </tr>\n    <tr>\n      <th>9</th>\n      <td>Jordi</td>\n      <td>Alba</td>\n      <td>ESP</td>\n      <td>Messi</td>\n      <td>1989.0</td>\n      <td>Defensa</td>\n      <td>0</td>\n      <td>NaN</td>\n      <td>Vieron a todos</td>\n    </tr>\n  </tbody>\n</table>\n</div>"
     },
     "metadata": {},
     "output_type": "execute_result",
     "execution_count": 12
    }
   ],
   "source": [
    "db_bplayer = pd.read_csv(\"/Users/home/Dropbox/Databases/Mejor jugador futbol/Mejor_deLa_historia.csv\",\n",
    "                         encoding = \"ISO-8859-1\")\n",
    "\n",
    "db_bplayer = db_bplayer[['ï»¿Nombre','Apellido',\n",
    "                         'Pais', 'Eleccion', \n",
    "                         'Fecha_nacimiento', 'Posicion',\n",
    "                         'Duplicate', 'Anho_Fallecio']]\n",
    "\n",
    "db_bplayer.columns = ['Nombre','Apellido',\n",
    "                         'Pais', 'Eleccion', \n",
    "                         'Fecha_nacimiento', 'Posicion',\n",
    "                         'Duplicate', 'Anho_Fallecio']\n",
    "Unique = [\"0\"]\n",
    "db_bplayer = db_bplayer[db_bplayer.Duplicate.isin(Unique)]          \n",
    "\n",
    "#db_bplayer[\"Anho_debut_Messi\"] = 2003\n",
    "#db_bplayer[\"Anho_debut_Pele\"] = 1956\n",
    "#db_bplayer[\"Anho_debut_Maradona\"] = 1976\n",
    "\n",
    "conditions = [\n",
    "    (db_bplayer['Anho_Fallecio'] < 1976),\n",
    "    (db_bplayer['Anho_Fallecio'] < 2003),\n",
    "    (db_bplayer['Anho_Fallecio'] >= 2003)]\n",
    "\n",
    "values = ['Vieron a Pele', 'Vieron Maradona y Pele',\n",
    "          'Vieron a todos']\n",
    "\n",
    "db_bplayer['Vio_jugador'] = np.select(conditions, values)\n",
    "\n",
    "db_bplayer['Vio_jugador'] = db_bplayer['Vio_jugador'].replace('0', 'Vieron a todos') \n",
    "\n",
    "db_bplayer.head(10)"
   ],
   "metadata": {
    "collapsed": false,
    "pycharm": {
     "name": "#%%\n",
     "is_executing": false
    }
   }
  },
  {
   "cell_type": "code",
   "execution_count": 16,
   "outputs": [
    {
     "name": "stdout",
     "text": [
      "<class 'pandas.core.frame.DataFrame'>\nInt64Index: 418 entries, 0 to 442\nData columns (total 8 columns):\n #   Column            Non-Null Count  Dtype  \n---  ------            --------------  -----  \n 0   Nombre            305 non-null    object \n 1   Apellido          418 non-null    object \n 2   Pais              418 non-null    object \n 3   Eleccion          418 non-null    object \n 4   Fecha_nacimiento  414 non-null    float64\n 5   Posicion          416 non-null    object \n 6   Duplicate         418 non-null    int64  \n 7   Anho_Fallecio     31 non-null     float64\ndtypes: float64(2), int64(1), object(5)\nmemory usage: 29.4+ KB\n"
     ],
     "output_type": "stream"
    }
   ],
   "source": [
    "#db_bplayer.stb.freq(['Eleccion'])\n",
    "#db_bplayer.stb.freq(['Pais'])\n",
    "#db_bplayer.stb.freq(['Posicion'])"
   ],
   "metadata": {
    "collapsed": false,
    "pycharm": {
     "name": "#%%\n",
     "is_executing": false
    }
   }
  },
  {
   "cell_type": "code",
   "execution_count": 17,
   "outputs": [
    {
     "data": {
      "text/plain": "    Pais  count  percent  cumulative_count  cumulative_percent\n0    ESP     66     26.4                66                26.4\n1    ARG     54     21.6               120                48.0\n2    ING     20      8.0               140                56.0\n3    ALE     14      5.6               154                61.6\n4    BRA     12      4.8               166                66.4\n5    FRA     10      4.0               176                70.4\n6    ITA      7      2.8               183                73.2\n7    HOL      6      2.4               189                75.6\n8    CHI      6      2.4               195                78.0\n9    URU      4      1.6               199                79.6\n10   VEN      3      1.2               202                80.8\n11   NOR      3      1.2               205                82.0\n12   MEX      3      1.2               208                83.2\n13   IRL      3      1.2               211                84.4\n14   ESC      3      1.2               214                85.6\n15   CRO      3      1.2               217                86.8\n16   SUE      2      0.8               219                87.6\n17   PER      2      0.8               221                88.4\n18   NIG      2      0.8               223                89.2\n19   COL      2      0.8               225                90.0\n20   CAM      2      0.8               227                90.8\n21   BUL      2      0.8               229                91.6\n22   BEL      2      0.8               231                92.4\n23   TUR      1      0.4               232                92.8\n24   SVN      1      0.4               233                93.2\n25   SVL      1      0.4               234                93.6\n26   SER      1      0.4               235                94.0\n27   RUS      1      0.4               236                94.4\n28   POR      1      0.4               237                94.8\n29   POL      1      0.4               238                95.2\n30   PAR      1      0.4               239                95.6\n31  NIRL      1      0.4               240                96.0\n32   MON      1      0.4               241                96.4\n33   MAR      1      0.4               242                96.8\n34   HON      1      0.4               243                97.2\n35   GHA      1      0.4               244                97.6\n36   GAL      1      0.4               245                98.0\n37   CHN      1      0.4               246                98.4\n38   BOL      1      0.4               247                98.8\n39  AUST      1      0.4               248                99.2\n40   AUS      1      0.4               249                99.6\n41   ARM      1      0.4               250               100.0",
      "text/html": "<div>\n<style scoped>\n    .dataframe tbody tr th:only-of-type {\n        vertical-align: middle;\n    }\n\n    .dataframe tbody tr th {\n        vertical-align: top;\n    }\n\n    .dataframe thead th {\n        text-align: right;\n    }\n</style>\n<table border=\"1\" class=\"dataframe\">\n  <thead>\n    <tr style=\"text-align: right;\">\n      <th></th>\n      <th>Pais</th>\n      <th>count</th>\n      <th>percent</th>\n      <th>cumulative_count</th>\n      <th>cumulative_percent</th>\n    </tr>\n  </thead>\n  <tbody>\n    <tr>\n      <th>0</th>\n      <td>ESP</td>\n      <td>66</td>\n      <td>26.4</td>\n      <td>66</td>\n      <td>26.4</td>\n    </tr>\n    <tr>\n      <th>1</th>\n      <td>ARG</td>\n      <td>54</td>\n      <td>21.6</td>\n      <td>120</td>\n      <td>48.0</td>\n    </tr>\n    <tr>\n      <th>2</th>\n      <td>ING</td>\n      <td>20</td>\n      <td>8.0</td>\n      <td>140</td>\n      <td>56.0</td>\n    </tr>\n    <tr>\n      <th>3</th>\n      <td>ALE</td>\n      <td>14</td>\n      <td>5.6</td>\n      <td>154</td>\n      <td>61.6</td>\n    </tr>\n    <tr>\n      <th>4</th>\n      <td>BRA</td>\n      <td>12</td>\n      <td>4.8</td>\n      <td>166</td>\n      <td>66.4</td>\n    </tr>\n    <tr>\n      <th>5</th>\n      <td>FRA</td>\n      <td>10</td>\n      <td>4.0</td>\n      <td>176</td>\n      <td>70.4</td>\n    </tr>\n    <tr>\n      <th>6</th>\n      <td>ITA</td>\n      <td>7</td>\n      <td>2.8</td>\n      <td>183</td>\n      <td>73.2</td>\n    </tr>\n    <tr>\n      <th>7</th>\n      <td>HOL</td>\n      <td>6</td>\n      <td>2.4</td>\n      <td>189</td>\n      <td>75.6</td>\n    </tr>\n    <tr>\n      <th>8</th>\n      <td>CHI</td>\n      <td>6</td>\n      <td>2.4</td>\n      <td>195</td>\n      <td>78.0</td>\n    </tr>\n    <tr>\n      <th>9</th>\n      <td>URU</td>\n      <td>4</td>\n      <td>1.6</td>\n      <td>199</td>\n      <td>79.6</td>\n    </tr>\n    <tr>\n      <th>10</th>\n      <td>VEN</td>\n      <td>3</td>\n      <td>1.2</td>\n      <td>202</td>\n      <td>80.8</td>\n    </tr>\n    <tr>\n      <th>11</th>\n      <td>NOR</td>\n      <td>3</td>\n      <td>1.2</td>\n      <td>205</td>\n      <td>82.0</td>\n    </tr>\n    <tr>\n      <th>12</th>\n      <td>MEX</td>\n      <td>3</td>\n      <td>1.2</td>\n      <td>208</td>\n      <td>83.2</td>\n    </tr>\n    <tr>\n      <th>13</th>\n      <td>IRL</td>\n      <td>3</td>\n      <td>1.2</td>\n      <td>211</td>\n      <td>84.4</td>\n    </tr>\n    <tr>\n      <th>14</th>\n      <td>ESC</td>\n      <td>3</td>\n      <td>1.2</td>\n      <td>214</td>\n      <td>85.6</td>\n    </tr>\n    <tr>\n      <th>15</th>\n      <td>CRO</td>\n      <td>3</td>\n      <td>1.2</td>\n      <td>217</td>\n      <td>86.8</td>\n    </tr>\n    <tr>\n      <th>16</th>\n      <td>SUE</td>\n      <td>2</td>\n      <td>0.8</td>\n      <td>219</td>\n      <td>87.6</td>\n    </tr>\n    <tr>\n      <th>17</th>\n      <td>PER</td>\n      <td>2</td>\n      <td>0.8</td>\n      <td>221</td>\n      <td>88.4</td>\n    </tr>\n    <tr>\n      <th>18</th>\n      <td>NIG</td>\n      <td>2</td>\n      <td>0.8</td>\n      <td>223</td>\n      <td>89.2</td>\n    </tr>\n    <tr>\n      <th>19</th>\n      <td>COL</td>\n      <td>2</td>\n      <td>0.8</td>\n      <td>225</td>\n      <td>90.0</td>\n    </tr>\n    <tr>\n      <th>20</th>\n      <td>CAM</td>\n      <td>2</td>\n      <td>0.8</td>\n      <td>227</td>\n      <td>90.8</td>\n    </tr>\n    <tr>\n      <th>21</th>\n      <td>BUL</td>\n      <td>2</td>\n      <td>0.8</td>\n      <td>229</td>\n      <td>91.6</td>\n    </tr>\n    <tr>\n      <th>22</th>\n      <td>BEL</td>\n      <td>2</td>\n      <td>0.8</td>\n      <td>231</td>\n      <td>92.4</td>\n    </tr>\n    <tr>\n      <th>23</th>\n      <td>TUR</td>\n      <td>1</td>\n      <td>0.4</td>\n      <td>232</td>\n      <td>92.8</td>\n    </tr>\n    <tr>\n      <th>24</th>\n      <td>SVN</td>\n      <td>1</td>\n      <td>0.4</td>\n      <td>233</td>\n      <td>93.2</td>\n    </tr>\n    <tr>\n      <th>25</th>\n      <td>SVL</td>\n      <td>1</td>\n      <td>0.4</td>\n      <td>234</td>\n      <td>93.6</td>\n    </tr>\n    <tr>\n      <th>26</th>\n      <td>SER</td>\n      <td>1</td>\n      <td>0.4</td>\n      <td>235</td>\n      <td>94.0</td>\n    </tr>\n    <tr>\n      <th>27</th>\n      <td>RUS</td>\n      <td>1</td>\n      <td>0.4</td>\n      <td>236</td>\n      <td>94.4</td>\n    </tr>\n    <tr>\n      <th>28</th>\n      <td>POR</td>\n      <td>1</td>\n      <td>0.4</td>\n      <td>237</td>\n      <td>94.8</td>\n    </tr>\n    <tr>\n      <th>29</th>\n      <td>POL</td>\n      <td>1</td>\n      <td>0.4</td>\n      <td>238</td>\n      <td>95.2</td>\n    </tr>\n    <tr>\n      <th>30</th>\n      <td>PAR</td>\n      <td>1</td>\n      <td>0.4</td>\n      <td>239</td>\n      <td>95.6</td>\n    </tr>\n    <tr>\n      <th>31</th>\n      <td>NIRL</td>\n      <td>1</td>\n      <td>0.4</td>\n      <td>240</td>\n      <td>96.0</td>\n    </tr>\n    <tr>\n      <th>32</th>\n      <td>MON</td>\n      <td>1</td>\n      <td>0.4</td>\n      <td>241</td>\n      <td>96.4</td>\n    </tr>\n    <tr>\n      <th>33</th>\n      <td>MAR</td>\n      <td>1</td>\n      <td>0.4</td>\n      <td>242</td>\n      <td>96.8</td>\n    </tr>\n    <tr>\n      <th>34</th>\n      <td>HON</td>\n      <td>1</td>\n      <td>0.4</td>\n      <td>243</td>\n      <td>97.2</td>\n    </tr>\n    <tr>\n      <th>35</th>\n      <td>GHA</td>\n      <td>1</td>\n      <td>0.4</td>\n      <td>244</td>\n      <td>97.6</td>\n    </tr>\n    <tr>\n      <th>36</th>\n      <td>GAL</td>\n      <td>1</td>\n      <td>0.4</td>\n      <td>245</td>\n      <td>98.0</td>\n    </tr>\n    <tr>\n      <th>37</th>\n      <td>CHN</td>\n      <td>1</td>\n      <td>0.4</td>\n      <td>246</td>\n      <td>98.4</td>\n    </tr>\n    <tr>\n      <th>38</th>\n      <td>BOL</td>\n      <td>1</td>\n      <td>0.4</td>\n      <td>247</td>\n      <td>98.8</td>\n    </tr>\n    <tr>\n      <th>39</th>\n      <td>AUST</td>\n      <td>1</td>\n      <td>0.4</td>\n      <td>248</td>\n      <td>99.2</td>\n    </tr>\n    <tr>\n      <th>40</th>\n      <td>AUS</td>\n      <td>1</td>\n      <td>0.4</td>\n      <td>249</td>\n      <td>99.6</td>\n    </tr>\n    <tr>\n      <th>41</th>\n      <td>ARM</td>\n      <td>1</td>\n      <td>0.4</td>\n      <td>250</td>\n      <td>100.0</td>\n    </tr>\n  </tbody>\n</table>\n</div>"
     },
     "metadata": {},
     "output_type": "execute_result",
     "execution_count": 17
    }
   ],
   "source": [
    "Messi = [\"Messi\"]\n",
    "db_bplayer_Messi = db_bplayer[db_bplayer.Eleccion.isin(Messi)]\n",
    "db_bplayer_Messi.stb.freq(['Pais'])\n"
   ],
   "metadata": {
    "collapsed": false,
    "pycharm": {
     "name": "#%%\n",
     "is_executing": false
    }
   }
  },
  {
   "cell_type": "code",
   "execution_count": 18,
   "outputs": [
    {
     "data": {
      "text/plain": "    Pais  count    percent  cumulative_count  cumulative_percent\n0    BRA     42  36.842105                42           36.842105\n1    ARG     25  21.929825                67           58.771930\n2    ITA     15  13.157895                82           71.929825\n3    URU      3   2.631579                85           74.561404\n4    ING      3   2.631579                88           77.192982\n5    ALE      3   2.631579                91           79.824561\n6    POR      2   1.754386                93           81.578947\n7    HUN      2   1.754386                95           83.333333\n8    FRA      2   1.754386                97           85.087719\n9    ESP      2   1.754386                99           86.842105\n10   ESC      2   1.754386               101           88.596491\n11   CHI      2   1.754386               103           90.350877\n12   CAM      2   1.754386               105           92.105263\n13   VEN      1   0.877193               106           92.982456\n14   SUE      1   0.877193               107           93.859649\n15   RUS      1   0.877193               108           94.736842\n16   PER      1   0.877193               109           95.614035\n17  NIRL      1   0.877193               110           96.491228\n18   HOL      1   0.877193               111           97.368421\n19   ECU      1   0.877193               112           98.245614\n20   CRO      1   0.877193               113           99.122807\n21   COL      1   0.877193               114          100.000000",
      "text/html": "<div>\n<style scoped>\n    .dataframe tbody tr th:only-of-type {\n        vertical-align: middle;\n    }\n\n    .dataframe tbody tr th {\n        vertical-align: top;\n    }\n\n    .dataframe thead th {\n        text-align: right;\n    }\n</style>\n<table border=\"1\" class=\"dataframe\">\n  <thead>\n    <tr style=\"text-align: right;\">\n      <th></th>\n      <th>Pais</th>\n      <th>count</th>\n      <th>percent</th>\n      <th>cumulative_count</th>\n      <th>cumulative_percent</th>\n    </tr>\n  </thead>\n  <tbody>\n    <tr>\n      <th>0</th>\n      <td>BRA</td>\n      <td>42</td>\n      <td>36.842105</td>\n      <td>42</td>\n      <td>36.842105</td>\n    </tr>\n    <tr>\n      <th>1</th>\n      <td>ARG</td>\n      <td>25</td>\n      <td>21.929825</td>\n      <td>67</td>\n      <td>58.771930</td>\n    </tr>\n    <tr>\n      <th>2</th>\n      <td>ITA</td>\n      <td>15</td>\n      <td>13.157895</td>\n      <td>82</td>\n      <td>71.929825</td>\n    </tr>\n    <tr>\n      <th>3</th>\n      <td>URU</td>\n      <td>3</td>\n      <td>2.631579</td>\n      <td>85</td>\n      <td>74.561404</td>\n    </tr>\n    <tr>\n      <th>4</th>\n      <td>ING</td>\n      <td>3</td>\n      <td>2.631579</td>\n      <td>88</td>\n      <td>77.192982</td>\n    </tr>\n    <tr>\n      <th>5</th>\n      <td>ALE</td>\n      <td>3</td>\n      <td>2.631579</td>\n      <td>91</td>\n      <td>79.824561</td>\n    </tr>\n    <tr>\n      <th>6</th>\n      <td>POR</td>\n      <td>2</td>\n      <td>1.754386</td>\n      <td>93</td>\n      <td>81.578947</td>\n    </tr>\n    <tr>\n      <th>7</th>\n      <td>HUN</td>\n      <td>2</td>\n      <td>1.754386</td>\n      <td>95</td>\n      <td>83.333333</td>\n    </tr>\n    <tr>\n      <th>8</th>\n      <td>FRA</td>\n      <td>2</td>\n      <td>1.754386</td>\n      <td>97</td>\n      <td>85.087719</td>\n    </tr>\n    <tr>\n      <th>9</th>\n      <td>ESP</td>\n      <td>2</td>\n      <td>1.754386</td>\n      <td>99</td>\n      <td>86.842105</td>\n    </tr>\n    <tr>\n      <th>10</th>\n      <td>ESC</td>\n      <td>2</td>\n      <td>1.754386</td>\n      <td>101</td>\n      <td>88.596491</td>\n    </tr>\n    <tr>\n      <th>11</th>\n      <td>CHI</td>\n      <td>2</td>\n      <td>1.754386</td>\n      <td>103</td>\n      <td>90.350877</td>\n    </tr>\n    <tr>\n      <th>12</th>\n      <td>CAM</td>\n      <td>2</td>\n      <td>1.754386</td>\n      <td>105</td>\n      <td>92.105263</td>\n    </tr>\n    <tr>\n      <th>13</th>\n      <td>VEN</td>\n      <td>1</td>\n      <td>0.877193</td>\n      <td>106</td>\n      <td>92.982456</td>\n    </tr>\n    <tr>\n      <th>14</th>\n      <td>SUE</td>\n      <td>1</td>\n      <td>0.877193</td>\n      <td>107</td>\n      <td>93.859649</td>\n    </tr>\n    <tr>\n      <th>15</th>\n      <td>RUS</td>\n      <td>1</td>\n      <td>0.877193</td>\n      <td>108</td>\n      <td>94.736842</td>\n    </tr>\n    <tr>\n      <th>16</th>\n      <td>PER</td>\n      <td>1</td>\n      <td>0.877193</td>\n      <td>109</td>\n      <td>95.614035</td>\n    </tr>\n    <tr>\n      <th>17</th>\n      <td>NIRL</td>\n      <td>1</td>\n      <td>0.877193</td>\n      <td>110</td>\n      <td>96.491228</td>\n    </tr>\n    <tr>\n      <th>18</th>\n      <td>HOL</td>\n      <td>1</td>\n      <td>0.877193</td>\n      <td>111</td>\n      <td>97.368421</td>\n    </tr>\n    <tr>\n      <th>19</th>\n      <td>ECU</td>\n      <td>1</td>\n      <td>0.877193</td>\n      <td>112</td>\n      <td>98.245614</td>\n    </tr>\n    <tr>\n      <th>20</th>\n      <td>CRO</td>\n      <td>1</td>\n      <td>0.877193</td>\n      <td>113</td>\n      <td>99.122807</td>\n    </tr>\n    <tr>\n      <th>21</th>\n      <td>COL</td>\n      <td>1</td>\n      <td>0.877193</td>\n      <td>114</td>\n      <td>100.000000</td>\n    </tr>\n  </tbody>\n</table>\n</div>"
     },
     "metadata": {},
     "output_type": "execute_result",
     "execution_count": 18
    }
   ],
   "source": [
    "Pele = [\"Pele\"]\n",
    "db_bplayer_Pele = db_bplayer[db_bplayer.Eleccion.isin(Pele)]\n",
    "db_bplayer_Pele.stb.freq(['Pais'])"
   ],
   "metadata": {
    "collapsed": false,
    "pycharm": {
     "name": "#%%\n",
     "is_executing": false
    }
   }
  },
  {
   "cell_type": "code",
   "execution_count": 19,
   "outputs": [
    {
     "data": {
      "text/plain": "   Pais  count    percent  cumulative_count  cumulative_percent\n0   ARG     18  33.333333                18           33.333333\n1   ITA     12  22.222222                30           55.555556\n2   URU      4   7.407407                34           62.962963\n3   FRA      4   7.407407                38           70.370370\n4   ESP      3   5.555556                41           75.925926\n5   BRA      3   5.555556                44           81.481481\n6   ING      2   3.703704                46           85.185185\n7   CRO      2   3.703704                48           88.888889\n8   SUI      1   1.851852                49           90.740741\n9   SUE      1   1.851852                50           92.592593\n10  POR      1   1.851852                51           94.444444\n11  HOL      1   1.851852                52           96.296296\n12  GAL      1   1.851852                53           98.148148\n13  COL      1   1.851852                54          100.000000",
      "text/html": "<div>\n<style scoped>\n    .dataframe tbody tr th:only-of-type {\n        vertical-align: middle;\n    }\n\n    .dataframe tbody tr th {\n        vertical-align: top;\n    }\n\n    .dataframe thead th {\n        text-align: right;\n    }\n</style>\n<table border=\"1\" class=\"dataframe\">\n  <thead>\n    <tr style=\"text-align: right;\">\n      <th></th>\n      <th>Pais</th>\n      <th>count</th>\n      <th>percent</th>\n      <th>cumulative_count</th>\n      <th>cumulative_percent</th>\n    </tr>\n  </thead>\n  <tbody>\n    <tr>\n      <th>0</th>\n      <td>ARG</td>\n      <td>18</td>\n      <td>33.333333</td>\n      <td>18</td>\n      <td>33.333333</td>\n    </tr>\n    <tr>\n      <th>1</th>\n      <td>ITA</td>\n      <td>12</td>\n      <td>22.222222</td>\n      <td>30</td>\n      <td>55.555556</td>\n    </tr>\n    <tr>\n      <th>2</th>\n      <td>URU</td>\n      <td>4</td>\n      <td>7.407407</td>\n      <td>34</td>\n      <td>62.962963</td>\n    </tr>\n    <tr>\n      <th>3</th>\n      <td>FRA</td>\n      <td>4</td>\n      <td>7.407407</td>\n      <td>38</td>\n      <td>70.370370</td>\n    </tr>\n    <tr>\n      <th>4</th>\n      <td>ESP</td>\n      <td>3</td>\n      <td>5.555556</td>\n      <td>41</td>\n      <td>75.925926</td>\n    </tr>\n    <tr>\n      <th>5</th>\n      <td>BRA</td>\n      <td>3</td>\n      <td>5.555556</td>\n      <td>44</td>\n      <td>81.481481</td>\n    </tr>\n    <tr>\n      <th>6</th>\n      <td>ING</td>\n      <td>2</td>\n      <td>3.703704</td>\n      <td>46</td>\n      <td>85.185185</td>\n    </tr>\n    <tr>\n      <th>7</th>\n      <td>CRO</td>\n      <td>2</td>\n      <td>3.703704</td>\n      <td>48</td>\n      <td>88.888889</td>\n    </tr>\n    <tr>\n      <th>8</th>\n      <td>SUI</td>\n      <td>1</td>\n      <td>1.851852</td>\n      <td>49</td>\n      <td>90.740741</td>\n    </tr>\n    <tr>\n      <th>9</th>\n      <td>SUE</td>\n      <td>1</td>\n      <td>1.851852</td>\n      <td>50</td>\n      <td>92.592593</td>\n    </tr>\n    <tr>\n      <th>10</th>\n      <td>POR</td>\n      <td>1</td>\n      <td>1.851852</td>\n      <td>51</td>\n      <td>94.444444</td>\n    </tr>\n    <tr>\n      <th>11</th>\n      <td>HOL</td>\n      <td>1</td>\n      <td>1.851852</td>\n      <td>52</td>\n      <td>96.296296</td>\n    </tr>\n    <tr>\n      <th>12</th>\n      <td>GAL</td>\n      <td>1</td>\n      <td>1.851852</td>\n      <td>53</td>\n      <td>98.148148</td>\n    </tr>\n    <tr>\n      <th>13</th>\n      <td>COL</td>\n      <td>1</td>\n      <td>1.851852</td>\n      <td>54</td>\n      <td>100.000000</td>\n    </tr>\n  </tbody>\n</table>\n</div>"
     },
     "metadata": {},
     "output_type": "execute_result",
     "execution_count": 19
    }
   ],
   "source": [
    "Maradona = [\"Maradona\"]\n",
    "db_bplayer_Maradona = db_bplayer[db_bplayer.Eleccion.isin(Maradona)]\n",
    "db_bplayer_Maradona.stb.freq(['Pais'])"
   ],
   "metadata": {
    "collapsed": false,
    "pycharm": {
     "name": "#%%\n",
     "is_executing": false
    }
   }
  },
  {
   "cell_type": "code",
   "execution_count": null,
   "outputs": [],
   "source": [],
   "metadata": {
    "collapsed": false,
    "pycharm": {
     "name": "#%%"
    }
   }
  }
 ],
 "metadata": {
  "kernelspec": {
   "display_name": "Python 3",
   "language": "python",
   "name": "python3"
  },
  "language_info": {
   "codemirror_mode": {
    "name": "ipython",
    "version": 2
   },
   "file_extension": ".py",
   "mimetype": "text/x-python",
   "name": "python",
   "nbconvert_exporter": "python",
   "pygments_lexer": "ipython2",
   "version": "2.7.6"
  },
  "pycharm": {
   "stem_cell": {
    "cell_type": "raw",
    "source": [],
    "metadata": {
     "collapsed": false
    }
   }
  }
 },
 "nbformat": 4,
 "nbformat_minor": 0
}