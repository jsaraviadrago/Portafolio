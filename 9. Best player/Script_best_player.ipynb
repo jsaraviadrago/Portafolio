{
 "cells": [
  {
   "cell_type": "code",
   "execution_count": 24,
   "metadata": {
    "collapsed": true,
    "pycharm": {
     "is_executing": false
    }
   },
   "outputs": [],
   "source": [
    "import pandas as pd\n",
    "import sidetable as stb\n"
   ]
  },
  {
   "cell_type": "code",
   "execution_count": 25,
   "outputs": [],
   "source": [
    "db_bplayer = pd.read_csv(\"/Users/home/Documents/Mediums/Mejor_de_la_historia.csv\",\n",
    "                         encoding = \"ISO-8859-1\")"
   ],
   "metadata": {
    "collapsed": false,
    "pycharm": {
     "name": "#%%\n",
     "is_executing": false
    }
   }
  },
  {
   "cell_type": "code",
   "execution_count": 26,
   "outputs": [
    {
     "data": {
      "text/plain": "    Pais  count    percent  cumulative_count  cumulative_percent\n0    ARG    103  23.146067               103           23.146067\n1    ESP     71  15.955056               174           39.101124\n2    BRA     63  14.157303               237           53.258427\n3    ITA     40   8.988764               277           62.247191\n4    ING     27   6.067416               304           68.314607\n5    ALE     20   4.494382               324           72.808989\n6    FRA     16   3.595506               340           76.404494\n7    URU     12   2.696629               352           79.101124\n8    CHI     10   2.247191               362           81.348315\n9    HOL      8   1.797753               370           83.146067\n10   POR      6   1.348315               376           84.494382\n11   ESC      5   1.123596               381           85.617978\n12   CRO      5   1.123596               386           86.741573\n13   VEN      4   0.898876               390           87.640449\n14   SUE      4   0.898876               394           88.539326\n15   COL      4   0.898876               398           89.438202\n16   CAM      4   0.898876               402           90.337079\n17   PER      3   0.674157               405           91.011236\n18   NOR      3   0.674157               408           91.685393\n19   MEX      3   0.674157               411           92.359551\n20   IRL      3   0.674157               414           93.033708\n21   RUS      2   0.449438               416           93.483146\n22  NIRL      2   0.449438               418           93.932584\n23   NIG      2   0.449438               420           94.382022\n24   HUN      2   0.449438               422           94.831461\n25   GAL      2   0.449438               424           95.280899\n26   BUL      2   0.449438               426           95.730337\n27   BEL      2   0.449438               428           96.179775\n28   TUR      1   0.224719               429           96.404494\n29   SVN      1   0.224719               430           96.629213\n30   SVL      1   0.224719               431           96.853933\n31   SUI      1   0.224719               432           97.078652\n32   SER      1   0.224719               433           97.303371\n33   POL      1   0.224719               434           97.528090\n34   PAR      1   0.224719               435           97.752809\n35   MON      1   0.224719               436           97.977528\n36   MAR      1   0.224719               437           98.202247\n37   HON      1   0.224719               438           98.426966\n38   GHA      1   0.224719               439           98.651685\n39   ECU      1   0.224719               440           98.876404\n40   CHN      1   0.224719               441           99.101124\n41   BOL      1   0.224719               442           99.325843\n42  AUST      1   0.224719               443           99.550562\n43   AUS      1   0.224719               444           99.775281\n44   ARM      1   0.224719               445          100.000000",
      "text/html": "<div>\n<style scoped>\n    .dataframe tbody tr th:only-of-type {\n        vertical-align: middle;\n    }\n\n    .dataframe tbody tr th {\n        vertical-align: top;\n    }\n\n    .dataframe thead th {\n        text-align: right;\n    }\n</style>\n<table border=\"1\" class=\"dataframe\">\n  <thead>\n    <tr style=\"text-align: right;\">\n      <th></th>\n      <th>Pais</th>\n      <th>count</th>\n      <th>percent</th>\n      <th>cumulative_count</th>\n      <th>cumulative_percent</th>\n    </tr>\n  </thead>\n  <tbody>\n    <tr>\n      <th>0</th>\n      <td>ARG</td>\n      <td>103</td>\n      <td>23.146067</td>\n      <td>103</td>\n      <td>23.146067</td>\n    </tr>\n    <tr>\n      <th>1</th>\n      <td>ESP</td>\n      <td>71</td>\n      <td>15.955056</td>\n      <td>174</td>\n      <td>39.101124</td>\n    </tr>\n    <tr>\n      <th>2</th>\n      <td>BRA</td>\n      <td>63</td>\n      <td>14.157303</td>\n      <td>237</td>\n      <td>53.258427</td>\n    </tr>\n    <tr>\n      <th>3</th>\n      <td>ITA</td>\n      <td>40</td>\n      <td>8.988764</td>\n      <td>277</td>\n      <td>62.247191</td>\n    </tr>\n    <tr>\n      <th>4</th>\n      <td>ING</td>\n      <td>27</td>\n      <td>6.067416</td>\n      <td>304</td>\n      <td>68.314607</td>\n    </tr>\n    <tr>\n      <th>5</th>\n      <td>ALE</td>\n      <td>20</td>\n      <td>4.494382</td>\n      <td>324</td>\n      <td>72.808989</td>\n    </tr>\n    <tr>\n      <th>6</th>\n      <td>FRA</td>\n      <td>16</td>\n      <td>3.595506</td>\n      <td>340</td>\n      <td>76.404494</td>\n    </tr>\n    <tr>\n      <th>7</th>\n      <td>URU</td>\n      <td>12</td>\n      <td>2.696629</td>\n      <td>352</td>\n      <td>79.101124</td>\n    </tr>\n    <tr>\n      <th>8</th>\n      <td>CHI</td>\n      <td>10</td>\n      <td>2.247191</td>\n      <td>362</td>\n      <td>81.348315</td>\n    </tr>\n    <tr>\n      <th>9</th>\n      <td>HOL</td>\n      <td>8</td>\n      <td>1.797753</td>\n      <td>370</td>\n      <td>83.146067</td>\n    </tr>\n    <tr>\n      <th>10</th>\n      <td>POR</td>\n      <td>6</td>\n      <td>1.348315</td>\n      <td>376</td>\n      <td>84.494382</td>\n    </tr>\n    <tr>\n      <th>11</th>\n      <td>ESC</td>\n      <td>5</td>\n      <td>1.123596</td>\n      <td>381</td>\n      <td>85.617978</td>\n    </tr>\n    <tr>\n      <th>12</th>\n      <td>CRO</td>\n      <td>5</td>\n      <td>1.123596</td>\n      <td>386</td>\n      <td>86.741573</td>\n    </tr>\n    <tr>\n      <th>13</th>\n      <td>VEN</td>\n      <td>4</td>\n      <td>0.898876</td>\n      <td>390</td>\n      <td>87.640449</td>\n    </tr>\n    <tr>\n      <th>14</th>\n      <td>SUE</td>\n      <td>4</td>\n      <td>0.898876</td>\n      <td>394</td>\n      <td>88.539326</td>\n    </tr>\n    <tr>\n      <th>15</th>\n      <td>COL</td>\n      <td>4</td>\n      <td>0.898876</td>\n      <td>398</td>\n      <td>89.438202</td>\n    </tr>\n    <tr>\n      <th>16</th>\n      <td>CAM</td>\n      <td>4</td>\n      <td>0.898876</td>\n      <td>402</td>\n      <td>90.337079</td>\n    </tr>\n    <tr>\n      <th>17</th>\n      <td>PER</td>\n      <td>3</td>\n      <td>0.674157</td>\n      <td>405</td>\n      <td>91.011236</td>\n    </tr>\n    <tr>\n      <th>18</th>\n      <td>NOR</td>\n      <td>3</td>\n      <td>0.674157</td>\n      <td>408</td>\n      <td>91.685393</td>\n    </tr>\n    <tr>\n      <th>19</th>\n      <td>MEX</td>\n      <td>3</td>\n      <td>0.674157</td>\n      <td>411</td>\n      <td>92.359551</td>\n    </tr>\n    <tr>\n      <th>20</th>\n      <td>IRL</td>\n      <td>3</td>\n      <td>0.674157</td>\n      <td>414</td>\n      <td>93.033708</td>\n    </tr>\n    <tr>\n      <th>21</th>\n      <td>RUS</td>\n      <td>2</td>\n      <td>0.449438</td>\n      <td>416</td>\n      <td>93.483146</td>\n    </tr>\n    <tr>\n      <th>22</th>\n      <td>NIRL</td>\n      <td>2</td>\n      <td>0.449438</td>\n      <td>418</td>\n      <td>93.932584</td>\n    </tr>\n    <tr>\n      <th>23</th>\n      <td>NIG</td>\n      <td>2</td>\n      <td>0.449438</td>\n      <td>420</td>\n      <td>94.382022</td>\n    </tr>\n    <tr>\n      <th>24</th>\n      <td>HUN</td>\n      <td>2</td>\n      <td>0.449438</td>\n      <td>422</td>\n      <td>94.831461</td>\n    </tr>\n    <tr>\n      <th>25</th>\n      <td>GAL</td>\n      <td>2</td>\n      <td>0.449438</td>\n      <td>424</td>\n      <td>95.280899</td>\n    </tr>\n    <tr>\n      <th>26</th>\n      <td>BUL</td>\n      <td>2</td>\n      <td>0.449438</td>\n      <td>426</td>\n      <td>95.730337</td>\n    </tr>\n    <tr>\n      <th>27</th>\n      <td>BEL</td>\n      <td>2</td>\n      <td>0.449438</td>\n      <td>428</td>\n      <td>96.179775</td>\n    </tr>\n    <tr>\n      <th>28</th>\n      <td>TUR</td>\n      <td>1</td>\n      <td>0.224719</td>\n      <td>429</td>\n      <td>96.404494</td>\n    </tr>\n    <tr>\n      <th>29</th>\n      <td>SVN</td>\n      <td>1</td>\n      <td>0.224719</td>\n      <td>430</td>\n      <td>96.629213</td>\n    </tr>\n    <tr>\n      <th>30</th>\n      <td>SVL</td>\n      <td>1</td>\n      <td>0.224719</td>\n      <td>431</td>\n      <td>96.853933</td>\n    </tr>\n    <tr>\n      <th>31</th>\n      <td>SUI</td>\n      <td>1</td>\n      <td>0.224719</td>\n      <td>432</td>\n      <td>97.078652</td>\n    </tr>\n    <tr>\n      <th>32</th>\n      <td>SER</td>\n      <td>1</td>\n      <td>0.224719</td>\n      <td>433</td>\n      <td>97.303371</td>\n    </tr>\n    <tr>\n      <th>33</th>\n      <td>POL</td>\n      <td>1</td>\n      <td>0.224719</td>\n      <td>434</td>\n      <td>97.528090</td>\n    </tr>\n    <tr>\n      <th>34</th>\n      <td>PAR</td>\n      <td>1</td>\n      <td>0.224719</td>\n      <td>435</td>\n      <td>97.752809</td>\n    </tr>\n    <tr>\n      <th>35</th>\n      <td>MON</td>\n      <td>1</td>\n      <td>0.224719</td>\n      <td>436</td>\n      <td>97.977528</td>\n    </tr>\n    <tr>\n      <th>36</th>\n      <td>MAR</td>\n      <td>1</td>\n      <td>0.224719</td>\n      <td>437</td>\n      <td>98.202247</td>\n    </tr>\n    <tr>\n      <th>37</th>\n      <td>HON</td>\n      <td>1</td>\n      <td>0.224719</td>\n      <td>438</td>\n      <td>98.426966</td>\n    </tr>\n    <tr>\n      <th>38</th>\n      <td>GHA</td>\n      <td>1</td>\n      <td>0.224719</td>\n      <td>439</td>\n      <td>98.651685</td>\n    </tr>\n    <tr>\n      <th>39</th>\n      <td>ECU</td>\n      <td>1</td>\n      <td>0.224719</td>\n      <td>440</td>\n      <td>98.876404</td>\n    </tr>\n    <tr>\n      <th>40</th>\n      <td>CHN</td>\n      <td>1</td>\n      <td>0.224719</td>\n      <td>441</td>\n      <td>99.101124</td>\n    </tr>\n    <tr>\n      <th>41</th>\n      <td>BOL</td>\n      <td>1</td>\n      <td>0.224719</td>\n      <td>442</td>\n      <td>99.325843</td>\n    </tr>\n    <tr>\n      <th>42</th>\n      <td>AUST</td>\n      <td>1</td>\n      <td>0.224719</td>\n      <td>443</td>\n      <td>99.550562</td>\n    </tr>\n    <tr>\n      <th>43</th>\n      <td>AUS</td>\n      <td>1</td>\n      <td>0.224719</td>\n      <td>444</td>\n      <td>99.775281</td>\n    </tr>\n    <tr>\n      <th>44</th>\n      <td>ARM</td>\n      <td>1</td>\n      <td>0.224719</td>\n      <td>445</td>\n      <td>100.000000</td>\n    </tr>\n  </tbody>\n</table>\n</div>"
     },
     "metadata": {},
     "output_type": "execute_result",
     "execution_count": 26
    }
   ],
   "source": [
    "db_bplayer.stb.freq(['Pais'])"
   ],
   "metadata": {
    "collapsed": false,
    "pycharm": {
     "name": "#%%\n",
     "is_executing": false
    }
   }
  },
  {
   "cell_type": "code",
   "execution_count": 27,
   "outputs": [
    {
     "data": {
      "text/plain": "    Pais  count    percent  cumulative_count  cumulative_percent\n0    ESP     66  25.384615                66           25.384615\n1    ARG     56  21.538462               122           46.923077\n2    ING     21   8.076923               143           55.000000\n3    ALE     15   5.769231               158           60.769231\n4    BRA     13   5.000000               171           65.769231\n5    FRA     10   3.846154               181           69.615385\n6    ITA      9   3.461538               190           73.076923\n7    CHI      7   2.692308               197           75.769231\n8    HOL      6   2.307692               203           78.076923\n9    URU      5   1.923077               208           80.000000\n10   VEN      3   1.153846               211           81.153846\n11   NOR      3   1.153846               214           82.307692\n12   MEX      3   1.153846               217           83.461538\n13   IRL      3   1.153846               220           84.615385\n14   ESC      3   1.153846               223           85.769231\n15   CRO      3   1.153846               226           86.923077\n16   SUE      2   0.769231               228           87.692308\n17   POR      2   0.769231               230           88.461538\n18   PER      2   0.769231               232           89.230769\n19   NIG      2   0.769231               234           90.000000\n20   COL      2   0.769231               236           90.769231\n21   CAM      2   0.769231               238           91.538462\n22   BUL      2   0.769231               240           92.307692\n23   BEL      2   0.769231               242           93.076923\n24   TUR      1   0.384615               243           93.461538\n25   SVN      1   0.384615               244           93.846154\n26   SVL      1   0.384615               245           94.230769\n27   SER      1   0.384615               246           94.615385\n28   RUS      1   0.384615               247           95.000000\n29   POL      1   0.384615               248           95.384615\n30   PAR      1   0.384615               249           95.769231\n31  NIRL      1   0.384615               250           96.153846\n32   MON      1   0.384615               251           96.538462\n33   MAR      1   0.384615               252           96.923077\n34   HON      1   0.384615               253           97.307692\n35   GHA      1   0.384615               254           97.692308\n36   GAL      1   0.384615               255           98.076923\n37   CHN      1   0.384615               256           98.461538\n38   BOL      1   0.384615               257           98.846154\n39  AUST      1   0.384615               258           99.230769\n40   AUS      1   0.384615               259           99.615385\n41   ARM      1   0.384615               260          100.000000",
      "text/html": "<div>\n<style scoped>\n    .dataframe tbody tr th:only-of-type {\n        vertical-align: middle;\n    }\n\n    .dataframe tbody tr th {\n        vertical-align: top;\n    }\n\n    .dataframe thead th {\n        text-align: right;\n    }\n</style>\n<table border=\"1\" class=\"dataframe\">\n  <thead>\n    <tr style=\"text-align: right;\">\n      <th></th>\n      <th>Pais</th>\n      <th>count</th>\n      <th>percent</th>\n      <th>cumulative_count</th>\n      <th>cumulative_percent</th>\n    </tr>\n  </thead>\n  <tbody>\n    <tr>\n      <th>0</th>\n      <td>ESP</td>\n      <td>66</td>\n      <td>25.384615</td>\n      <td>66</td>\n      <td>25.384615</td>\n    </tr>\n    <tr>\n      <th>1</th>\n      <td>ARG</td>\n      <td>56</td>\n      <td>21.538462</td>\n      <td>122</td>\n      <td>46.923077</td>\n    </tr>\n    <tr>\n      <th>2</th>\n      <td>ING</td>\n      <td>21</td>\n      <td>8.076923</td>\n      <td>143</td>\n      <td>55.000000</td>\n    </tr>\n    <tr>\n      <th>3</th>\n      <td>ALE</td>\n      <td>15</td>\n      <td>5.769231</td>\n      <td>158</td>\n      <td>60.769231</td>\n    </tr>\n    <tr>\n      <th>4</th>\n      <td>BRA</td>\n      <td>13</td>\n      <td>5.000000</td>\n      <td>171</td>\n      <td>65.769231</td>\n    </tr>\n    <tr>\n      <th>5</th>\n      <td>FRA</td>\n      <td>10</td>\n      <td>3.846154</td>\n      <td>181</td>\n      <td>69.615385</td>\n    </tr>\n    <tr>\n      <th>6</th>\n      <td>ITA</td>\n      <td>9</td>\n      <td>3.461538</td>\n      <td>190</td>\n      <td>73.076923</td>\n    </tr>\n    <tr>\n      <th>7</th>\n      <td>CHI</td>\n      <td>7</td>\n      <td>2.692308</td>\n      <td>197</td>\n      <td>75.769231</td>\n    </tr>\n    <tr>\n      <th>8</th>\n      <td>HOL</td>\n      <td>6</td>\n      <td>2.307692</td>\n      <td>203</td>\n      <td>78.076923</td>\n    </tr>\n    <tr>\n      <th>9</th>\n      <td>URU</td>\n      <td>5</td>\n      <td>1.923077</td>\n      <td>208</td>\n      <td>80.000000</td>\n    </tr>\n    <tr>\n      <th>10</th>\n      <td>VEN</td>\n      <td>3</td>\n      <td>1.153846</td>\n      <td>211</td>\n      <td>81.153846</td>\n    </tr>\n    <tr>\n      <th>11</th>\n      <td>NOR</td>\n      <td>3</td>\n      <td>1.153846</td>\n      <td>214</td>\n      <td>82.307692</td>\n    </tr>\n    <tr>\n      <th>12</th>\n      <td>MEX</td>\n      <td>3</td>\n      <td>1.153846</td>\n      <td>217</td>\n      <td>83.461538</td>\n    </tr>\n    <tr>\n      <th>13</th>\n      <td>IRL</td>\n      <td>3</td>\n      <td>1.153846</td>\n      <td>220</td>\n      <td>84.615385</td>\n    </tr>\n    <tr>\n      <th>14</th>\n      <td>ESC</td>\n      <td>3</td>\n      <td>1.153846</td>\n      <td>223</td>\n      <td>85.769231</td>\n    </tr>\n    <tr>\n      <th>15</th>\n      <td>CRO</td>\n      <td>3</td>\n      <td>1.153846</td>\n      <td>226</td>\n      <td>86.923077</td>\n    </tr>\n    <tr>\n      <th>16</th>\n      <td>SUE</td>\n      <td>2</td>\n      <td>0.769231</td>\n      <td>228</td>\n      <td>87.692308</td>\n    </tr>\n    <tr>\n      <th>17</th>\n      <td>POR</td>\n      <td>2</td>\n      <td>0.769231</td>\n      <td>230</td>\n      <td>88.461538</td>\n    </tr>\n    <tr>\n      <th>18</th>\n      <td>PER</td>\n      <td>2</td>\n      <td>0.769231</td>\n      <td>232</td>\n      <td>89.230769</td>\n    </tr>\n    <tr>\n      <th>19</th>\n      <td>NIG</td>\n      <td>2</td>\n      <td>0.769231</td>\n      <td>234</td>\n      <td>90.000000</td>\n    </tr>\n    <tr>\n      <th>20</th>\n      <td>COL</td>\n      <td>2</td>\n      <td>0.769231</td>\n      <td>236</td>\n      <td>90.769231</td>\n    </tr>\n    <tr>\n      <th>21</th>\n      <td>CAM</td>\n      <td>2</td>\n      <td>0.769231</td>\n      <td>238</td>\n      <td>91.538462</td>\n    </tr>\n    <tr>\n      <th>22</th>\n      <td>BUL</td>\n      <td>2</td>\n      <td>0.769231</td>\n      <td>240</td>\n      <td>92.307692</td>\n    </tr>\n    <tr>\n      <th>23</th>\n      <td>BEL</td>\n      <td>2</td>\n      <td>0.769231</td>\n      <td>242</td>\n      <td>93.076923</td>\n    </tr>\n    <tr>\n      <th>24</th>\n      <td>TUR</td>\n      <td>1</td>\n      <td>0.384615</td>\n      <td>243</td>\n      <td>93.461538</td>\n    </tr>\n    <tr>\n      <th>25</th>\n      <td>SVN</td>\n      <td>1</td>\n      <td>0.384615</td>\n      <td>244</td>\n      <td>93.846154</td>\n    </tr>\n    <tr>\n      <th>26</th>\n      <td>SVL</td>\n      <td>1</td>\n      <td>0.384615</td>\n      <td>245</td>\n      <td>94.230769</td>\n    </tr>\n    <tr>\n      <th>27</th>\n      <td>SER</td>\n      <td>1</td>\n      <td>0.384615</td>\n      <td>246</td>\n      <td>94.615385</td>\n    </tr>\n    <tr>\n      <th>28</th>\n      <td>RUS</td>\n      <td>1</td>\n      <td>0.384615</td>\n      <td>247</td>\n      <td>95.000000</td>\n    </tr>\n    <tr>\n      <th>29</th>\n      <td>POL</td>\n      <td>1</td>\n      <td>0.384615</td>\n      <td>248</td>\n      <td>95.384615</td>\n    </tr>\n    <tr>\n      <th>30</th>\n      <td>PAR</td>\n      <td>1</td>\n      <td>0.384615</td>\n      <td>249</td>\n      <td>95.769231</td>\n    </tr>\n    <tr>\n      <th>31</th>\n      <td>NIRL</td>\n      <td>1</td>\n      <td>0.384615</td>\n      <td>250</td>\n      <td>96.153846</td>\n    </tr>\n    <tr>\n      <th>32</th>\n      <td>MON</td>\n      <td>1</td>\n      <td>0.384615</td>\n      <td>251</td>\n      <td>96.538462</td>\n    </tr>\n    <tr>\n      <th>33</th>\n      <td>MAR</td>\n      <td>1</td>\n      <td>0.384615</td>\n      <td>252</td>\n      <td>96.923077</td>\n    </tr>\n    <tr>\n      <th>34</th>\n      <td>HON</td>\n      <td>1</td>\n      <td>0.384615</td>\n      <td>253</td>\n      <td>97.307692</td>\n    </tr>\n    <tr>\n      <th>35</th>\n      <td>GHA</td>\n      <td>1</td>\n      <td>0.384615</td>\n      <td>254</td>\n      <td>97.692308</td>\n    </tr>\n    <tr>\n      <th>36</th>\n      <td>GAL</td>\n      <td>1</td>\n      <td>0.384615</td>\n      <td>255</td>\n      <td>98.076923</td>\n    </tr>\n    <tr>\n      <th>37</th>\n      <td>CHN</td>\n      <td>1</td>\n      <td>0.384615</td>\n      <td>256</td>\n      <td>98.461538</td>\n    </tr>\n    <tr>\n      <th>38</th>\n      <td>BOL</td>\n      <td>1</td>\n      <td>0.384615</td>\n      <td>257</td>\n      <td>98.846154</td>\n    </tr>\n    <tr>\n      <th>39</th>\n      <td>AUST</td>\n      <td>1</td>\n      <td>0.384615</td>\n      <td>258</td>\n      <td>99.230769</td>\n    </tr>\n    <tr>\n      <th>40</th>\n      <td>AUS</td>\n      <td>1</td>\n      <td>0.384615</td>\n      <td>259</td>\n      <td>99.615385</td>\n    </tr>\n    <tr>\n      <th>41</th>\n      <td>ARM</td>\n      <td>1</td>\n      <td>0.384615</td>\n      <td>260</td>\n      <td>100.000000</td>\n    </tr>\n  </tbody>\n</table>\n</div>"
     },
     "metadata": {},
     "output_type": "execute_result",
     "execution_count": 27
    }
   ],
   "source": [
    "Messi = [\"Messi\"]\n",
    "db_bplayer_Messi = db_bplayer[db_bplayer.Eleccion.isin(Messi)]\n",
    "db_bplayer_Messi.stb.freq(['Pais'])\n"
   ],
   "metadata": {
    "collapsed": false,
    "pycharm": {
     "name": "#%%\n",
     "is_executing": false
    }
   }
  },
  {
   "cell_type": "code",
   "execution_count": 28,
   "outputs": [
    {
     "data": {
      "text/plain": "    Pais  count    percent  cumulative_count  cumulative_percent\n0    BRA     45  37.190083                45           37.190083\n1    ARG     26  21.487603                71           58.677686\n2    ITA     16  13.223140                87           71.900826\n3    ALE      4   3.305785                91           75.206612\n4    URU      3   2.479339                94           77.685950\n5    POR      3   2.479339                97           80.165289\n6    ING      3   2.479339               100           82.644628\n7    HUN      2   1.652893               102           84.297521\n8    FRA      2   1.652893               104           85.950413\n9    ESP      2   1.652893               106           87.603306\n10   ESC      2   1.652893               108           89.256198\n11   CHI      2   1.652893               110           90.909091\n12   CAM      2   1.652893               112           92.561983\n13   VEN      1   0.826446               113           93.388430\n14   SUE      1   0.826446               114           94.214876\n15   RUS      1   0.826446               115           95.041322\n16   PER      1   0.826446               116           95.867769\n17  NIRL      1   0.826446               117           96.694215\n18   HOL      1   0.826446               118           97.520661\n19   ECU      1   0.826446               119           98.347107\n20   CRO      1   0.826446               120           99.173554\n21   COL      1   0.826446               121          100.000000",
      "text/html": "<div>\n<style scoped>\n    .dataframe tbody tr th:only-of-type {\n        vertical-align: middle;\n    }\n\n    .dataframe tbody tr th {\n        vertical-align: top;\n    }\n\n    .dataframe thead th {\n        text-align: right;\n    }\n</style>\n<table border=\"1\" class=\"dataframe\">\n  <thead>\n    <tr style=\"text-align: right;\">\n      <th></th>\n      <th>Pais</th>\n      <th>count</th>\n      <th>percent</th>\n      <th>cumulative_count</th>\n      <th>cumulative_percent</th>\n    </tr>\n  </thead>\n  <tbody>\n    <tr>\n      <th>0</th>\n      <td>BRA</td>\n      <td>45</td>\n      <td>37.190083</td>\n      <td>45</td>\n      <td>37.190083</td>\n    </tr>\n    <tr>\n      <th>1</th>\n      <td>ARG</td>\n      <td>26</td>\n      <td>21.487603</td>\n      <td>71</td>\n      <td>58.677686</td>\n    </tr>\n    <tr>\n      <th>2</th>\n      <td>ITA</td>\n      <td>16</td>\n      <td>13.223140</td>\n      <td>87</td>\n      <td>71.900826</td>\n    </tr>\n    <tr>\n      <th>3</th>\n      <td>ALE</td>\n      <td>4</td>\n      <td>3.305785</td>\n      <td>91</td>\n      <td>75.206612</td>\n    </tr>\n    <tr>\n      <th>4</th>\n      <td>URU</td>\n      <td>3</td>\n      <td>2.479339</td>\n      <td>94</td>\n      <td>77.685950</td>\n    </tr>\n    <tr>\n      <th>5</th>\n      <td>POR</td>\n      <td>3</td>\n      <td>2.479339</td>\n      <td>97</td>\n      <td>80.165289</td>\n    </tr>\n    <tr>\n      <th>6</th>\n      <td>ING</td>\n      <td>3</td>\n      <td>2.479339</td>\n      <td>100</td>\n      <td>82.644628</td>\n    </tr>\n    <tr>\n      <th>7</th>\n      <td>HUN</td>\n      <td>2</td>\n      <td>1.652893</td>\n      <td>102</td>\n      <td>84.297521</td>\n    </tr>\n    <tr>\n      <th>8</th>\n      <td>FRA</td>\n      <td>2</td>\n      <td>1.652893</td>\n      <td>104</td>\n      <td>85.950413</td>\n    </tr>\n    <tr>\n      <th>9</th>\n      <td>ESP</td>\n      <td>2</td>\n      <td>1.652893</td>\n      <td>106</td>\n      <td>87.603306</td>\n    </tr>\n    <tr>\n      <th>10</th>\n      <td>ESC</td>\n      <td>2</td>\n      <td>1.652893</td>\n      <td>108</td>\n      <td>89.256198</td>\n    </tr>\n    <tr>\n      <th>11</th>\n      <td>CHI</td>\n      <td>2</td>\n      <td>1.652893</td>\n      <td>110</td>\n      <td>90.909091</td>\n    </tr>\n    <tr>\n      <th>12</th>\n      <td>CAM</td>\n      <td>2</td>\n      <td>1.652893</td>\n      <td>112</td>\n      <td>92.561983</td>\n    </tr>\n    <tr>\n      <th>13</th>\n      <td>VEN</td>\n      <td>1</td>\n      <td>0.826446</td>\n      <td>113</td>\n      <td>93.388430</td>\n    </tr>\n    <tr>\n      <th>14</th>\n      <td>SUE</td>\n      <td>1</td>\n      <td>0.826446</td>\n      <td>114</td>\n      <td>94.214876</td>\n    </tr>\n    <tr>\n      <th>15</th>\n      <td>RUS</td>\n      <td>1</td>\n      <td>0.826446</td>\n      <td>115</td>\n      <td>95.041322</td>\n    </tr>\n    <tr>\n      <th>16</th>\n      <td>PER</td>\n      <td>1</td>\n      <td>0.826446</td>\n      <td>116</td>\n      <td>95.867769</td>\n    </tr>\n    <tr>\n      <th>17</th>\n      <td>NIRL</td>\n      <td>1</td>\n      <td>0.826446</td>\n      <td>117</td>\n      <td>96.694215</td>\n    </tr>\n    <tr>\n      <th>18</th>\n      <td>HOL</td>\n      <td>1</td>\n      <td>0.826446</td>\n      <td>118</td>\n      <td>97.520661</td>\n    </tr>\n    <tr>\n      <th>19</th>\n      <td>ECU</td>\n      <td>1</td>\n      <td>0.826446</td>\n      <td>119</td>\n      <td>98.347107</td>\n    </tr>\n    <tr>\n      <th>20</th>\n      <td>CRO</td>\n      <td>1</td>\n      <td>0.826446</td>\n      <td>120</td>\n      <td>99.173554</td>\n    </tr>\n    <tr>\n      <th>21</th>\n      <td>COL</td>\n      <td>1</td>\n      <td>0.826446</td>\n      <td>121</td>\n      <td>100.000000</td>\n    </tr>\n  </tbody>\n</table>\n</div>"
     },
     "metadata": {},
     "output_type": "execute_result",
     "execution_count": 28
    }
   ],
   "source": [
    "Pele = [\"Pele\"]\n",
    "db_bplayer_Pele = db_bplayer[db_bplayer.Eleccion.isin(Pele)]\n",
    "db_bplayer_Pele.stb.freq(['Pais'])"
   ],
   "metadata": {
    "collapsed": false,
    "pycharm": {
     "name": "#%%\n",
     "is_executing": false
    }
   }
  },
  {
   "cell_type": "code",
   "execution_count": 29,
   "outputs": [
    {
     "data": {
      "text/plain": "   Pais  count  percent  cumulative_count  cumulative_percent\n0   ARG     21  32.8125                21             32.8125\n1   ITA     15  23.4375                36             56.2500\n2   BRA      5   7.8125                41             64.0625\n3   URU      4   6.2500                45             70.3125\n4   FRA      4   6.2500                49             76.5625\n5   ING      3   4.6875                52             81.2500\n6   ESP      3   4.6875                55             85.9375\n7   SUI      1   1.5625                56             87.5000\n8   SUE      1   1.5625                57             89.0625\n9   POR      1   1.5625                58             90.6250\n10  HOL      1   1.5625                59             92.1875\n11  GAL      1   1.5625                60             93.7500\n12  CRO      1   1.5625                61             95.3125\n13  COL      1   1.5625                62             96.8750\n14  CHI      1   1.5625                63             98.4375\n15  ALE      1   1.5625                64            100.0000",
      "text/html": "<div>\n<style scoped>\n    .dataframe tbody tr th:only-of-type {\n        vertical-align: middle;\n    }\n\n    .dataframe tbody tr th {\n        vertical-align: top;\n    }\n\n    .dataframe thead th {\n        text-align: right;\n    }\n</style>\n<table border=\"1\" class=\"dataframe\">\n  <thead>\n    <tr style=\"text-align: right;\">\n      <th></th>\n      <th>Pais</th>\n      <th>count</th>\n      <th>percent</th>\n      <th>cumulative_count</th>\n      <th>cumulative_percent</th>\n    </tr>\n  </thead>\n  <tbody>\n    <tr>\n      <th>0</th>\n      <td>ARG</td>\n      <td>21</td>\n      <td>32.8125</td>\n      <td>21</td>\n      <td>32.8125</td>\n    </tr>\n    <tr>\n      <th>1</th>\n      <td>ITA</td>\n      <td>15</td>\n      <td>23.4375</td>\n      <td>36</td>\n      <td>56.2500</td>\n    </tr>\n    <tr>\n      <th>2</th>\n      <td>BRA</td>\n      <td>5</td>\n      <td>7.8125</td>\n      <td>41</td>\n      <td>64.0625</td>\n    </tr>\n    <tr>\n      <th>3</th>\n      <td>URU</td>\n      <td>4</td>\n      <td>6.2500</td>\n      <td>45</td>\n      <td>70.3125</td>\n    </tr>\n    <tr>\n      <th>4</th>\n      <td>FRA</td>\n      <td>4</td>\n      <td>6.2500</td>\n      <td>49</td>\n      <td>76.5625</td>\n    </tr>\n    <tr>\n      <th>5</th>\n      <td>ING</td>\n      <td>3</td>\n      <td>4.6875</td>\n      <td>52</td>\n      <td>81.2500</td>\n    </tr>\n    <tr>\n      <th>6</th>\n      <td>ESP</td>\n      <td>3</td>\n      <td>4.6875</td>\n      <td>55</td>\n      <td>85.9375</td>\n    </tr>\n    <tr>\n      <th>7</th>\n      <td>SUI</td>\n      <td>1</td>\n      <td>1.5625</td>\n      <td>56</td>\n      <td>87.5000</td>\n    </tr>\n    <tr>\n      <th>8</th>\n      <td>SUE</td>\n      <td>1</td>\n      <td>1.5625</td>\n      <td>57</td>\n      <td>89.0625</td>\n    </tr>\n    <tr>\n      <th>9</th>\n      <td>POR</td>\n      <td>1</td>\n      <td>1.5625</td>\n      <td>58</td>\n      <td>90.6250</td>\n    </tr>\n    <tr>\n      <th>10</th>\n      <td>HOL</td>\n      <td>1</td>\n      <td>1.5625</td>\n      <td>59</td>\n      <td>92.1875</td>\n    </tr>\n    <tr>\n      <th>11</th>\n      <td>GAL</td>\n      <td>1</td>\n      <td>1.5625</td>\n      <td>60</td>\n      <td>93.7500</td>\n    </tr>\n    <tr>\n      <th>12</th>\n      <td>CRO</td>\n      <td>1</td>\n      <td>1.5625</td>\n      <td>61</td>\n      <td>95.3125</td>\n    </tr>\n    <tr>\n      <th>13</th>\n      <td>COL</td>\n      <td>1</td>\n      <td>1.5625</td>\n      <td>62</td>\n      <td>96.8750</td>\n    </tr>\n    <tr>\n      <th>14</th>\n      <td>CHI</td>\n      <td>1</td>\n      <td>1.5625</td>\n      <td>63</td>\n      <td>98.4375</td>\n    </tr>\n    <tr>\n      <th>15</th>\n      <td>ALE</td>\n      <td>1</td>\n      <td>1.5625</td>\n      <td>64</td>\n      <td>100.0000</td>\n    </tr>\n  </tbody>\n</table>\n</div>"
     },
     "metadata": {},
     "output_type": "execute_result",
     "execution_count": 29
    }
   ],
   "source": [
    "Maradona = [\"Maradona\"]\n",
    "db_bplayer_Maradona = db_bplayer[db_bplayer.Eleccion.isin(Maradona)]\n",
    "db_bplayer_Maradona.stb.freq(['Pais'])"
   ],
   "metadata": {
    "collapsed": false,
    "pycharm": {
     "name": "#%%\n",
     "is_executing": false
    }
   }
  },
  {
   "cell_type": "code",
   "execution_count": null,
   "outputs": [],
   "source": [],
   "metadata": {
    "collapsed": false,
    "pycharm": {
     "name": "#%%"
    }
   }
  }
 ],
 "metadata": {
  "kernelspec": {
   "display_name": "Python 3",
   "language": "python",
   "name": "python3"
  },
  "language_info": {
   "codemirror_mode": {
    "name": "ipython",
    "version": 2
   },
   "file_extension": ".py",
   "mimetype": "text/x-python",
   "name": "python",
   "nbconvert_exporter": "python",
   "pygments_lexer": "ipython2",
   "version": "2.7.6"
  },
  "pycharm": {
   "stem_cell": {
    "cell_type": "raw",
    "source": [],
    "metadata": {
     "collapsed": false
    }
   }
  }
 },
 "nbformat": 4,
 "nbformat_minor": 0
}