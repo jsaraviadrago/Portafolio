{
 "cells": [
  {
   "cell_type": "code",
   "execution_count": 1,
   "metadata": {
    "collapsed": true,
    "pycharm": {
     "is_executing": false
    }
   },
   "outputs": [],
   "source": [
    "import pandas as pd\n",
    "import numpy as np\n",
    "import matplotlib.pyplot as plt"
   ]
  },
  {
   "cell_type": "code",
   "execution_count": 2,
   "outputs": [],
   "source": [
    "#Mundiales de futbol\n",
    "db = pd.read_csv(\"/Users/home/Dropbox/Databases/fifa-world-cup/WorldCupMatches.csv\")\n",
    "\n"
   ],
   "metadata": {
    "collapsed": false,
    "pycharm": {
     "name": "#%%\n",
     "is_executing": false
    }
   }
  },
  {
   "cell_type": "code",
   "execution_count": 3,
   "metadata": {
    "pycharm": {
     "is_executing": false,
     "name": "#%%\n"
    }
   },
   "outputs": [],
   "source": [
    "db = db[['Year', 'Home Team Name', 'Home Team Goals',\n",
    "         'Away Team Goals', 'Away Team Name']]"
   ]
  },
  {
   "cell_type": "code",
   "execution_count": 4,
   "metadata": {
    "pycharm": {
     "is_executing": false,
     "name": "#%%\n"
    }
   },
   "outputs": [],
   "source": [
    "#Aggregated information from world cups\n",
    "db3 = pd.read_csv(\"/Users/home/Dropbox/Databases/fifa-world-cup/WorldCups.csv\")\n",
    "# Tranforms the attendance into an integer\n",
    "db3['Attendance']=db3['Attendance'].replace('\\.','',regex=True).astype(int)\n",
    "db3 = db3.replace('Germany FR', 'Germany')\n",
    "db3.at[16, 'Country'] = 'Korea Republic'\n"
   ]
  },
  {
   "cell_type": "code",
   "execution_count": 5,
   "metadata": {
    "pycharm": {
     "is_executing": false,
     "name": "#%%\n"
    }
   },
   "outputs": [
    {
     "name": "stderr",
     "text": [
      "/Library/Frameworks/Python.framework/Versions/3.7/lib/python3.7/site-packages/ipykernel_launcher.py:41: SettingWithCopyWarning: \nA value is trying to be set on a copy of a slice from a DataFrame.\nTry using .loc[row_indexer,col_indexer] = value instead\n\nSee the caveats in the documentation: https://pandas.pydata.org/pandas-docs/stable/user_guide/indexing.html#returning-a-view-versus-a-copy\n/Library/Frameworks/Python.framework/Versions/3.7/lib/python3.7/site-packages/ipykernel_launcher.py:42: SettingWithCopyWarning: \nA value is trying to be set on a copy of a slice from a DataFrame.\nTry using .loc[row_indexer,col_indexer] = value instead\n\nSee the caveats in the documentation: https://pandas.pydata.org/pandas-docs/stable/user_guide/indexing.html#returning-a-view-versus-a-copy\n/Library/Frameworks/Python.framework/Versions/3.7/lib/python3.7/site-packages/ipykernel_launcher.py:43: SettingWithCopyWarning: \nA value is trying to be set on a copy of a slice from a DataFrame.\nTry using .loc[row_indexer,col_indexer] = value instead\n\nSee the caveats in the documentation: https://pandas.pydata.org/pandas-docs/stable/user_guide/indexing.html#returning-a-view-versus-a-copy\n/Library/Frameworks/Python.framework/Versions/3.7/lib/python3.7/site-packages/ipykernel_launcher.py:44: SettingWithCopyWarning: \nA value is trying to be set on a copy of a slice from a DataFrame.\nTry using .loc[row_indexer,col_indexer] = value instead\n\nSee the caveats in the documentation: https://pandas.pydata.org/pandas-docs/stable/user_guide/indexing.html#returning-a-view-versus-a-copy\n"
     ],
     "output_type": "stream"
    }
   ],
   "source": [
    "# World cup 2018\n",
    "\n",
    "db2 = pd.read_csv(\"/Users/home/Dropbox/Databases/fifa-world-cup/Cup.Russia.Matches.csv\")\n",
    "\n",
    "# Order the data to make all aggregate data\n",
    "db2 = db2[['Home Team',\n",
    "           'Home Team Goals',  'Away Team Goals',\n",
    "           'Away Team', 'Total Goals', 'Attendance']]\n",
    "\n",
    "db2['Year'] = 2018\n",
    "db2['Country'] = 'Russia'\n",
    "db2['GoalsScored'] = db2['Total Goals'].sum()\n",
    "\n",
    "# Number of  Qualified teams\n",
    "\n",
    "# Extract useful columns\n",
    "db2_1 = db2['Home Team']\n",
    "db2_2 = db2['Away Team']\n",
    "\n",
    "# Rename columns to merge\n",
    "db2_1.columns = ['Teams']\n",
    "db2_2.columns = ['Teams']\n",
    "\n",
    "# Row binding\n",
    "data_merging = [db2_1, db2_2]\n",
    "db2_12 = pd.concat(data_merging)\n",
    "\n",
    "# Extract only unique cases\n",
    "number = len(db2_12.unique().tolist())\n",
    "db2['Qualifiedteams'] =  number\n",
    "\n",
    "# Calculate total attendance and number of matches playes\n",
    "db2['MatchesPlayed'] = db2['Home Team'].count()\n",
    "db2['Total_attendance'] = db2['Attendance'].sum()\n",
    "\n",
    "# Filter columns\n",
    "db2_aggregation_var = db2[['Year', 'Country', 'GoalsScored',\n",
    "                           'Qualifiedteams', 'MatchesPlayed',\n",
    "                           'Total_attendance']]\n",
    "# Create missing columns\n",
    "db2_aggregation_var['Winner'] = 'France'\n",
    "db2_aggregation_var['Runners-Up'] = 'Croatia' \n",
    "db2_aggregation_var['Third'] = 'Belgium'                    \n",
    "db2_aggregation_var['Fourth'] = 'England' \n",
    "\n",
    "# Re organize columns\n",
    "db2_aggregation_var = db2_aggregation_var[['Year', 'Country',\n",
    "                                           'Winner', 'Runners-Up',\n",
    "                                           'Third', 'Fourth', \n",
    "                                           'GoalsScored', 'Qualifiedteams',\n",
    "                                           'MatchesPlayed', 'Total_attendance']]                    \n",
    "\n",
    "# Rename columns to bind\n",
    "db2_aggregation_var.columns =['Year', 'Country',\n",
    "                                           'Winner', 'Runners-Up',\n",
    "                                           'Third', 'Fourth', \n",
    "                                           'GoalsScored', 'QualifiedTeams',\n",
    "                                           'MatchesPlayed', 'Attendance']                   \n",
    "\n",
    "# Extract single row\n",
    "db2_aggregation_var = db2_aggregation_var[0:1]\n",
    "# Row binding\n",
    "wc_row_bind = [db3, db2_aggregation_var]\n",
    "WC_general_final = pd.concat(wc_row_bind)\n"
   ]
  },
  {
   "cell_type": "code",
   "execution_count": 6,
   "metadata": {
    "pycharm": {
     "is_executing": false,
     "name": "#%%\n"
    }
   },
   "outputs": [],
   "source": [
    "# Graphs of averaged golas per WC\n",
    "WC_general_final['Mean_goals'] = WC_general_final['GoalsScored']/WC_general_final['MatchesPlayed']\n"
   ]
  },
  {
   "cell_type": "code",
   "execution_count": 19,
   "metadata": {
    "pycharm": {
     "is_executing": false,
     "name": "#%%\n"
    }
   },
   "outputs": [
    {
     "data": {
      "text/plain": "<Figure size 432x288 with 1 Axes>",
      "image/png": "[encoded data removed]"
     },
     "metadata": {
      "needs_background": "light"
     },
     "output_type": "display_data"
    }
   ],
   "source": [
    "# Graficar los promedios\n",
    "\n",
    "plt.scatter(WC_general_final['Year'],\n",
    "            WC_general_final['Mean_goals'],\n",
    "            s=10, c='blue', alpha=0.5)\n",
    "plt.title(' ')\n",
    "plt.xlabel(' ')\n",
    "plt.ylabel('Mean goals')\n",
    "plt.xticks(WC_general_final['Year'])\n",
    "plt.xticks(rotation=90)\n",
    "plt.savefig('figure.pdf')\n",
    "\n",
    "\n"
   ]
  },
  {
   "cell_type": "code",
   "execution_count": 8,
   "metadata": {
    "pycharm": {
     "is_executing": false,
     "name": "#%%\n"
    }
   },
   "outputs": [],
   "source": [
    "# Descriptive statistics finding hidden patterns\n",
    "\n",
    "# Which team is the most efficient when it reaches the final?\n",
    "\n",
    "WC_general_final_winner = pd.DataFrame(WC_general_final['Winner'])\n",
    "WC_general_final_runnerup = pd.DataFrame(WC_general_final['Runners-Up'])\n",
    "\n",
    "WC_general_final_winner['First'] = 1\n",
    "WC_general_final_runnerup['Second'] = 1\n",
    "\n",
    "WC_general_final_winner = pd.DataFrame(WC_general_final_winner.groupby('Winner')['First'].sum()) # Aggregate get goals\n",
    "\n",
    "WC_general_final_winner['Country']=WC_general_final_winner.index\n",
    "WC_general_final_winner = WC_general_final_winner.reset_index(drop=True)\n",
    "\n",
    "\n",
    "WC_general_final_runnerup = pd.DataFrame(WC_general_final_runnerup.groupby('Runners-Up')['Second'].sum())\n",
    "\n",
    "WC_general_final_runnerup['Country'] = WC_general_final_runnerup.index \n",
    "WC_general_final_runnerup = WC_general_final_runnerup.reset_index(drop=True)\n",
    "\n",
    "WC_general_final_win_runner =  pd.merge(WC_general_final_winner, \n",
    "                                        WC_general_final_runnerup,\n",
    "                                        how='outer', left_on='Country', \n",
    "                                        right_on='Country')\n",
    "\n",
    "WC_general_final_win_runner = WC_general_final_win_runner.replace(to_replace= np.nan,\n",
    "                                                                  value = 0)\n",
    "\n",
    "WC_general_final_win_runner['Total'] = WC_general_final_win_runner['First']+ WC_general_final_win_runner['Second']\n",
    "WC_general_final_win_runner['Proportion_wins'] = WC_general_final_win_runner['First']/WC_general_final_win_runner['Total']\n"
   ]
  },
  {
   "cell_type": "code",
   "execution_count": 9,
   "metadata": {
    "pycharm": {
     "is_executing": false,
     "name": "#%%\n"
    }
   },
   "outputs": [
    {
     "data": {
      "text/plain": "Continent\nEurope           28.0\nLatin America    14.0\nName: Total, dtype: float64"
     },
     "metadata": {},
     "output_type": "execute_result",
     "execution_count": 9
    }
   ],
   "source": [
    "# How many times a European team went to the finals?\n",
    "# How many times a Latin American team went to the finals?\n",
    "\n",
    "conditions = [\n",
    "    (WC_general_final_win_runner['Country'] == 'Brazil') | (WC_general_final_win_runner['Country'] == 'Uruguay') | (WC_general_final_win_runner['Country'] == 'Argentina'),\n",
    "    (WC_general_final_win_runner['Country'] != 'Brazil') | (WC_general_final_win_runner['Country'] != 'Uruguay') | (WC_general_final_win_runner['Country'] != 'Argentina')]\n",
    "\n",
    "values = ['Latin America', 'Europe']\n",
    "\n",
    "WC_general_final_win_runner['Continent'] = np.select(conditions, values)\n",
    "Finals_app = WC_general_final_win_runner.groupby('Continent')['Total'].sum()\n",
    "Finals_app\n"
   ]
  },
  {
   "cell_type": "code",
   "execution_count": 10,
   "metadata": {
    "pycharm": {
     "is_executing": false,
     "name": "#%%\n"
    }
   },
   "outputs": [
    {
     "data": {
      "text/plain": "0.2857142857142857"
     },
     "metadata": {},
     "output_type": "execute_result",
     "execution_count": 10
    }
   ],
   "source": [
    "# How many teams that were host won \n",
    "\n",
    "WC_general_final.loc[WC_general_final['Country'] == WC_general_final['Winner'], 'Host_win']  = 1\n",
    "WC_general_final.loc[WC_general_final['Country'] != WC_general_final['Winner'], 'Host_win']  = 0\n",
    "Resultado = WC_general_final['Host_win'].sum()/len(WC_general_final['Host_win'])\n",
    "Resultado"
   ]
  },
  {
   "cell_type": "code",
   "execution_count": 11,
   "metadata": {
    "pycharm": {
     "is_executing": false,
     "name": "#%%\n"
    }
   },
   "outputs": [
    {
     "data": {
      "text/plain": "0.09523809523809523"
     },
     "metadata": {},
     "output_type": "execute_result",
     "execution_count": 11
    }
   ],
   "source": [
    "# How many teams that were host lost finals\n",
    "WC_general_final.loc[WC_general_final['Country'] == WC_general_final['Runners-Up'], 'Host_loss'] = 1\n",
    "WC_general_final.loc[WC_general_final['Country'] != WC_general_final['Runners-Up'], 'Host_loss'] = 0\n",
    "Resultado2 = WC_general_final['Host_loss'].sum()/len(WC_general_final['Host_loss'])\n",
    "Resultado2"
   ]
  },
  {
   "cell_type": "code",
   "execution_count": 12,
   "metadata": {
    "pycharm": {
     "is_executing": false,
     "name": "#%%\n"
    }
   },
   "outputs": [
    {
     "data": {
      "text/plain": "0.6190476190476191"
     },
     "metadata": {},
     "output_type": "execute_result",
     "execution_count": 12
    }
   ],
   "source": [
    "# How many host teams at least went to the semifinals\n",
    "\n",
    "\n",
    "def function(row):\n",
    "    if row['Country'] == row['Winner']:\n",
    "        val = 1\n",
    "    elif row['Country'] == row['Runners-Up']:\n",
    "        val = 1\n",
    "    elif row['Country'] == row['Third']: \n",
    "        val = 1\n",
    "    elif row['Country'] == row['Fourth']:\n",
    "        val = 1\n",
    "    else:\n",
    "        val = 0\n",
    "    return val\n",
    "        \n",
    "WC_general_final['Host_semifinal'] = WC_general_final.apply(function, axis=1)  \n",
    "WC_general_final.reset_index(drop=True)\n",
    "\n",
    "Resultado3 = WC_general_final['Host_semifinal'].sum()/len(WC_general_final['Host_semifinal'])\n",
    "Resultado3"
   ]
  },
  {
   "cell_type": "code",
   "execution_count": 13,
   "metadata": {
    "pycharm": {
     "is_executing": false,
     "name": "#%%\n"
    }
   },
   "outputs": [],
   "source": [
    "# Create a variable of Year for Russia\n",
    "db2['Year'] = 2018\n",
    "# Re organize the variables\n",
    "db2_matches = db2[['Year','Home Team', 'Home Team Goals', 'Away Team Goals',\n",
    "                   'Away Team']]\n",
    "\n",
    "\n",
    "# Rename the variables\n",
    "db2_matches.columns = ['Year', 'Home Team Name', 'Home Team Goals', \n",
    "                      'Away Team Goals', 'Away Team Name']\n",
    "\n",
    "matches_bind = [db,db2_matches]\n",
    "WC_matches_final = pd.concat(matches_bind)\n"
   ]
  },
  {
   "cell_type": "code",
   "execution_count": 14,
   "metadata": {
    "pycharm": {
     "is_executing": false,
     "name": "#%%\n"
    }
   },
   "outputs": [
    {
     "data": {
      "text/plain": "     Year Home Team Name  Home Team Goals  Away Team Goals Away Team Name  \\\n0  1930.0         France              4.0              1.0         Mexico   \n1  1930.0            USA              3.0              0.0        Belgium   \n2  1930.0     Yugoslavia              2.0              1.0         Brazil   \n3  1930.0        Romania              3.0              1.0           Peru   \n4  1930.0      Argentina              1.0              0.0         France   \n\n   Home team points  Away team points  \n0                 3                 0  \n1                 3                 0  \n2                 3                 0  \n3                 3                 0  \n4                 3                 0  ",
      "text/html": "<div>\n<style scoped>\n    .dataframe tbody tr th:only-of-type {\n        vertical-align: middle;\n    }\n\n    .dataframe tbody tr th {\n        vertical-align: top;\n    }\n\n    .dataframe thead th {\n        text-align: right;\n    }\n</style>\n<table border=\"1\" class=\"dataframe\">\n  <thead>\n    <tr style=\"text-align: right;\">\n      <th></th>\n      <th>Year</th>\n      <th>Home Team Name</th>\n      <th>Home Team Goals</th>\n      <th>Away Team Goals</th>\n      <th>Away Team Name</th>\n      <th>Home team points</th>\n      <th>Away team points</th>\n    </tr>\n  </thead>\n  <tbody>\n    <tr>\n      <th>0</th>\n      <td>1930.0</td>\n      <td>France</td>\n      <td>4.0</td>\n      <td>1.0</td>\n      <td>Mexico</td>\n      <td>3</td>\n      <td>0</td>\n    </tr>\n    <tr>\n      <th>1</th>\n      <td>1930.0</td>\n      <td>USA</td>\n      <td>3.0</td>\n      <td>0.0</td>\n      <td>Belgium</td>\n      <td>3</td>\n      <td>0</td>\n    </tr>\n    <tr>\n      <th>2</th>\n      <td>1930.0</td>\n      <td>Yugoslavia</td>\n      <td>2.0</td>\n      <td>1.0</td>\n      <td>Brazil</td>\n      <td>3</td>\n      <td>0</td>\n    </tr>\n    <tr>\n      <th>3</th>\n      <td>1930.0</td>\n      <td>Romania</td>\n      <td>3.0</td>\n      <td>1.0</td>\n      <td>Peru</td>\n      <td>3</td>\n      <td>0</td>\n    </tr>\n    <tr>\n      <th>4</th>\n      <td>1930.0</td>\n      <td>Argentina</td>\n      <td>1.0</td>\n      <td>0.0</td>\n      <td>France</td>\n      <td>3</td>\n      <td>0</td>\n    </tr>\n  </tbody>\n</table>\n</div>"
     },
     "metadata": {},
     "output_type": "execute_result",
     "execution_count": 14
    }
   ],
   "source": [
    "# Points of home team\n",
    "def results(row):\n",
    "    if row['Home Team Goals'] > row['Away Team Goals']:\n",
    "        val = 3\n",
    "    elif row['Home Team Goals'] == row['Away Team Goals']:\n",
    "        val = 1\n",
    "    else:  \n",
    "        val = 0\n",
    "    return val\n",
    "\n",
    "WC_matches_final['Home team points'] = WC_matches_final.apply(results, axis=1)\n",
    "WC_matches_final.reset_index(drop=True)\n",
    "\n",
    "# Points of away team\n",
    "def results2(row):\n",
    "    if row['Home Team Goals'] < row['Away Team Goals']:\n",
    "        val = 3\n",
    "    elif row['Home Team Goals'] == row['Away Team Goals']:\n",
    "        val = 1\n",
    "    else:\n",
    "        val = 0\n",
    "    return val\n",
    "\n",
    "\n",
    "WC_matches_final['Away team points'] = WC_matches_final.apply(results2, axis=1)\n",
    "WC_matches_final.reset_index(drop=True)\n",
    "WC_matches_final.head()\n",
    "\n",
    "# Network analysis [Por donde pasan los equipos, cuáles equipos están al centro]\n",
    "\n"
   ]
  },
  {
   "cell_type": "code",
   "execution_count": 15,
   "metadata": {
    "pycharm": {
     "is_executing": false,
     "name": "#%%"
    }
   },
   "outputs": [
    {
     "data": {
      "text/plain": "    Team goals  Team points  Team matches                     Teams  \\\n7        233.0          241           113                    Brazil   \n28       237.0          233           113                   Germany   \n39       128.0          156            83                     Italy   \n47        91.0          101            54               Netherlands   \n2        139.0          151            85                 Argentina   \n..         ...          ...           ...                       ...   \n24         1.0            0             6               El Salvador   \n31         2.0            0             3                     Haiti   \n70         1.0            0             3                      Togo   \n37         1.0            0             3                      Iraq   \n83         2.0            0             3  rn\">United Arab Emirates   \n\n    proportion  \n7     2.132743  \n28    2.061947  \n39    1.879518  \n47    1.870370  \n2     1.776471  \n..         ...  \n24    0.000000  \n31    0.000000  \n70    0.000000  \n37    0.000000  \n83    0.000000  \n\n[84 rows x 5 columns]",
      "text/html": "<div>\n<style scoped>\n    .dataframe tbody tr th:only-of-type {\n        vertical-align: middle;\n    }\n\n    .dataframe tbody tr th {\n        vertical-align: top;\n    }\n\n    .dataframe thead th {\n        text-align: right;\n    }\n</style>\n<table border=\"1\" class=\"dataframe\">\n  <thead>\n    <tr style=\"text-align: right;\">\n      <th></th>\n      <th>Team goals</th>\n      <th>Team points</th>\n      <th>Team matches</th>\n      <th>Teams</th>\n      <th>proportion</th>\n    </tr>\n  </thead>\n  <tbody>\n    <tr>\n      <th>7</th>\n      <td>233.0</td>\n      <td>241</td>\n      <td>113</td>\n      <td>Brazil</td>\n      <td>2.132743</td>\n    </tr>\n    <tr>\n      <th>28</th>\n      <td>237.0</td>\n      <td>233</td>\n      <td>113</td>\n      <td>Germany</td>\n      <td>2.061947</td>\n    </tr>\n    <tr>\n      <th>39</th>\n      <td>128.0</td>\n      <td>156</td>\n      <td>83</td>\n      <td>Italy</td>\n      <td>1.879518</td>\n    </tr>\n    <tr>\n      <th>47</th>\n      <td>91.0</td>\n      <td>101</td>\n      <td>54</td>\n      <td>Netherlands</td>\n      <td>1.870370</td>\n    </tr>\n    <tr>\n      <th>2</th>\n      <td>139.0</td>\n      <td>151</td>\n      <td>85</td>\n      <td>Argentina</td>\n      <td>1.776471</td>\n    </tr>\n    <tr>\n      <th>...</th>\n      <td>...</td>\n      <td>...</td>\n      <td>...</td>\n      <td>...</td>\n      <td>...</td>\n    </tr>\n    <tr>\n      <th>24</th>\n      <td>1.0</td>\n      <td>0</td>\n      <td>6</td>\n      <td>El Salvador</td>\n      <td>0.000000</td>\n    </tr>\n    <tr>\n      <th>31</th>\n      <td>2.0</td>\n      <td>0</td>\n      <td>3</td>\n      <td>Haiti</td>\n      <td>0.000000</td>\n    </tr>\n    <tr>\n      <th>70</th>\n      <td>1.0</td>\n      <td>0</td>\n      <td>3</td>\n      <td>Togo</td>\n      <td>0.000000</td>\n    </tr>\n    <tr>\n      <th>37</th>\n      <td>1.0</td>\n      <td>0</td>\n      <td>3</td>\n      <td>Iraq</td>\n      <td>0.000000</td>\n    </tr>\n    <tr>\n      <th>83</th>\n      <td>2.0</td>\n      <td>0</td>\n      <td>3</td>\n      <td>rn\"&gt;United Arab Emirates</td>\n      <td>0.000000</td>\n    </tr>\n  </tbody>\n</table>\n<p>84 rows × 5 columns</p>\n</div>"
     },
     "metadata": {},
     "output_type": "execute_result",
     "execution_count": 15
    }
   ],
   "source": [
    "# Desarmar la base por equipos y total de puntos\n",
    "WC_matches_results1 = WC_matches_final[['Year', 'Home Team Name',\n",
    "                                        'Home Team Goals', 'Home team points']]\n",
    "\n",
    "# Desarmar la base por equipos y total de puntos\n",
    "WC_matches_results2 = WC_matches_final[['Year', 'Away Team Name',\n",
    "                                        'Away Team Goals', 'Away team points']]\n",
    "\n",
    "WC_matches_results1.columns = ['Year', 'Team', 'Team goals', 'Team points']\n",
    "WC_matches_results2.columns = ['Year', 'Team', 'Team goals', 'Team points']\n",
    "\n",
    "matches_bind2 = [WC_matches_results1,WC_matches_results2]\n",
    "WC_matches_final_points = pd.concat(matches_bind2)\n",
    "WC_matches_final_points = WC_matches_final_points.replace('Germany FR', 'Germany')\n",
    "\n",
    "# Summary of points per team \n",
    "WC_matches_summary_points = pd.DataFrame(WC_matches_final_points.groupby('Team').agg(\n",
    "    {'Team goals': 'sum',\n",
    "     'Team points': 'sum',\n",
    "     'Team': 'count'}))\n",
    "WC_matches_summary_points.columns = ['Team goals', 'Team points', 'Team matches']\n",
    "\n",
    "# Who has more points?\n",
    "WC_matches_summary_points['Teams'] = WC_matches_summary_points.index\n",
    "WC_matches_summary_points.reset_index(drop=True, inplace=True)\n",
    "WC_matches_summary_points.sort_values(['Team points'], ascending=False)\n",
    "\n",
    "# Who has more points based in the amount of participations?\n",
    "WC_matches_summary_points['proportion'] = WC_matches_summary_points['Team points']/WC_matches_summary_points['Team matches']\n",
    "WC_matches_summary_points.sort_values(['proportion'], ascending=False)\n"
   ]
  },
  {
   "cell_type": "code",
   "execution_count": 16,
   "outputs": [],
   "source": [
    "# Save dataframe to .csv file to work on it in R\n",
    "#WC_matches_final.to_csv('WC_matches_final.csv')"
   ],
   "metadata": {
    "collapsed": false,
    "pycharm": {
     "name": "#%%\n",
     "is_executing": false
    }
   }
  },
  {
   "cell_type": "code",
   "execution_count": 16,
   "outputs": [],
   "source": [],
   "metadata": {
    "collapsed": false,
    "pycharm": {
     "name": "#%%\n",
     "is_executing": false
    }
   }
  }
 ],
 "metadata": {
  "kernelspec": {
   "display_name": "Python 3",
   "language": "python",
   "name": "python3"
  },
  "language_info": {
   "codemirror_mode": {
    "name": "ipython",
    "version": 3
   },
   "file_extension": ".py",
   "mimetype": "text/x-python",
   "name": "python",
   "nbconvert_exporter": "python",
   "pygments_lexer": "ipython3",
   "version": "3.7.6"
  },
  "pycharm": {
   "stem_cell": {
    "cell_type": "raw",
    "source": [],
    "metadata": {
     "collapsed": false
    }
   }
  }
 },
 "nbformat": 4,
 "nbformat_minor": 1
}