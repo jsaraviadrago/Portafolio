{
 "cells": [
  {
   "cell_type": "code",
   "execution_count": 107,
   "metadata": {
    "collapsed": true,
    "pycharm": {
     "is_executing": false
    }
   },
   "outputs": [
    {
     "name": "stdout",
     "text": [
      "<class 'pandas.core.frame.DataFrame'>\nRangeIndex: 4572 entries, 0 to 4571\nData columns (total 20 columns):\n #   Column                Non-Null Count  Dtype  \n---  ------                --------------  -----  \n 0   Year                  852 non-null    float64\n 1   Datetime              852 non-null    object \n 2   Stage                 852 non-null    object \n 3   Stadium               852 non-null    object \n 4   City                  852 non-null    object \n 5   Home Team Name        852 non-null    object \n 6   Home Team Goals       852 non-null    float64\n 7   Away Team Goals       852 non-null    float64\n 8   Away Team Name        852 non-null    object \n 9   Win conditions        852 non-null    object \n 10  Attendance            850 non-null    float64\n 11  Half-time Home Goals  852 non-null    float64\n 12  Half-time Away Goals  852 non-null    float64\n 13  Referee               852 non-null    object \n 14  Assistant 1           852 non-null    object \n 15  Assistant 2           852 non-null    object \n 16  RoundID               852 non-null    float64\n 17  MatchID               852 non-null    float64\n 18  Home Team Initials    852 non-null    object \n 19  Away Team Initials    852 non-null    object \ndtypes: float64(8), object(12)\nmemory usage: 714.5+ KB\n"
     ],
     "output_type": "stream"
    }
   ],
   "source": [
    "import pandas as pd\n",
    "\n",
    "\n",
    "db = pd.read_csv(\"/Users/home/Dropbox/Databases/fifa-world-cup/WorldCupMatches.csv\")\n",
    "db.info()\n"
   ]
  },
  {
   "cell_type": "code",
   "execution_count": 108,
   "outputs": [],
   "source": [
    "db = db[['Year', 'Home Team Name', 'Home Team Goals',\n",
    "         'Away Team Goals', 'Away Team Name']]\n",
    "\n",
    "\n",
    "# I don't this code anymore because I found a data base that has the information \n",
    "# I will still leave it here\n",
    "#db.describe()\n",
    "#db['Total_goals'] = db['Home Team Goals'] + db['Away Team Goals']\n",
    "#db.groupby('Year')['Total_goals'].mean() # Aggregate by mean\n",
    "#db.groupby('Year')['Total_goals'].sum() # Aggregate get goals\n",
    "#db.groupby('Year')['Total_goals'].count() # Aggregate number of games\n",
    "#db0 = (db.groupby(['Year'])['Total_goals']\n",
    " #        .agg([('average_goals','mean'),('total_goals','sum'), ('total_games','count')])\n",
    " #        .reset_index())\n",
    "#db0"
   ],
   "metadata": {
    "collapsed": false,
    "pycharm": {
     "name": "#%%\n",
     "is_executing": false
    }
   }
  },
  {
   "cell_type": "code",
   "execution_count": 109,
   "outputs": [],
   "source": [
    "#Aggregated information from world cups\n",
    "db3 = pd.read_csv(\"/Users/home/Dropbox/Databases/fifa-world-cup/WorldCups.csv\")\n",
    "# Tranforms the attendance into an integer\n",
    "db3['Attendance']=db3['Attendance'].replace('\\.','',regex=True).astype(int)\n"
   ],
   "metadata": {
    "collapsed": false,
    "pycharm": {
     "name": "#%%\n",
     "is_executing": false
    }
   }
  },
  {
   "cell_type": "code",
   "execution_count": 110,
   "outputs": [
    {
     "name": "stderr",
     "text": [
      "/Library/Frameworks/Python.framework/Versions/3.7/lib/python3.7/site-packages/ipykernel_launcher.py:41: SettingWithCopyWarning: \nA value is trying to be set on a copy of a slice from a DataFrame.\nTry using .loc[row_indexer,col_indexer] = value instead\n\nSee the caveats in the documentation: https://pandas.pydata.org/pandas-docs/stable/user_guide/indexing.html#returning-a-view-versus-a-copy\n/Library/Frameworks/Python.framework/Versions/3.7/lib/python3.7/site-packages/ipykernel_launcher.py:42: SettingWithCopyWarning: \nA value is trying to be set on a copy of a slice from a DataFrame.\nTry using .loc[row_indexer,col_indexer] = value instead\n\nSee the caveats in the documentation: https://pandas.pydata.org/pandas-docs/stable/user_guide/indexing.html#returning-a-view-versus-a-copy\n/Library/Frameworks/Python.framework/Versions/3.7/lib/python3.7/site-packages/ipykernel_launcher.py:43: SettingWithCopyWarning: \nA value is trying to be set on a copy of a slice from a DataFrame.\nTry using .loc[row_indexer,col_indexer] = value instead\n\nSee the caveats in the documentation: https://pandas.pydata.org/pandas-docs/stable/user_guide/indexing.html#returning-a-view-versus-a-copy\n/Library/Frameworks/Python.framework/Versions/3.7/lib/python3.7/site-packages/ipykernel_launcher.py:44: SettingWithCopyWarning: \nA value is trying to be set on a copy of a slice from a DataFrame.\nTry using .loc[row_indexer,col_indexer] = value instead\n\nSee the caveats in the documentation: https://pandas.pydata.org/pandas-docs/stable/user_guide/indexing.html#returning-a-view-versus-a-copy\n"
     ],
     "output_type": "stream"
    }
   ],
   "source": [
    "# World cup 2018\n",
    "\n",
    "db2 = pd.read_csv(\"/Users/home/Dropbox/Databases/fifa-world-cup/Cup.Russia.Matches.csv\")\n",
    "\n",
    "# Order the data to make all aggregate data\n",
    "db2 = db2[['Home Team',\n",
    "           'Home Team Goals',  'Away Team Goals',\n",
    "           'Away Team', 'Total Goals', 'Attendance']]\n",
    "\n",
    "db2['Year'] = 2018\n",
    "db2['Country'] = 'Russia'\n",
    "db2['GoalsScored'] = db2['Total Goals'].sum()\n",
    "\n",
    "# Number of  Qualified teams\n",
    "\n",
    "# Extract useful columns\n",
    "db2_1 = db2['Home Team']\n",
    "db2_2 = db2['Away Team']\n",
    "\n",
    "# Rename columns to merge\n",
    "db2_1.columns = ['Teams']\n",
    "db2_2.columns = ['Teams']\n",
    "\n",
    "# Row binding\n",
    "data_merging = [db2_1, db2_2]\n",
    "db2_12 = pd.concat(data_merging)\n",
    "\n",
    "# Extract only unique cases\n",
    "number = len(db2_12.unique().tolist())\n",
    "db2['Qualifiedteams'] =  number\n",
    "\n",
    "# Calculate total attendance and number of matches playes\n",
    "db2['MatchesPlayed'] = db2['Home Team'].count()\n",
    "db2['Total_attendance'] = db2['Attendance'].sum()\n",
    "\n",
    "# Filter columns\n",
    "db2_aggregation_var = db2[['Year', 'Country', 'GoalsScored',\n",
    "                           'Qualifiedteams', 'MatchesPlayed',\n",
    "                           'Total_attendance']]\n",
    "# Create missing columns\n",
    "db2_aggregation_var['Winner'] = 'France'\n",
    "db2_aggregation_var['Runners-Up'] = 'Croatia' \n",
    "db2_aggregation_var['Third'] = 'Belgium'                    \n",
    "db2_aggregation_var['Fourth'] = 'England' \n",
    "\n",
    "# Re organize columns\n",
    "db2_aggregation_var = db2_aggregation_var[['Year', 'Country',\n",
    "                                           'Winner', 'Runners-Up',\n",
    "                                           'Third', 'Fourth', \n",
    "                                           'GoalsScored', 'Qualifiedteams',\n",
    "                                           'MatchesPlayed', 'Total_attendance']]                    \n",
    "\n",
    "# Rename columns to bind\n",
    "db2_aggregation_var.columns =['Year', 'Country',\n",
    "                                           'Winner', 'Runners-Up',\n",
    "                                           'Third', 'Fourth', \n",
    "                                           'GoalsScored', 'QualifiedTeams',\n",
    "                                           'MatchesPlayed', 'Attendance']                   \n",
    "\n",
    "# Extract single row\n",
    "db2_aggregation_var = db2_aggregation_var[0:1]\n",
    "# Row binding\n",
    "wc_row_bind = [db3, db2_aggregation_var]\n",
    "WC_genera_final = pd.concat(wc_row_bind)"
   ],
   "metadata": {
    "collapsed": false,
    "pycharm": {
     "name": "#%%\n",
     "is_executing": false
    }
   }
  },
  {
   "cell_type": "code",
   "execution_count": 110,
   "outputs": [],
   "source": [],
   "metadata": {
    "collapsed": false,
    "pycharm": {
     "name": "#%%\n",
     "is_executing": false
    }
   }
  },
  {
   "cell_type": "code",
   "execution_count": 110,
   "outputs": [],
   "source": [],
   "metadata": {
    "collapsed": false,
    "pycharm": {
     "name": "#%%\n",
     "is_executing": false
    }
   }
  },
  {
   "cell_type": "code",
   "execution_count": 119,
   "outputs": [
    {
     "data": {
      "text/plain": "      Year Home Team Name  Home Team Goals  Away Team Goals Away Team Name\n0   1930.0         France              4.0              1.0         Mexico\n1   1930.0            USA              3.0              0.0        Belgium\n2   1930.0     Yugoslavia              2.0              1.0         Brazil\n3   1930.0        Romania              3.0              1.0           Peru\n4   1930.0      Argentina              1.0              0.0         France\n..     ...            ...              ...              ...            ...\n59  2018.0         Russia              2.0              2.0        Croatia\n60  2018.0         France              1.0              0.0        Belgium\n61  2018.0        Croatia              2.0              1.0        England\n62  2018.0        Belgium              2.0              0.0        England\n63  2018.0         France              4.0              2.0        Croatia\n\n[4636 rows x 5 columns]",
      "text/html": "<div>\n<style scoped>\n    .dataframe tbody tr th:only-of-type {\n        vertical-align: middle;\n    }\n\n    .dataframe tbody tr th {\n        vertical-align: top;\n    }\n\n    .dataframe thead th {\n        text-align: right;\n    }\n</style>\n<table border=\"1\" class=\"dataframe\">\n  <thead>\n    <tr style=\"text-align: right;\">\n      <th></th>\n      <th>Year</th>\n      <th>Home Team Name</th>\n      <th>Home Team Goals</th>\n      <th>Away Team Goals</th>\n      <th>Away Team Name</th>\n    </tr>\n  </thead>\n  <tbody>\n    <tr>\n      <th>0</th>\n      <td>1930.0</td>\n      <td>France</td>\n      <td>4.0</td>\n      <td>1.0</td>\n      <td>Mexico</td>\n    </tr>\n    <tr>\n      <th>1</th>\n      <td>1930.0</td>\n      <td>USA</td>\n      <td>3.0</td>\n      <td>0.0</td>\n      <td>Belgium</td>\n    </tr>\n    <tr>\n      <th>2</th>\n      <td>1930.0</td>\n      <td>Yugoslavia</td>\n      <td>2.0</td>\n      <td>1.0</td>\n      <td>Brazil</td>\n    </tr>\n    <tr>\n      <th>3</th>\n      <td>1930.0</td>\n      <td>Romania</td>\n      <td>3.0</td>\n      <td>1.0</td>\n      <td>Peru</td>\n    </tr>\n    <tr>\n      <th>4</th>\n      <td>1930.0</td>\n      <td>Argentina</td>\n      <td>1.0</td>\n      <td>0.0</td>\n      <td>France</td>\n    </tr>\n    <tr>\n      <th>...</th>\n      <td>...</td>\n      <td>...</td>\n      <td>...</td>\n      <td>...</td>\n      <td>...</td>\n    </tr>\n    <tr>\n      <th>59</th>\n      <td>2018.0</td>\n      <td>Russia</td>\n      <td>2.0</td>\n      <td>2.0</td>\n      <td>Croatia</td>\n    </tr>\n    <tr>\n      <th>60</th>\n      <td>2018.0</td>\n      <td>France</td>\n      <td>1.0</td>\n      <td>0.0</td>\n      <td>Belgium</td>\n    </tr>\n    <tr>\n      <th>61</th>\n      <td>2018.0</td>\n      <td>Croatia</td>\n      <td>2.0</td>\n      <td>1.0</td>\n      <td>England</td>\n    </tr>\n    <tr>\n      <th>62</th>\n      <td>2018.0</td>\n      <td>Belgium</td>\n      <td>2.0</td>\n      <td>0.0</td>\n      <td>England</td>\n    </tr>\n    <tr>\n      <th>63</th>\n      <td>2018.0</td>\n      <td>France</td>\n      <td>4.0</td>\n      <td>2.0</td>\n      <td>Croatia</td>\n    </tr>\n  </tbody>\n</table>\n<p>4636 rows × 5 columns</p>\n</div>"
     },
     "metadata": {},
     "output_type": "execute_result",
     "execution_count": 119
    }
   ],
   "source": [
    "# Create a variable of Year for Russia\n",
    "db2['Year'] = 2018\n",
    "# Re organize the variables\n",
    "db2_matches = db2[['Year','Home Team', 'Home Team Goals', 'Away Team Goals',\n",
    "                   'Away Team']]\n",
    "\n",
    "\n",
    "# Rename the variables\n",
    "db2_matches.columns = ['Year', 'Home Team Name', 'Home Team Goals', \n",
    "                      'Away Team Goals', 'Away Team Name']\n",
    "\n",
    "matches_bind = [db,db2_matches]\n",
    "WC_matches_final = pd.concat(matches_bind)\n",
    "WC_matches_final"
   ],
   "metadata": {
    "collapsed": false,
    "pycharm": {
     "name": "#%%\n",
     "is_executing": false
    }
   }
  },
  {
   "cell_type": "code",
   "execution_count": null,
   "outputs": [],
   "source": [
    "# Merge data sets\n",
    "\n",
    "#db_final = pd.merge(db, db2, how='inner', left_on='Year', right_on='Year')\n",
    "#db_final.info()"
   ],
   "metadata": {
    "collapsed": false,
    "pycharm": {
     "name": "#%%\n",
     "is_executing": false
    }
   }
  },
  {
   "cell_type": "code",
   "execution_count": null,
   "outputs": [],
   "source": [],
   "metadata": {
    "collapsed": false,
    "pycharm": {
     "name": "#%%"
    }
   }
  }
 ],
 "metadata": {
  "kernelspec": {
   "display_name": "Python 3",
   "language": "python",
   "name": "python3"
  },
  "language_info": {
   "codemirror_mode": {
    "name": "ipython",
    "version": 2
   },
   "file_extension": ".py",
   "mimetype": "text/x-python",
   "name": "python",
   "nbconvert_exporter": "python",
   "pygments_lexer": "ipython2",
   "version": "2.7.6"
  },
  "pycharm": {
   "stem_cell": {
    "cell_type": "raw",
    "source": [],
    "metadata": {
     "collapsed": false
    }
   }
  }
 },
 "nbformat": 4,
 "nbformat_minor": 0
}