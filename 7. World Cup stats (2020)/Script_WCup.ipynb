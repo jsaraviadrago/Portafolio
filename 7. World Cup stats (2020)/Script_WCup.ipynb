{
 "cells": [
  {
   "cell_type": "code",
   "execution_count": 28,
   "metadata": {
    "collapsed": true,
    "pycharm": {
     "is_executing": false
    }
   },
   "outputs": [
    {
     "name": "stdout",
     "text": [
      "<class 'pandas.core.frame.DataFrame'>\nRangeIndex: 4572 entries, 0 to 4571\nData columns (total 20 columns):\n #   Column                Non-Null Count  Dtype  \n---  ------                --------------  -----  \n 0   Year                  852 non-null    float64\n 1   Datetime              852 non-null    object \n 2   Stage                 852 non-null    object \n 3   Stadium               852 non-null    object \n 4   City                  852 non-null    object \n 5   Home Team Name        852 non-null    object \n 6   Home Team Goals       852 non-null    float64\n 7   Away Team Goals       852 non-null    float64\n 8   Away Team Name        852 non-null    object \n 9   Win conditions        852 non-null    object \n 10  Attendance            850 non-null    float64\n 11  Half-time Home Goals  852 non-null    float64\n 12  Half-time Away Goals  852 non-null    float64\n 13  Referee               852 non-null    object \n 14  Assistant 1           852 non-null    object \n 15  Assistant 2           852 non-null    object \n 16  RoundID               852 non-null    float64\n 17  MatchID               852 non-null    float64\n 18  Home Team Initials    852 non-null    object \n 19  Away Team Initials    852 non-null    object \ndtypes: float64(8), object(12)\nmemory usage: 714.5+ KB\n"
     ],
     "output_type": "stream"
    }
   ],
   "source": [
    "import pandas as pd\n",
    "import numpy as np\n",
    "\n",
    "\n",
    "db = pd.read_csv(\"/Users/home/Dropbox/Databases/fifa-world-cup/WorldCupMatches.csv\")\n",
    "db.info()\n"
   ]
  },
  {
   "cell_type": "code",
   "execution_count": 13,
   "outputs": [],
   "source": [
    "db = db[['Year', 'Home Team Name', 'Home Team Goals',\n",
    "         'Away Team Goals', 'Away Team Name']]\n",
    "\n",
    "\n",
    "# I don't this code anymore because I found a data base that has the information \n",
    "# I will still leave it here\n",
    "#db.describe()\n",
    "#db['Total_goals'] = db['Home Team Goals'] + db['Away Team Goals']\n",
    "#db.groupby('Year')['Total_goals'].mean() # Aggregate by mean\n",
    "#db.groupby('Year')['Total_goals'].count() # Aggregate number of games\n",
    "#db0 = (db.groupby(['Year'])['Total_goals']\n",
    " #        .agg([('average_goals','mean'),('total_goals','sum'), ('total_games','count')])\n",
    " #        .reset_index())\n",
    "#db0"
   ],
   "metadata": {
    "collapsed": false,
    "pycharm": {
     "name": "#%%\n",
     "is_executing": false
    }
   }
  },
  {
   "cell_type": "code",
   "execution_count": 14,
   "outputs": [
    {
     "data": {
      "text/plain": "    Year         Country     Winner      Runners-Up        Third  \\\n0   1930         Uruguay    Uruguay       Argentina          USA   \n1   1934           Italy      Italy  Czechoslovakia      Germany   \n2   1938          France      Italy         Hungary       Brazil   \n3   1950          Brazil    Uruguay          Brazil       Sweden   \n4   1954     Switzerland    Germany         Hungary      Austria   \n5   1958          Sweden     Brazil          Sweden       France   \n6   1962           Chile     Brazil  Czechoslovakia        Chile   \n7   1966         England    England         Germany     Portugal   \n8   1970          Mexico     Brazil           Italy      Germany   \n9   1974         Germany    Germany     Netherlands       Poland   \n10  1978       Argentina  Argentina     Netherlands       Brazil   \n11  1982           Spain      Italy         Germany       Poland   \n12  1986          Mexico  Argentina         Germany       France   \n13  1990           Italy    Germany       Argentina        Italy   \n14  1994             USA     Brazil           Italy       Sweden   \n15  1998          France     France          Brazil      Croatia   \n16  2002  Korea Republic     Brazil         Germany       Turkey   \n17  2006         Germany      Italy          France      Germany   \n18  2010    South Africa      Spain     Netherlands      Germany   \n19  2014          Brazil    Germany       Argentina  Netherlands   \n\n            Fourth  GoalsScored  QualifiedTeams  MatchesPlayed  Attendance  \n0       Yugoslavia           70              13             18      590549  \n1          Austria           70              16             17      363000  \n2           Sweden           84              15             18      375700  \n3            Spain           88              13             22     1045246  \n4          Uruguay          140              16             26      768607  \n5          Germany          126              16             35      819810  \n6       Yugoslavia           89              16             32      893172  \n7     Soviet Union           89              16             32     1563135  \n8          Uruguay           95              16             32     1603975  \n9           Brazil           97              16             38     1865753  \n10           Italy          102              16             38     1545791  \n11          France          146              24             52     2109723  \n12         Belgium          132              24             52     2394031  \n13         England          115              24             52     2516215  \n14        Bulgaria          141              24             52     3587538  \n15     Netherlands          171              32             64     2785100  \n16  Korea Republic          161              32             64     2705197  \n17        Portugal          147              32             64     3359439  \n18         Uruguay          145              32             64     3178856  \n19          Brazil          171              32             64     3386810  ",
      "text/html": "<div>\n<style scoped>\n    .dataframe tbody tr th:only-of-type {\n        vertical-align: middle;\n    }\n\n    .dataframe tbody tr th {\n        vertical-align: top;\n    }\n\n    .dataframe thead th {\n        text-align: right;\n    }\n</style>\n<table border=\"1\" class=\"dataframe\">\n  <thead>\n    <tr style=\"text-align: right;\">\n      <th></th>\n      <th>Year</th>\n      <th>Country</th>\n      <th>Winner</th>\n      <th>Runners-Up</th>\n      <th>Third</th>\n      <th>Fourth</th>\n      <th>GoalsScored</th>\n      <th>QualifiedTeams</th>\n      <th>MatchesPlayed</th>\n      <th>Attendance</th>\n    </tr>\n  </thead>\n  <tbody>\n    <tr>\n      <th>0</th>\n      <td>1930</td>\n      <td>Uruguay</td>\n      <td>Uruguay</td>\n      <td>Argentina</td>\n      <td>USA</td>\n      <td>Yugoslavia</td>\n      <td>70</td>\n      <td>13</td>\n      <td>18</td>\n      <td>590549</td>\n    </tr>\n    <tr>\n      <th>1</th>\n      <td>1934</td>\n      <td>Italy</td>\n      <td>Italy</td>\n      <td>Czechoslovakia</td>\n      <td>Germany</td>\n      <td>Austria</td>\n      <td>70</td>\n      <td>16</td>\n      <td>17</td>\n      <td>363000</td>\n    </tr>\n    <tr>\n      <th>2</th>\n      <td>1938</td>\n      <td>France</td>\n      <td>Italy</td>\n      <td>Hungary</td>\n      <td>Brazil</td>\n      <td>Sweden</td>\n      <td>84</td>\n      <td>15</td>\n      <td>18</td>\n      <td>375700</td>\n    </tr>\n    <tr>\n      <th>3</th>\n      <td>1950</td>\n      <td>Brazil</td>\n      <td>Uruguay</td>\n      <td>Brazil</td>\n      <td>Sweden</td>\n      <td>Spain</td>\n      <td>88</td>\n      <td>13</td>\n      <td>22</td>\n      <td>1045246</td>\n    </tr>\n    <tr>\n      <th>4</th>\n      <td>1954</td>\n      <td>Switzerland</td>\n      <td>Germany</td>\n      <td>Hungary</td>\n      <td>Austria</td>\n      <td>Uruguay</td>\n      <td>140</td>\n      <td>16</td>\n      <td>26</td>\n      <td>768607</td>\n    </tr>\n    <tr>\n      <th>5</th>\n      <td>1958</td>\n      <td>Sweden</td>\n      <td>Brazil</td>\n      <td>Sweden</td>\n      <td>France</td>\n      <td>Germany</td>\n      <td>126</td>\n      <td>16</td>\n      <td>35</td>\n      <td>819810</td>\n    </tr>\n    <tr>\n      <th>6</th>\n      <td>1962</td>\n      <td>Chile</td>\n      <td>Brazil</td>\n      <td>Czechoslovakia</td>\n      <td>Chile</td>\n      <td>Yugoslavia</td>\n      <td>89</td>\n      <td>16</td>\n      <td>32</td>\n      <td>893172</td>\n    </tr>\n    <tr>\n      <th>7</th>\n      <td>1966</td>\n      <td>England</td>\n      <td>England</td>\n      <td>Germany</td>\n      <td>Portugal</td>\n      <td>Soviet Union</td>\n      <td>89</td>\n      <td>16</td>\n      <td>32</td>\n      <td>1563135</td>\n    </tr>\n    <tr>\n      <th>8</th>\n      <td>1970</td>\n      <td>Mexico</td>\n      <td>Brazil</td>\n      <td>Italy</td>\n      <td>Germany</td>\n      <td>Uruguay</td>\n      <td>95</td>\n      <td>16</td>\n      <td>32</td>\n      <td>1603975</td>\n    </tr>\n    <tr>\n      <th>9</th>\n      <td>1974</td>\n      <td>Germany</td>\n      <td>Germany</td>\n      <td>Netherlands</td>\n      <td>Poland</td>\n      <td>Brazil</td>\n      <td>97</td>\n      <td>16</td>\n      <td>38</td>\n      <td>1865753</td>\n    </tr>\n    <tr>\n      <th>10</th>\n      <td>1978</td>\n      <td>Argentina</td>\n      <td>Argentina</td>\n      <td>Netherlands</td>\n      <td>Brazil</td>\n      <td>Italy</td>\n      <td>102</td>\n      <td>16</td>\n      <td>38</td>\n      <td>1545791</td>\n    </tr>\n    <tr>\n      <th>11</th>\n      <td>1982</td>\n      <td>Spain</td>\n      <td>Italy</td>\n      <td>Germany</td>\n      <td>Poland</td>\n      <td>France</td>\n      <td>146</td>\n      <td>24</td>\n      <td>52</td>\n      <td>2109723</td>\n    </tr>\n    <tr>\n      <th>12</th>\n      <td>1986</td>\n      <td>Mexico</td>\n      <td>Argentina</td>\n      <td>Germany</td>\n      <td>France</td>\n      <td>Belgium</td>\n      <td>132</td>\n      <td>24</td>\n      <td>52</td>\n      <td>2394031</td>\n    </tr>\n    <tr>\n      <th>13</th>\n      <td>1990</td>\n      <td>Italy</td>\n      <td>Germany</td>\n      <td>Argentina</td>\n      <td>Italy</td>\n      <td>England</td>\n      <td>115</td>\n      <td>24</td>\n      <td>52</td>\n      <td>2516215</td>\n    </tr>\n    <tr>\n      <th>14</th>\n      <td>1994</td>\n      <td>USA</td>\n      <td>Brazil</td>\n      <td>Italy</td>\n      <td>Sweden</td>\n      <td>Bulgaria</td>\n      <td>141</td>\n      <td>24</td>\n      <td>52</td>\n      <td>3587538</td>\n    </tr>\n    <tr>\n      <th>15</th>\n      <td>1998</td>\n      <td>France</td>\n      <td>France</td>\n      <td>Brazil</td>\n      <td>Croatia</td>\n      <td>Netherlands</td>\n      <td>171</td>\n      <td>32</td>\n      <td>64</td>\n      <td>2785100</td>\n    </tr>\n    <tr>\n      <th>16</th>\n      <td>2002</td>\n      <td>Korea Republic</td>\n      <td>Brazil</td>\n      <td>Germany</td>\n      <td>Turkey</td>\n      <td>Korea Republic</td>\n      <td>161</td>\n      <td>32</td>\n      <td>64</td>\n      <td>2705197</td>\n    </tr>\n    <tr>\n      <th>17</th>\n      <td>2006</td>\n      <td>Germany</td>\n      <td>Italy</td>\n      <td>France</td>\n      <td>Germany</td>\n      <td>Portugal</td>\n      <td>147</td>\n      <td>32</td>\n      <td>64</td>\n      <td>3359439</td>\n    </tr>\n    <tr>\n      <th>18</th>\n      <td>2010</td>\n      <td>South Africa</td>\n      <td>Spain</td>\n      <td>Netherlands</td>\n      <td>Germany</td>\n      <td>Uruguay</td>\n      <td>145</td>\n      <td>32</td>\n      <td>64</td>\n      <td>3178856</td>\n    </tr>\n    <tr>\n      <th>19</th>\n      <td>2014</td>\n      <td>Brazil</td>\n      <td>Germany</td>\n      <td>Argentina</td>\n      <td>Netherlands</td>\n      <td>Brazil</td>\n      <td>171</td>\n      <td>32</td>\n      <td>64</td>\n      <td>3386810</td>\n    </tr>\n  </tbody>\n</table>\n</div>"
     },
     "metadata": {},
     "output_type": "execute_result",
     "execution_count": 14
    }
   ],
   "source": [
    "#Aggregated information from world cups\n",
    "db3 = pd.read_csv(\"/Users/home/Dropbox/Databases/fifa-world-cup/WorldCups.csv\")\n",
    "# Tranforms the attendance into an integer\n",
    "db3['Attendance']=db3['Attendance'].replace('\\.','',regex=True).astype(int)\n",
    "db3 = db3.replace('Germany FR', 'Germany')\n",
    "db3.at[16, 'Country'] = 'Korea Republic'\n",
    "db3"
   ],
   "metadata": {
    "collapsed": false,
    "pycharm": {
     "name": "#%%\n",
     "is_executing": false
    }
   }
  },
  {
   "cell_type": "code",
   "execution_count": 15,
   "outputs": [
    {
     "name": "stderr",
     "text": [
      "/Library/Frameworks/Python.framework/Versions/3.7/lib/python3.7/site-packages/ipykernel_launcher.py:41: SettingWithCopyWarning: \nA value is trying to be set on a copy of a slice from a DataFrame.\nTry using .loc[row_indexer,col_indexer] = value instead\n\nSee the caveats in the documentation: https://pandas.pydata.org/pandas-docs/stable/user_guide/indexing.html#returning-a-view-versus-a-copy\n/Library/Frameworks/Python.framework/Versions/3.7/lib/python3.7/site-packages/ipykernel_launcher.py:42: SettingWithCopyWarning: \nA value is trying to be set on a copy of a slice from a DataFrame.\nTry using .loc[row_indexer,col_indexer] = value instead\n\nSee the caveats in the documentation: https://pandas.pydata.org/pandas-docs/stable/user_guide/indexing.html#returning-a-view-versus-a-copy\n/Library/Frameworks/Python.framework/Versions/3.7/lib/python3.7/site-packages/ipykernel_launcher.py:43: SettingWithCopyWarning: \nA value is trying to be set on a copy of a slice from a DataFrame.\nTry using .loc[row_indexer,col_indexer] = value instead\n\nSee the caveats in the documentation: https://pandas.pydata.org/pandas-docs/stable/user_guide/indexing.html#returning-a-view-versus-a-copy\n/Library/Frameworks/Python.framework/Versions/3.7/lib/python3.7/site-packages/ipykernel_launcher.py:44: SettingWithCopyWarning: \nA value is trying to be set on a copy of a slice from a DataFrame.\nTry using .loc[row_indexer,col_indexer] = value instead\n\nSee the caveats in the documentation: https://pandas.pydata.org/pandas-docs/stable/user_guide/indexing.html#returning-a-view-versus-a-copy\n"
     ],
     "output_type": "stream"
    },
    {
     "data": {
      "text/plain": "    Year         Country     Winner      Runners-Up        Third  \\\n0   1930         Uruguay    Uruguay       Argentina          USA   \n1   1934           Italy      Italy  Czechoslovakia      Germany   \n2   1938          France      Italy         Hungary       Brazil   \n3   1950          Brazil    Uruguay          Brazil       Sweden   \n4   1954     Switzerland    Germany         Hungary      Austria   \n5   1958          Sweden     Brazil          Sweden       France   \n6   1962           Chile     Brazil  Czechoslovakia        Chile   \n7   1966         England    England         Germany     Portugal   \n8   1970          Mexico     Brazil           Italy      Germany   \n9   1974         Germany    Germany     Netherlands       Poland   \n10  1978       Argentina  Argentina     Netherlands       Brazil   \n11  1982           Spain      Italy         Germany       Poland   \n12  1986          Mexico  Argentina         Germany       France   \n13  1990           Italy    Germany       Argentina        Italy   \n14  1994             USA     Brazil           Italy       Sweden   \n15  1998          France     France          Brazil      Croatia   \n16  2002  Korea Republic     Brazil         Germany       Turkey   \n17  2006         Germany      Italy          France      Germany   \n18  2010    South Africa      Spain     Netherlands      Germany   \n19  2014          Brazil    Germany       Argentina  Netherlands   \n0   2018          Russia     France         Croatia      Belgium   \n\n            Fourth  GoalsScored  QualifiedTeams  MatchesPlayed  Attendance  \n0       Yugoslavia           70              13             18      590549  \n1          Austria           70              16             17      363000  \n2           Sweden           84              15             18      375700  \n3            Spain           88              13             22     1045246  \n4          Uruguay          140              16             26      768607  \n5          Germany          126              16             35      819810  \n6       Yugoslavia           89              16             32      893172  \n7     Soviet Union           89              16             32     1563135  \n8          Uruguay           95              16             32     1603975  \n9           Brazil           97              16             38     1865753  \n10           Italy          102              16             38     1545791  \n11          France          146              24             52     2109723  \n12         Belgium          132              24             52     2394031  \n13         England          115              24             52     2516215  \n14        Bulgaria          141              24             52     3587538  \n15     Netherlands          171              32             64     2785100  \n16  Korea Republic          161              32             64     2705197  \n17        Portugal          147              32             64     3359439  \n18         Uruguay          145              32             64     3178856  \n19          Brazil          171              32             64     3386810  \n0          England          169              32             64     3031766  ",
      "text/html": "<div>\n<style scoped>\n    .dataframe tbody tr th:only-of-type {\n        vertical-align: middle;\n    }\n\n    .dataframe tbody tr th {\n        vertical-align: top;\n    }\n\n    .dataframe thead th {\n        text-align: right;\n    }\n</style>\n<table border=\"1\" class=\"dataframe\">\n  <thead>\n    <tr style=\"text-align: right;\">\n      <th></th>\n      <th>Year</th>\n      <th>Country</th>\n      <th>Winner</th>\n      <th>Runners-Up</th>\n      <th>Third</th>\n      <th>Fourth</th>\n      <th>GoalsScored</th>\n      <th>QualifiedTeams</th>\n      <th>MatchesPlayed</th>\n      <th>Attendance</th>\n    </tr>\n  </thead>\n  <tbody>\n    <tr>\n      <th>0</th>\n      <td>1930</td>\n      <td>Uruguay</td>\n      <td>Uruguay</td>\n      <td>Argentina</td>\n      <td>USA</td>\n      <td>Yugoslavia</td>\n      <td>70</td>\n      <td>13</td>\n      <td>18</td>\n      <td>590549</td>\n    </tr>\n    <tr>\n      <th>1</th>\n      <td>1934</td>\n      <td>Italy</td>\n      <td>Italy</td>\n      <td>Czechoslovakia</td>\n      <td>Germany</td>\n      <td>Austria</td>\n      <td>70</td>\n      <td>16</td>\n      <td>17</td>\n      <td>363000</td>\n    </tr>\n    <tr>\n      <th>2</th>\n      <td>1938</td>\n      <td>France</td>\n      <td>Italy</td>\n      <td>Hungary</td>\n      <td>Brazil</td>\n      <td>Sweden</td>\n      <td>84</td>\n      <td>15</td>\n      <td>18</td>\n      <td>375700</td>\n    </tr>\n    <tr>\n      <th>3</th>\n      <td>1950</td>\n      <td>Brazil</td>\n      <td>Uruguay</td>\n      <td>Brazil</td>\n      <td>Sweden</td>\n      <td>Spain</td>\n      <td>88</td>\n      <td>13</td>\n      <td>22</td>\n      <td>1045246</td>\n    </tr>\n    <tr>\n      <th>4</th>\n      <td>1954</td>\n      <td>Switzerland</td>\n      <td>Germany</td>\n      <td>Hungary</td>\n      <td>Austria</td>\n      <td>Uruguay</td>\n      <td>140</td>\n      <td>16</td>\n      <td>26</td>\n      <td>768607</td>\n    </tr>\n    <tr>\n      <th>5</th>\n      <td>1958</td>\n      <td>Sweden</td>\n      <td>Brazil</td>\n      <td>Sweden</td>\n      <td>France</td>\n      <td>Germany</td>\n      <td>126</td>\n      <td>16</td>\n      <td>35</td>\n      <td>819810</td>\n    </tr>\n    <tr>\n      <th>6</th>\n      <td>1962</td>\n      <td>Chile</td>\n      <td>Brazil</td>\n      <td>Czechoslovakia</td>\n      <td>Chile</td>\n      <td>Yugoslavia</td>\n      <td>89</td>\n      <td>16</td>\n      <td>32</td>\n      <td>893172</td>\n    </tr>\n    <tr>\n      <th>7</th>\n      <td>1966</td>\n      <td>England</td>\n      <td>England</td>\n      <td>Germany</td>\n      <td>Portugal</td>\n      <td>Soviet Union</td>\n      <td>89</td>\n      <td>16</td>\n      <td>32</td>\n      <td>1563135</td>\n    </tr>\n    <tr>\n      <th>8</th>\n      <td>1970</td>\n      <td>Mexico</td>\n      <td>Brazil</td>\n      <td>Italy</td>\n      <td>Germany</td>\n      <td>Uruguay</td>\n      <td>95</td>\n      <td>16</td>\n      <td>32</td>\n      <td>1603975</td>\n    </tr>\n    <tr>\n      <th>9</th>\n      <td>1974</td>\n      <td>Germany</td>\n      <td>Germany</td>\n      <td>Netherlands</td>\n      <td>Poland</td>\n      <td>Brazil</td>\n      <td>97</td>\n      <td>16</td>\n      <td>38</td>\n      <td>1865753</td>\n    </tr>\n    <tr>\n      <th>10</th>\n      <td>1978</td>\n      <td>Argentina</td>\n      <td>Argentina</td>\n      <td>Netherlands</td>\n      <td>Brazil</td>\n      <td>Italy</td>\n      <td>102</td>\n      <td>16</td>\n      <td>38</td>\n      <td>1545791</td>\n    </tr>\n    <tr>\n      <th>11</th>\n      <td>1982</td>\n      <td>Spain</td>\n      <td>Italy</td>\n      <td>Germany</td>\n      <td>Poland</td>\n      <td>France</td>\n      <td>146</td>\n      <td>24</td>\n      <td>52</td>\n      <td>2109723</td>\n    </tr>\n    <tr>\n      <th>12</th>\n      <td>1986</td>\n      <td>Mexico</td>\n      <td>Argentina</td>\n      <td>Germany</td>\n      <td>France</td>\n      <td>Belgium</td>\n      <td>132</td>\n      <td>24</td>\n      <td>52</td>\n      <td>2394031</td>\n    </tr>\n    <tr>\n      <th>13</th>\n      <td>1990</td>\n      <td>Italy</td>\n      <td>Germany</td>\n      <td>Argentina</td>\n      <td>Italy</td>\n      <td>England</td>\n      <td>115</td>\n      <td>24</td>\n      <td>52</td>\n      <td>2516215</td>\n    </tr>\n    <tr>\n      <th>14</th>\n      <td>1994</td>\n      <td>USA</td>\n      <td>Brazil</td>\n      <td>Italy</td>\n      <td>Sweden</td>\n      <td>Bulgaria</td>\n      <td>141</td>\n      <td>24</td>\n      <td>52</td>\n      <td>3587538</td>\n    </tr>\n    <tr>\n      <th>15</th>\n      <td>1998</td>\n      <td>France</td>\n      <td>France</td>\n      <td>Brazil</td>\n      <td>Croatia</td>\n      <td>Netherlands</td>\n      <td>171</td>\n      <td>32</td>\n      <td>64</td>\n      <td>2785100</td>\n    </tr>\n    <tr>\n      <th>16</th>\n      <td>2002</td>\n      <td>Korea Republic</td>\n      <td>Brazil</td>\n      <td>Germany</td>\n      <td>Turkey</td>\n      <td>Korea Republic</td>\n      <td>161</td>\n      <td>32</td>\n      <td>64</td>\n      <td>2705197</td>\n    </tr>\n    <tr>\n      <th>17</th>\n      <td>2006</td>\n      <td>Germany</td>\n      <td>Italy</td>\n      <td>France</td>\n      <td>Germany</td>\n      <td>Portugal</td>\n      <td>147</td>\n      <td>32</td>\n      <td>64</td>\n      <td>3359439</td>\n    </tr>\n    <tr>\n      <th>18</th>\n      <td>2010</td>\n      <td>South Africa</td>\n      <td>Spain</td>\n      <td>Netherlands</td>\n      <td>Germany</td>\n      <td>Uruguay</td>\n      <td>145</td>\n      <td>32</td>\n      <td>64</td>\n      <td>3178856</td>\n    </tr>\n    <tr>\n      <th>19</th>\n      <td>2014</td>\n      <td>Brazil</td>\n      <td>Germany</td>\n      <td>Argentina</td>\n      <td>Netherlands</td>\n      <td>Brazil</td>\n      <td>171</td>\n      <td>32</td>\n      <td>64</td>\n      <td>3386810</td>\n    </tr>\n    <tr>\n      <th>0</th>\n      <td>2018</td>\n      <td>Russia</td>\n      <td>France</td>\n      <td>Croatia</td>\n      <td>Belgium</td>\n      <td>England</td>\n      <td>169</td>\n      <td>32</td>\n      <td>64</td>\n      <td>3031766</td>\n    </tr>\n  </tbody>\n</table>\n</div>"
     },
     "metadata": {},
     "output_type": "execute_result",
     "execution_count": 15
    }
   ],
   "source": [
    "# World cup 2018\n",
    "\n",
    "db2 = pd.read_csv(\"/Users/home/Dropbox/Databases/fifa-world-cup/Cup.Russia.Matches.csv\")\n",
    "\n",
    "# Order the data to make all aggregate data\n",
    "db2 = db2[['Home Team',\n",
    "           'Home Team Goals',  'Away Team Goals',\n",
    "           'Away Team', 'Total Goals', 'Attendance']]\n",
    "\n",
    "db2['Year'] = 2018\n",
    "db2['Country'] = 'Russia'\n",
    "db2['GoalsScored'] = db2['Total Goals'].sum()\n",
    "\n",
    "# Number of  Qualified teams\n",
    "\n",
    "# Extract useful columns\n",
    "db2_1 = db2['Home Team']\n",
    "db2_2 = db2['Away Team']\n",
    "\n",
    "# Rename columns to merge\n",
    "db2_1.columns = ['Teams']\n",
    "db2_2.columns = ['Teams']\n",
    "\n",
    "# Row binding\n",
    "data_merging = [db2_1, db2_2]\n",
    "db2_12 = pd.concat(data_merging)\n",
    "\n",
    "# Extract only unique cases\n",
    "number = len(db2_12.unique().tolist())\n",
    "db2['Qualifiedteams'] =  number\n",
    "\n",
    "# Calculate total attendance and number of matches playes\n",
    "db2['MatchesPlayed'] = db2['Home Team'].count()\n",
    "db2['Total_attendance'] = db2['Attendance'].sum()\n",
    "\n",
    "# Filter columns\n",
    "db2_aggregation_var = db2[['Year', 'Country', 'GoalsScored',\n",
    "                           'Qualifiedteams', 'MatchesPlayed',\n",
    "                           'Total_attendance']]\n",
    "# Create missing columns\n",
    "db2_aggregation_var['Winner'] = 'France'\n",
    "db2_aggregation_var['Runners-Up'] = 'Croatia' \n",
    "db2_aggregation_var['Third'] = 'Belgium'                    \n",
    "db2_aggregation_var['Fourth'] = 'England' \n",
    "\n",
    "# Re organize columns\n",
    "db2_aggregation_var = db2_aggregation_var[['Year', 'Country',\n",
    "                                           'Winner', 'Runners-Up',\n",
    "                                           'Third', 'Fourth', \n",
    "                                           'GoalsScored', 'Qualifiedteams',\n",
    "                                           'MatchesPlayed', 'Total_attendance']]                    \n",
    "\n",
    "# Rename columns to bind\n",
    "db2_aggregation_var.columns =['Year', 'Country',\n",
    "                                           'Winner', 'Runners-Up',\n",
    "                                           'Third', 'Fourth', \n",
    "                                           'GoalsScored', 'QualifiedTeams',\n",
    "                                           'MatchesPlayed', 'Attendance']                   \n",
    "\n",
    "# Extract single row\n",
    "db2_aggregation_var = db2_aggregation_var[0:1]\n",
    "# Row binding\n",
    "wc_row_bind = [db3, db2_aggregation_var]\n",
    "WC_general_final = pd.concat(wc_row_bind)\n",
    "WC_general_final"
   ],
   "metadata": {
    "collapsed": false,
    "pycharm": {
     "name": "#%%\n",
     "is_executing": false
    }
   }
  },
  {
   "cell_type": "code",
   "execution_count": 16,
   "outputs": [
    {
     "data": {
      "text/plain": "    Year         Country     Winner      Runners-Up        Third  \\\n0   1930         Uruguay    Uruguay       Argentina          USA   \n1   1934           Italy      Italy  Czechoslovakia      Germany   \n2   1938          France      Italy         Hungary       Brazil   \n3   1950          Brazil    Uruguay          Brazil       Sweden   \n4   1954     Switzerland    Germany         Hungary      Austria   \n5   1958          Sweden     Brazil          Sweden       France   \n6   1962           Chile     Brazil  Czechoslovakia        Chile   \n7   1966         England    England         Germany     Portugal   \n8   1970          Mexico     Brazil           Italy      Germany   \n9   1974         Germany    Germany     Netherlands       Poland   \n10  1978       Argentina  Argentina     Netherlands       Brazil   \n11  1982           Spain      Italy         Germany       Poland   \n12  1986          Mexico  Argentina         Germany       France   \n13  1990           Italy    Germany       Argentina        Italy   \n14  1994             USA     Brazil           Italy       Sweden   \n15  1998          France     France          Brazil      Croatia   \n16  2002  Korea Republic     Brazil         Germany       Turkey   \n17  2006         Germany      Italy          France      Germany   \n18  2010    South Africa      Spain     Netherlands      Germany   \n19  2014          Brazil    Germany       Argentina  Netherlands   \n0   2018          Russia     France         Croatia      Belgium   \n\n            Fourth  GoalsScored  QualifiedTeams  MatchesPlayed  Attendance  \\\n0       Yugoslavia           70              13             18      590549   \n1          Austria           70              16             17      363000   \n2           Sweden           84              15             18      375700   \n3            Spain           88              13             22     1045246   \n4          Uruguay          140              16             26      768607   \n5          Germany          126              16             35      819810   \n6       Yugoslavia           89              16             32      893172   \n7     Soviet Union           89              16             32     1563135   \n8          Uruguay           95              16             32     1603975   \n9           Brazil           97              16             38     1865753   \n10           Italy          102              16             38     1545791   \n11          France          146              24             52     2109723   \n12         Belgium          132              24             52     2394031   \n13         England          115              24             52     2516215   \n14        Bulgaria          141              24             52     3587538   \n15     Netherlands          171              32             64     2785100   \n16  Korea Republic          161              32             64     2705197   \n17        Portugal          147              32             64     3359439   \n18         Uruguay          145              32             64     3178856   \n19          Brazil          171              32             64     3386810   \n0          England          169              32             64     3031766   \n\n    Mean_goals  \n0     3.888889  \n1     4.117647  \n2     4.666667  \n3     4.000000  \n4     5.384615  \n5     3.600000  \n6     2.781250  \n7     2.781250  \n8     2.968750  \n9     2.552632  \n10    2.684211  \n11    2.807692  \n12    2.538462  \n13    2.211538  \n14    2.711538  \n15    2.671875  \n16    2.515625  \n17    2.296875  \n18    2.265625  \n19    2.671875  \n0     2.640625  ",
      "text/html": "<div>\n<style scoped>\n    .dataframe tbody tr th:only-of-type {\n        vertical-align: middle;\n    }\n\n    .dataframe tbody tr th {\n        vertical-align: top;\n    }\n\n    .dataframe thead th {\n        text-align: right;\n    }\n</style>\n<table border=\"1\" class=\"dataframe\">\n  <thead>\n    <tr style=\"text-align: right;\">\n      <th></th>\n      <th>Year</th>\n      <th>Country</th>\n      <th>Winner</th>\n      <th>Runners-Up</th>\n      <th>Third</th>\n      <th>Fourth</th>\n      <th>GoalsScored</th>\n      <th>QualifiedTeams</th>\n      <th>MatchesPlayed</th>\n      <th>Attendance</th>\n      <th>Mean_goals</th>\n    </tr>\n  </thead>\n  <tbody>\n    <tr>\n      <th>0</th>\n      <td>1930</td>\n      <td>Uruguay</td>\n      <td>Uruguay</td>\n      <td>Argentina</td>\n      <td>USA</td>\n      <td>Yugoslavia</td>\n      <td>70</td>\n      <td>13</td>\n      <td>18</td>\n      <td>590549</td>\n      <td>3.888889</td>\n    </tr>\n    <tr>\n      <th>1</th>\n      <td>1934</td>\n      <td>Italy</td>\n      <td>Italy</td>\n      <td>Czechoslovakia</td>\n      <td>Germany</td>\n      <td>Austria</td>\n      <td>70</td>\n      <td>16</td>\n      <td>17</td>\n      <td>363000</td>\n      <td>4.117647</td>\n    </tr>\n    <tr>\n      <th>2</th>\n      <td>1938</td>\n      <td>France</td>\n      <td>Italy</td>\n      <td>Hungary</td>\n      <td>Brazil</td>\n      <td>Sweden</td>\n      <td>84</td>\n      <td>15</td>\n      <td>18</td>\n      <td>375700</td>\n      <td>4.666667</td>\n    </tr>\n    <tr>\n      <th>3</th>\n      <td>1950</td>\n      <td>Brazil</td>\n      <td>Uruguay</td>\n      <td>Brazil</td>\n      <td>Sweden</td>\n      <td>Spain</td>\n      <td>88</td>\n      <td>13</td>\n      <td>22</td>\n      <td>1045246</td>\n      <td>4.000000</td>\n    </tr>\n    <tr>\n      <th>4</th>\n      <td>1954</td>\n      <td>Switzerland</td>\n      <td>Germany</td>\n      <td>Hungary</td>\n      <td>Austria</td>\n      <td>Uruguay</td>\n      <td>140</td>\n      <td>16</td>\n      <td>26</td>\n      <td>768607</td>\n      <td>5.384615</td>\n    </tr>\n    <tr>\n      <th>5</th>\n      <td>1958</td>\n      <td>Sweden</td>\n      <td>Brazil</td>\n      <td>Sweden</td>\n      <td>France</td>\n      <td>Germany</td>\n      <td>126</td>\n      <td>16</td>\n      <td>35</td>\n      <td>819810</td>\n      <td>3.600000</td>\n    </tr>\n    <tr>\n      <th>6</th>\n      <td>1962</td>\n      <td>Chile</td>\n      <td>Brazil</td>\n      <td>Czechoslovakia</td>\n      <td>Chile</td>\n      <td>Yugoslavia</td>\n      <td>89</td>\n      <td>16</td>\n      <td>32</td>\n      <td>893172</td>\n      <td>2.781250</td>\n    </tr>\n    <tr>\n      <th>7</th>\n      <td>1966</td>\n      <td>England</td>\n      <td>England</td>\n      <td>Germany</td>\n      <td>Portugal</td>\n      <td>Soviet Union</td>\n      <td>89</td>\n      <td>16</td>\n      <td>32</td>\n      <td>1563135</td>\n      <td>2.781250</td>\n    </tr>\n    <tr>\n      <th>8</th>\n      <td>1970</td>\n      <td>Mexico</td>\n      <td>Brazil</td>\n      <td>Italy</td>\n      <td>Germany</td>\n      <td>Uruguay</td>\n      <td>95</td>\n      <td>16</td>\n      <td>32</td>\n      <td>1603975</td>\n      <td>2.968750</td>\n    </tr>\n    <tr>\n      <th>9</th>\n      <td>1974</td>\n      <td>Germany</td>\n      <td>Germany</td>\n      <td>Netherlands</td>\n      <td>Poland</td>\n      <td>Brazil</td>\n      <td>97</td>\n      <td>16</td>\n      <td>38</td>\n      <td>1865753</td>\n      <td>2.552632</td>\n    </tr>\n    <tr>\n      <th>10</th>\n      <td>1978</td>\n      <td>Argentina</td>\n      <td>Argentina</td>\n      <td>Netherlands</td>\n      <td>Brazil</td>\n      <td>Italy</td>\n      <td>102</td>\n      <td>16</td>\n      <td>38</td>\n      <td>1545791</td>\n      <td>2.684211</td>\n    </tr>\n    <tr>\n      <th>11</th>\n      <td>1982</td>\n      <td>Spain</td>\n      <td>Italy</td>\n      <td>Germany</td>\n      <td>Poland</td>\n      <td>France</td>\n      <td>146</td>\n      <td>24</td>\n      <td>52</td>\n      <td>2109723</td>\n      <td>2.807692</td>\n    </tr>\n    <tr>\n      <th>12</th>\n      <td>1986</td>\n      <td>Mexico</td>\n      <td>Argentina</td>\n      <td>Germany</td>\n      <td>France</td>\n      <td>Belgium</td>\n      <td>132</td>\n      <td>24</td>\n      <td>52</td>\n      <td>2394031</td>\n      <td>2.538462</td>\n    </tr>\n    <tr>\n      <th>13</th>\n      <td>1990</td>\n      <td>Italy</td>\n      <td>Germany</td>\n      <td>Argentina</td>\n      <td>Italy</td>\n      <td>England</td>\n      <td>115</td>\n      <td>24</td>\n      <td>52</td>\n      <td>2516215</td>\n      <td>2.211538</td>\n    </tr>\n    <tr>\n      <th>14</th>\n      <td>1994</td>\n      <td>USA</td>\n      <td>Brazil</td>\n      <td>Italy</td>\n      <td>Sweden</td>\n      <td>Bulgaria</td>\n      <td>141</td>\n      <td>24</td>\n      <td>52</td>\n      <td>3587538</td>\n      <td>2.711538</td>\n    </tr>\n    <tr>\n      <th>15</th>\n      <td>1998</td>\n      <td>France</td>\n      <td>France</td>\n      <td>Brazil</td>\n      <td>Croatia</td>\n      <td>Netherlands</td>\n      <td>171</td>\n      <td>32</td>\n      <td>64</td>\n      <td>2785100</td>\n      <td>2.671875</td>\n    </tr>\n    <tr>\n      <th>16</th>\n      <td>2002</td>\n      <td>Korea Republic</td>\n      <td>Brazil</td>\n      <td>Germany</td>\n      <td>Turkey</td>\n      <td>Korea Republic</td>\n      <td>161</td>\n      <td>32</td>\n      <td>64</td>\n      <td>2705197</td>\n      <td>2.515625</td>\n    </tr>\n    <tr>\n      <th>17</th>\n      <td>2006</td>\n      <td>Germany</td>\n      <td>Italy</td>\n      <td>France</td>\n      <td>Germany</td>\n      <td>Portugal</td>\n      <td>147</td>\n      <td>32</td>\n      <td>64</td>\n      <td>3359439</td>\n      <td>2.296875</td>\n    </tr>\n    <tr>\n      <th>18</th>\n      <td>2010</td>\n      <td>South Africa</td>\n      <td>Spain</td>\n      <td>Netherlands</td>\n      <td>Germany</td>\n      <td>Uruguay</td>\n      <td>145</td>\n      <td>32</td>\n      <td>64</td>\n      <td>3178856</td>\n      <td>2.265625</td>\n    </tr>\n    <tr>\n      <th>19</th>\n      <td>2014</td>\n      <td>Brazil</td>\n      <td>Germany</td>\n      <td>Argentina</td>\n      <td>Netherlands</td>\n      <td>Brazil</td>\n      <td>171</td>\n      <td>32</td>\n      <td>64</td>\n      <td>3386810</td>\n      <td>2.671875</td>\n    </tr>\n    <tr>\n      <th>0</th>\n      <td>2018</td>\n      <td>Russia</td>\n      <td>France</td>\n      <td>Croatia</td>\n      <td>Belgium</td>\n      <td>England</td>\n      <td>169</td>\n      <td>32</td>\n      <td>64</td>\n      <td>3031766</td>\n      <td>2.640625</td>\n    </tr>\n  </tbody>\n</table>\n</div>"
     },
     "metadata": {},
     "output_type": "execute_result",
     "execution_count": 16
    }
   ],
   "source": [
    "# Graphs of averaged golas per WC\n",
    "WC_general_final['Mean_goals'] = WC_general_final['GoalsScored']/WC_general_final['MatchesPlayed']\n",
    "WC_general_final\n"
   ],
   "metadata": {
    "collapsed": false,
    "pycharm": {
     "name": "#%%\n",
     "is_executing": false
    }
   }
  },
  {
   "cell_type": "code",
   "execution_count": 17,
   "outputs": [],
   "source": [
    "# Graficar los promedios\n",
    "\n",
    "\n"
   ],
   "metadata": {
    "collapsed": false,
    "pycharm": {
     "name": "#%%\n",
     "is_executing": false
    }
   }
  },
  {
   "cell_type": "code",
   "execution_count": 18,
   "outputs": [],
   "source": [
    "# Descriptive statistics finding hidden patterns\n",
    "\n",
    "# How many European teams went to the finals?"
   ],
   "metadata": {
    "collapsed": false,
    "pycharm": {
     "name": "#%%\n",
     "is_executing": false
    }
   }
  },
  {
   "cell_type": "code",
   "execution_count": 19,
   "outputs": [],
   "source": [
    "# How many Latin American teams went to the finals?"
   ],
   "metadata": {
    "collapsed": false,
    "pycharm": {
     "name": "#%%\n",
     "is_executing": false
    }
   }
  },
  {
   "cell_type": "code",
   "execution_count": 30,
   "outputs": [
    {
     "data": {
      "text/plain": "    First         Country  Second  Total  Proportion_wins\n0     2.0       Argentina     3.0    5.0         0.400000\n1     5.0          Brazil     2.0    7.0         0.714286\n2     1.0         England     0.0    1.0         1.000000\n3     2.0          France     1.0    3.0         0.666667\n4     4.0         Germany     4.0    8.0         0.500000\n5     4.0           Italy     2.0    6.0         0.666667\n6     1.0           Spain     0.0    1.0         1.000000\n7     2.0         Uruguay     0.0    2.0         1.000000\n8     0.0         Croatia     1.0    1.0         0.000000\n9     0.0  Czechoslovakia     2.0    2.0         0.000000\n10    0.0         Hungary     2.0    2.0         0.000000\n11    0.0     Netherlands     3.0    3.0         0.000000\n12    0.0          Sweden     1.0    1.0         0.000000",
      "text/html": "<div>\n<style scoped>\n    .dataframe tbody tr th:only-of-type {\n        vertical-align: middle;\n    }\n\n    .dataframe tbody tr th {\n        vertical-align: top;\n    }\n\n    .dataframe thead th {\n        text-align: right;\n    }\n</style>\n<table border=\"1\" class=\"dataframe\">\n  <thead>\n    <tr style=\"text-align: right;\">\n      <th></th>\n      <th>First</th>\n      <th>Country</th>\n      <th>Second</th>\n      <th>Total</th>\n      <th>Proportion_wins</th>\n    </tr>\n  </thead>\n  <tbody>\n    <tr>\n      <th>0</th>\n      <td>2.0</td>\n      <td>Argentina</td>\n      <td>3.0</td>\n      <td>5.0</td>\n      <td>0.400000</td>\n    </tr>\n    <tr>\n      <th>1</th>\n      <td>5.0</td>\n      <td>Brazil</td>\n      <td>2.0</td>\n      <td>7.0</td>\n      <td>0.714286</td>\n    </tr>\n    <tr>\n      <th>2</th>\n      <td>1.0</td>\n      <td>England</td>\n      <td>0.0</td>\n      <td>1.0</td>\n      <td>1.000000</td>\n    </tr>\n    <tr>\n      <th>3</th>\n      <td>2.0</td>\n      <td>France</td>\n      <td>1.0</td>\n      <td>3.0</td>\n      <td>0.666667</td>\n    </tr>\n    <tr>\n      <th>4</th>\n      <td>4.0</td>\n      <td>Germany</td>\n      <td>4.0</td>\n      <td>8.0</td>\n      <td>0.500000</td>\n    </tr>\n    <tr>\n      <th>5</th>\n      <td>4.0</td>\n      <td>Italy</td>\n      <td>2.0</td>\n      <td>6.0</td>\n      <td>0.666667</td>\n    </tr>\n    <tr>\n      <th>6</th>\n      <td>1.0</td>\n      <td>Spain</td>\n      <td>0.0</td>\n      <td>1.0</td>\n      <td>1.000000</td>\n    </tr>\n    <tr>\n      <th>7</th>\n      <td>2.0</td>\n      <td>Uruguay</td>\n      <td>0.0</td>\n      <td>2.0</td>\n      <td>1.000000</td>\n    </tr>\n    <tr>\n      <th>8</th>\n      <td>0.0</td>\n      <td>Croatia</td>\n      <td>1.0</td>\n      <td>1.0</td>\n      <td>0.000000</td>\n    </tr>\n    <tr>\n      <th>9</th>\n      <td>0.0</td>\n      <td>Czechoslovakia</td>\n      <td>2.0</td>\n      <td>2.0</td>\n      <td>0.000000</td>\n    </tr>\n    <tr>\n      <th>10</th>\n      <td>0.0</td>\n      <td>Hungary</td>\n      <td>2.0</td>\n      <td>2.0</td>\n      <td>0.000000</td>\n    </tr>\n    <tr>\n      <th>11</th>\n      <td>0.0</td>\n      <td>Netherlands</td>\n      <td>3.0</td>\n      <td>3.0</td>\n      <td>0.000000</td>\n    </tr>\n    <tr>\n      <th>12</th>\n      <td>0.0</td>\n      <td>Sweden</td>\n      <td>1.0</td>\n      <td>1.0</td>\n      <td>0.000000</td>\n    </tr>\n  </tbody>\n</table>\n</div>"
     },
     "metadata": {},
     "output_type": "execute_result",
     "execution_count": 30
    }
   ],
   "source": [
    "# Which team is the most efficient when it reaches the final?\n",
    "\n",
    "WC_general_final_winner = pd.DataFrame(WC_general_final['Winner'])\n",
    "WC_general_final_runnerup = pd.DataFrame(WC_general_final['Runners-Up'])\n",
    "\n",
    "\n",
    "WC_general_final_winner['First'] = 1\n",
    "WC_general_final_runnerup['Second'] = 1\n",
    "\n",
    "WC_general_final_winner = pd.DataFrame(WC_general_final_winner.groupby('Winner')['First'].sum()) # Aggregate get goals\n",
    "\n",
    "WC_general_final_winner['Country']=WC_general_final_winner.index\n",
    "WC_general_final_winner = WC_general_final_winner.reset_index(drop=True)\n",
    "\n",
    "\n",
    "WC_general_final_runnerup = pd.DataFrame(WC_general_final_runnerup.groupby('Runners-Up')['Second'].sum())\n",
    "\n",
    "WC_general_final_runnerup['Country'] = WC_general_final_runnerup.index \n",
    "WC_general_final_runnerup = WC_general_final_runnerup.reset_index(drop=True)\n",
    "\n",
    "WC_general_final_win_runner =  pd.merge(WC_general_final_winner, \n",
    "                                        WC_general_final_runnerup,\n",
    "                                        how='outer', left_on='Country', \n",
    "                                        right_on='Country')\n",
    "\n",
    "WC_general_final_win_runner = WC_general_final_win_runner.replace(to_replace= np.nan,\n",
    "                                                                  value = 0)\n",
    "\n",
    "WC_general_final_win_runner['Total'] = WC_general_final_win_runner['First']+ WC_general_final_win_runner['Second']\n",
    "WC_general_final_win_runner['Proportion_wins'] = WC_general_final_win_runner['First']/WC_general_final_win_runner['Total']\n",
    "WC_general_final_win_runner\n"
   ],
   "metadata": {
    "collapsed": false,
    "pycharm": {
     "name": "#%%\n",
     "is_executing": false
    }
   }
  },
  {
   "cell_type": "code",
   "execution_count": 21,
   "outputs": [
    {
     "data": {
      "text/plain": "0.2857142857142857"
     },
     "metadata": {},
     "output_type": "execute_result",
     "execution_count": 21
    }
   ],
   "source": [
    "# How many teams that were host won \n",
    "\n",
    "WC_general_final.loc[WC_general_final['Country'] == WC_general_final['Winner'], 'Host_win']  = 1\n",
    "WC_general_final.loc[WC_general_final['Country'] != WC_general_final['Winner'], 'Host_win']  = 0\n",
    "Resultado = WC_general_final['Host_win'].sum()/len(WC_general_final['Host_win'])\n",
    "Resultado"
   ],
   "metadata": {
    "collapsed": false,
    "pycharm": {
     "name": "#%%\n",
     "is_executing": false
    }
   }
  },
  {
   "cell_type": "code",
   "execution_count": 22,
   "outputs": [
    {
     "data": {
      "text/plain": "0.09523809523809523"
     },
     "metadata": {},
     "output_type": "execute_result",
     "execution_count": 22
    }
   ],
   "source": [
    "# How many teams that were host lost finals\n",
    "WC_general_final.loc[WC_general_final['Country'] == WC_general_final['Runners-Up'], 'Host_loss'] = 1\n",
    "WC_general_final.loc[WC_general_final['Country'] != WC_general_final['Runners-Up'], 'Host_loss'] = 0\n",
    "Resultado2 = WC_general_final['Host_loss'].sum()/len(WC_general_final['Host_loss'])\n",
    "Resultado2"
   ],
   "metadata": {
    "collapsed": false,
    "pycharm": {
     "name": "#%%\n",
     "is_executing": false
    }
   }
  },
  {
   "cell_type": "code",
   "execution_count": 23,
   "outputs": [
    {
     "data": {
      "text/plain": "0.6190476190476191"
     },
     "metadata": {},
     "output_type": "execute_result",
     "execution_count": 23
    }
   ],
   "source": [
    "# How many host teams at least went to the semifinals\n",
    "\n",
    "\n",
    "def function(row):\n",
    "    if row['Country'] == row['Winner']:\n",
    "        val = 1\n",
    "    elif row['Country'] == row['Runners-Up']:\n",
    "        val = 1\n",
    "    elif row['Country'] == row['Third']: \n",
    "        val = 1\n",
    "    elif row['Country'] == row['Fourth']:\n",
    "        val = 1\n",
    "    else:\n",
    "        val = 0\n",
    "    return val\n",
    "        \n",
    "WC_general_final['Host_semifinal'] = WC_general_final.apply(function, axis=1)  \n",
    "WC_general_final.reset_index(drop=True)\n",
    "\n",
    "Resultado3 = WC_general_final['Host_semifinal'].sum()/len(WC_general_final['Host_semifinal'])\n",
    "Resultado3"
   ],
   "metadata": {
    "collapsed": false,
    "pycharm": {
     "name": "#%%\n",
     "is_executing": false
    }
   }
  },
  {
   "cell_type": "code",
   "execution_count": 24,
   "outputs": [
    {
     "data": {
      "text/plain": "      Year Home Team Name  Home Team Goals  Away Team Goals Away Team Name\n0   1930.0         France              4.0              1.0         Mexico\n1   1930.0            USA              3.0              0.0        Belgium\n2   1930.0     Yugoslavia              2.0              1.0         Brazil\n3   1930.0        Romania              3.0              1.0           Peru\n4   1930.0      Argentina              1.0              0.0         France\n..     ...            ...              ...              ...            ...\n59  2018.0         Russia              2.0              2.0        Croatia\n60  2018.0         France              1.0              0.0        Belgium\n61  2018.0        Croatia              2.0              1.0        England\n62  2018.0        Belgium              2.0              0.0        England\n63  2018.0         France              4.0              2.0        Croatia\n\n[4636 rows x 5 columns]",
      "text/html": "<div>\n<style scoped>\n    .dataframe tbody tr th:only-of-type {\n        vertical-align: middle;\n    }\n\n    .dataframe tbody tr th {\n        vertical-align: top;\n    }\n\n    .dataframe thead th {\n        text-align: right;\n    }\n</style>\n<table border=\"1\" class=\"dataframe\">\n  <thead>\n    <tr style=\"text-align: right;\">\n      <th></th>\n      <th>Year</th>\n      <th>Home Team Name</th>\n      <th>Home Team Goals</th>\n      <th>Away Team Goals</th>\n      <th>Away Team Name</th>\n    </tr>\n  </thead>\n  <tbody>\n    <tr>\n      <th>0</th>\n      <td>1930.0</td>\n      <td>France</td>\n      <td>4.0</td>\n      <td>1.0</td>\n      <td>Mexico</td>\n    </tr>\n    <tr>\n      <th>1</th>\n      <td>1930.0</td>\n      <td>USA</td>\n      <td>3.0</td>\n      <td>0.0</td>\n      <td>Belgium</td>\n    </tr>\n    <tr>\n      <th>2</th>\n      <td>1930.0</td>\n      <td>Yugoslavia</td>\n      <td>2.0</td>\n      <td>1.0</td>\n      <td>Brazil</td>\n    </tr>\n    <tr>\n      <th>3</th>\n      <td>1930.0</td>\n      <td>Romania</td>\n      <td>3.0</td>\n      <td>1.0</td>\n      <td>Peru</td>\n    </tr>\n    <tr>\n      <th>4</th>\n      <td>1930.0</td>\n      <td>Argentina</td>\n      <td>1.0</td>\n      <td>0.0</td>\n      <td>France</td>\n    </tr>\n    <tr>\n      <th>...</th>\n      <td>...</td>\n      <td>...</td>\n      <td>...</td>\n      <td>...</td>\n      <td>...</td>\n    </tr>\n    <tr>\n      <th>59</th>\n      <td>2018.0</td>\n      <td>Russia</td>\n      <td>2.0</td>\n      <td>2.0</td>\n      <td>Croatia</td>\n    </tr>\n    <tr>\n      <th>60</th>\n      <td>2018.0</td>\n      <td>France</td>\n      <td>1.0</td>\n      <td>0.0</td>\n      <td>Belgium</td>\n    </tr>\n    <tr>\n      <th>61</th>\n      <td>2018.0</td>\n      <td>Croatia</td>\n      <td>2.0</td>\n      <td>1.0</td>\n      <td>England</td>\n    </tr>\n    <tr>\n      <th>62</th>\n      <td>2018.0</td>\n      <td>Belgium</td>\n      <td>2.0</td>\n      <td>0.0</td>\n      <td>England</td>\n    </tr>\n    <tr>\n      <th>63</th>\n      <td>2018.0</td>\n      <td>France</td>\n      <td>4.0</td>\n      <td>2.0</td>\n      <td>Croatia</td>\n    </tr>\n  </tbody>\n</table>\n<p>4636 rows × 5 columns</p>\n</div>"
     },
     "metadata": {},
     "output_type": "execute_result",
     "execution_count": 24
    }
   ],
   "source": [
    "# Create a variable of Year for Russia\n",
    "db2['Year'] = 2018\n",
    "# Re organize the variables\n",
    "db2_matches = db2[['Year','Home Team', 'Home Team Goals', 'Away Team Goals',\n",
    "                   'Away Team']]\n",
    "\n",
    "\n",
    "# Rename the variables\n",
    "db2_matches.columns = ['Year', 'Home Team Name', 'Home Team Goals', \n",
    "                      'Away Team Goals', 'Away Team Name']\n",
    "\n",
    "matches_bind = [db,db2_matches]\n",
    "WC_matches_final = pd.concat(matches_bind)\n",
    "WC_matches_final"
   ],
   "metadata": {
    "collapsed": false,
    "pycharm": {
     "name": "#%%\n",
     "is_executing": false
    }
   }
  },
  {
   "cell_type": "code",
   "execution_count": 25,
   "outputs": [],
   "source": [
    "# Merge data sets\n",
    "\n"
   ],
   "metadata": {
    "collapsed": false,
    "pycharm": {
     "name": "#%%\n",
     "is_executing": false
    }
   }
  },
  {
   "cell_type": "code",
   "execution_count": 25,
   "outputs": [],
   "source": [],
   "metadata": {
    "collapsed": false,
    "pycharm": {
     "name": "#%%",
     "is_executing": false
    }
   }
  }
 ],
 "metadata": {
  "kernelspec": {
   "display_name": "Python 3",
   "language": "python",
   "name": "python3"
  },
  "language_info": {
   "codemirror_mode": {
    "name": "ipython",
    "version": 2
   },
   "file_extension": ".py",
   "mimetype": "text/x-python",
   "name": "python",
   "nbconvert_exporter": "python",
   "pygments_lexer": "ipython2",
   "version": "2.7.6"
  },
  "pycharm": {
   "stem_cell": {
    "cell_type": "raw",
    "source": [],
    "metadata": {
     "collapsed": false
    }
   }
  }
 },
 "nbformat": 4,
 "nbformat_minor": 0
}