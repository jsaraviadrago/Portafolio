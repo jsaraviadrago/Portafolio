{
 "cells": [
  {
   "cell_type": "code",
   "execution_count": 17,
   "metadata": {
    "collapsed": true,
    "pycharm": {
     "is_executing": false
    }
   },
   "outputs": [
    {
     "name": "stdout",
     "text": [
      "<class 'pandas.core.frame.DataFrame'>\nRangeIndex: 4572 entries, 0 to 4571\nData columns (total 20 columns):\n #   Column                Non-Null Count  Dtype  \n---  ------                --------------  -----  \n 0   Year                  852 non-null    float64\n 1   Datetime              852 non-null    object \n 2   Stage                 852 non-null    object \n 3   Stadium               852 non-null    object \n 4   City                  852 non-null    object \n 5   Home Team Name        852 non-null    object \n 6   Home Team Goals       852 non-null    float64\n 7   Away Team Goals       852 non-null    float64\n 8   Away Team Name        852 non-null    object \n 9   Win conditions        852 non-null    object \n 10  Attendance            850 non-null    float64\n 11  Half-time Home Goals  852 non-null    float64\n 12  Half-time Away Goals  852 non-null    float64\n 13  Referee               852 non-null    object \n 14  Assistant 1           852 non-null    object \n 15  Assistant 2           852 non-null    object \n 16  RoundID               852 non-null    float64\n 17  MatchID               852 non-null    float64\n 18  Home Team Initials    852 non-null    object \n 19  Away Team Initials    852 non-null    object \ndtypes: float64(8), object(12)\nmemory usage: 714.5+ KB\n"
     ],
     "output_type": "stream"
    }
   ],
   "source": [
    "import pandas as pd\n",
    "import numpy as np\n",
    "\n",
    "\n",
    "db = pd.read_csv(\"/Users/home/Dropbox/Databases/fifa-world-cup/WorldCupMatches.csv\")\n",
    "db.info()\n"
   ]
  },
  {
   "cell_type": "code",
   "execution_count": 34,
   "outputs": [
    {
     "data": {
      "text/plain": "      Year  average_goals  total_goals  total_games\n0   1930.0       3.888889         70.0           18\n1   1934.0       4.117647         70.0           17\n2   1938.0       4.666667         84.0           18\n3   1950.0       4.000000         88.0           22\n4   1954.0       5.384615        140.0           26\n5   1958.0       3.600000        126.0           35\n6   1962.0       2.781250         89.0           32\n7   1966.0       2.781250         89.0           32\n8   1970.0       2.968750         95.0           32\n9   1974.0       2.552632         97.0           38\n10  1978.0       2.684211        102.0           38\n11  1982.0       2.807692        146.0           52\n12  1986.0       2.538462        132.0           52\n13  1990.0       2.211538        115.0           52\n14  1994.0       2.711538        141.0           52\n15  1998.0       2.671875        171.0           64\n16  2002.0       2.515625        161.0           64\n17  2006.0       2.296875        147.0           64\n18  2010.0       2.265625        145.0           64\n19  2014.0       2.575000        206.0           80",
      "text/html": "<div>\n<style scoped>\n    .dataframe tbody tr th:only-of-type {\n        vertical-align: middle;\n    }\n\n    .dataframe tbody tr th {\n        vertical-align: top;\n    }\n\n    .dataframe thead th {\n        text-align: right;\n    }\n</style>\n<table border=\"1\" class=\"dataframe\">\n  <thead>\n    <tr style=\"text-align: right;\">\n      <th></th>\n      <th>Year</th>\n      <th>average_goals</th>\n      <th>total_goals</th>\n      <th>total_games</th>\n    </tr>\n  </thead>\n  <tbody>\n    <tr>\n      <th>0</th>\n      <td>1930.0</td>\n      <td>3.888889</td>\n      <td>70.0</td>\n      <td>18</td>\n    </tr>\n    <tr>\n      <th>1</th>\n      <td>1934.0</td>\n      <td>4.117647</td>\n      <td>70.0</td>\n      <td>17</td>\n    </tr>\n    <tr>\n      <th>2</th>\n      <td>1938.0</td>\n      <td>4.666667</td>\n      <td>84.0</td>\n      <td>18</td>\n    </tr>\n    <tr>\n      <th>3</th>\n      <td>1950.0</td>\n      <td>4.000000</td>\n      <td>88.0</td>\n      <td>22</td>\n    </tr>\n    <tr>\n      <th>4</th>\n      <td>1954.0</td>\n      <td>5.384615</td>\n      <td>140.0</td>\n      <td>26</td>\n    </tr>\n    <tr>\n      <th>5</th>\n      <td>1958.0</td>\n      <td>3.600000</td>\n      <td>126.0</td>\n      <td>35</td>\n    </tr>\n    <tr>\n      <th>6</th>\n      <td>1962.0</td>\n      <td>2.781250</td>\n      <td>89.0</td>\n      <td>32</td>\n    </tr>\n    <tr>\n      <th>7</th>\n      <td>1966.0</td>\n      <td>2.781250</td>\n      <td>89.0</td>\n      <td>32</td>\n    </tr>\n    <tr>\n      <th>8</th>\n      <td>1970.0</td>\n      <td>2.968750</td>\n      <td>95.0</td>\n      <td>32</td>\n    </tr>\n    <tr>\n      <th>9</th>\n      <td>1974.0</td>\n      <td>2.552632</td>\n      <td>97.0</td>\n      <td>38</td>\n    </tr>\n    <tr>\n      <th>10</th>\n      <td>1978.0</td>\n      <td>2.684211</td>\n      <td>102.0</td>\n      <td>38</td>\n    </tr>\n    <tr>\n      <th>11</th>\n      <td>1982.0</td>\n      <td>2.807692</td>\n      <td>146.0</td>\n      <td>52</td>\n    </tr>\n    <tr>\n      <th>12</th>\n      <td>1986.0</td>\n      <td>2.538462</td>\n      <td>132.0</td>\n      <td>52</td>\n    </tr>\n    <tr>\n      <th>13</th>\n      <td>1990.0</td>\n      <td>2.211538</td>\n      <td>115.0</td>\n      <td>52</td>\n    </tr>\n    <tr>\n      <th>14</th>\n      <td>1994.0</td>\n      <td>2.711538</td>\n      <td>141.0</td>\n      <td>52</td>\n    </tr>\n    <tr>\n      <th>15</th>\n      <td>1998.0</td>\n      <td>2.671875</td>\n      <td>171.0</td>\n      <td>64</td>\n    </tr>\n    <tr>\n      <th>16</th>\n      <td>2002.0</td>\n      <td>2.515625</td>\n      <td>161.0</td>\n      <td>64</td>\n    </tr>\n    <tr>\n      <th>17</th>\n      <td>2006.0</td>\n      <td>2.296875</td>\n      <td>147.0</td>\n      <td>64</td>\n    </tr>\n    <tr>\n      <th>18</th>\n      <td>2010.0</td>\n      <td>2.265625</td>\n      <td>145.0</td>\n      <td>64</td>\n    </tr>\n    <tr>\n      <th>19</th>\n      <td>2014.0</td>\n      <td>2.575000</td>\n      <td>206.0</td>\n      <td>80</td>\n    </tr>\n  </tbody>\n</table>\n</div>"
     },
     "metadata": {},
     "output_type": "execute_result",
     "execution_count": 34
    }
   ],
   "source": [
    "db = db[['Year', 'City', 'Home Team Name', 'Home Team Goals',\n",
    "         'Away Team Goals', 'Away Team Name', 'Half-time Home Goals',\n",
    "         'Half-time Away Goals', 'Home Team Initials', 'Away Team Initials']]\n",
    "\n",
    "#db.describe()\n",
    "db['Total_goals'] = db['Home Team Goals'] + db['Away Team Goals']\n",
    "#db.groupby('Year')['Total_goals'].mean()\n",
    "#db.groupby('Year')['Total_goals'].sum()\n",
    "#db.groupby('Year')['Total_goals'].count()\n",
    "db2 = (db.groupby(['Year'])['Total_goals']\n",
    "         .agg([('average_goals','mean'),('total_goals','sum'), ('total_games','count')])\n",
    "         .reset_index())\n",
    "db2"
   ],
   "metadata": {
    "collapsed": false,
    "pycharm": {
     "name": "#%%\n",
     "is_executing": false
    }
   }
  },
  {
   "cell_type": "code",
   "execution_count": 18,
   "outputs": [],
   "source": [],
   "metadata": {
    "collapsed": false,
    "pycharm": {
     "name": "#%%\n",
     "is_executing": false
    }
   }
  },
  {
   "cell_type": "code",
   "execution_count": 18,
   "outputs": [],
   "source": [],
   "metadata": {
    "collapsed": false,
    "pycharm": {
     "name": "#%%\n",
     "is_executing": false
    }
   }
  },
  {
   "cell_type": "code",
   "execution_count": 18,
   "outputs": [],
   "source": [],
   "metadata": {
    "collapsed": false,
    "pycharm": {
     "name": "#%%\n",
     "is_executing": false
    }
   }
  }
 ],
 "metadata": {
  "kernelspec": {
   "display_name": "Python 3",
   "language": "python",
   "name": "python3"
  },
  "language_info": {
   "codemirror_mode": {
    "name": "ipython",
    "version": 2
   },
   "file_extension": ".py",
   "mimetype": "text/x-python",
   "name": "python",
   "nbconvert_exporter": "python",
   "pygments_lexer": "ipython2",
   "version": "2.7.6"
  },
  "pycharm": {
   "stem_cell": {
    "cell_type": "raw",
    "source": [],
    "metadata": {
     "collapsed": false
    }
   }
  }
 },
 "nbformat": 4,
 "nbformat_minor": 0
}