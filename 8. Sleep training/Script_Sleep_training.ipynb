{
 "cells": [
  {
   "cell_type": "code",
   "execution_count": 54,
   "metadata": {
    "collapsed": true,
    "pycharm": {
     "is_executing": false
    }
   },
   "outputs": [],
   "source": [
    "import pandas as pd\n",
    "\n"
   ]
  },
  {
   "cell_type": "code",
   "execution_count": 55,
   "outputs": [],
   "source": [
    "data_st = pd.read_csv(\"/Users/home/Dropbox/Databases/Sleep training/Sleep_training.csv\")\n",
    "\n",
    "data_st = data_st[['Dia', 'Hora_inicio', \n",
    "                   'Actividad', 'Codigo_Actividad']]\n"
   ],
   "metadata": {
    "collapsed": false,
    "pycharm": {
     "name": "#%%\n",
     "is_executing": false
    }
   }
  },
  {
   "cell_type": "code",
   "execution_count": 59,
   "outputs": [
    {
     "data": {
      "text/plain": "         Dia Codigo_Actividad  Actividad\n0   16/10/20               DL          5\n1   17/10/20               DL          2\n2   18/10/20               QD          3\n3   18/10/20               DL          4\n4   19/10/20               QD          2\n5   19/10/20               DL          2\n6   20/10/20               QD          3\n7   20/10/20               DL          4\n8   21/10/20               QD          2\n9   21/10/20               DL          1\n10  22/10/20               DL          1\n11  22/10/20               QD          3\n12  23/10/20               QD          2\n13  23/10/20               DL          1\n14  24/10/20               DL          1\n15  24/10/20               QD          1\n16  25/10/20               QD          3\n17  25/10/20               DL          1\n18  26/10/20               QD          2\n19  27/10/20               DL          2\n20  27/10/20               QD          1\n21  28/10/20               QD          2\n22  28/10/20               DL          2\n23  29/10/20               QD          1\n24  30/10/20               DL          2\n25  30/10/20               QD          3\n26  31/10/20               QD          1\n27  31/10/20               DL          1\n28   1/11/20               QD          2\n29   1/11/20               DL          1\n30   2/11/20               QD          3\n31   3/11/20               DL          1\n32   5/11/20               QD          3\n33   5/11/20               DL          2\n34   7/11/20               DL          2\n35   8/11/20               QD          1\n36   8/11/20               DL          1\n37  13/11/20               QD          1\n38  14/11/20               QD          1\n39  14/11/20               DL          1\n40  17/11/20               QD          4",
      "text/html": "<div>\n<style scoped>\n    .dataframe tbody tr th:only-of-type {\n        vertical-align: middle;\n    }\n\n    .dataframe tbody tr th {\n        vertical-align: top;\n    }\n\n    .dataframe thead th {\n        text-align: right;\n    }\n</style>\n<table border=\"1\" class=\"dataframe\">\n  <thead>\n    <tr style=\"text-align: right;\">\n      <th></th>\n      <th>Dia</th>\n      <th>Codigo_Actividad</th>\n      <th>Actividad</th>\n    </tr>\n  </thead>\n  <tbody>\n    <tr>\n      <th>0</th>\n      <td>16/10/20</td>\n      <td>DL</td>\n      <td>5</td>\n    </tr>\n    <tr>\n      <th>1</th>\n      <td>17/10/20</td>\n      <td>DL</td>\n      <td>2</td>\n    </tr>\n    <tr>\n      <th>2</th>\n      <td>18/10/20</td>\n      <td>QD</td>\n      <td>3</td>\n    </tr>\n    <tr>\n      <th>3</th>\n      <td>18/10/20</td>\n      <td>DL</td>\n      <td>4</td>\n    </tr>\n    <tr>\n      <th>4</th>\n      <td>19/10/20</td>\n      <td>QD</td>\n      <td>2</td>\n    </tr>\n    <tr>\n      <th>5</th>\n      <td>19/10/20</td>\n      <td>DL</td>\n      <td>2</td>\n    </tr>\n    <tr>\n      <th>6</th>\n      <td>20/10/20</td>\n      <td>QD</td>\n      <td>3</td>\n    </tr>\n    <tr>\n      <th>7</th>\n      <td>20/10/20</td>\n      <td>DL</td>\n      <td>4</td>\n    </tr>\n    <tr>\n      <th>8</th>\n      <td>21/10/20</td>\n      <td>QD</td>\n      <td>2</td>\n    </tr>\n    <tr>\n      <th>9</th>\n      <td>21/10/20</td>\n      <td>DL</td>\n      <td>1</td>\n    </tr>\n    <tr>\n      <th>10</th>\n      <td>22/10/20</td>\n      <td>DL</td>\n      <td>1</td>\n    </tr>\n    <tr>\n      <th>11</th>\n      <td>22/10/20</td>\n      <td>QD</td>\n      <td>3</td>\n    </tr>\n    <tr>\n      <th>12</th>\n      <td>23/10/20</td>\n      <td>QD</td>\n      <td>2</td>\n    </tr>\n    <tr>\n      <th>13</th>\n      <td>23/10/20</td>\n      <td>DL</td>\n      <td>1</td>\n    </tr>\n    <tr>\n      <th>14</th>\n      <td>24/10/20</td>\n      <td>DL</td>\n      <td>1</td>\n    </tr>\n    <tr>\n      <th>15</th>\n      <td>24/10/20</td>\n      <td>QD</td>\n      <td>1</td>\n    </tr>\n    <tr>\n      <th>16</th>\n      <td>25/10/20</td>\n      <td>QD</td>\n      <td>3</td>\n    </tr>\n    <tr>\n      <th>17</th>\n      <td>25/10/20</td>\n      <td>DL</td>\n      <td>1</td>\n    </tr>\n    <tr>\n      <th>18</th>\n      <td>26/10/20</td>\n      <td>QD</td>\n      <td>2</td>\n    </tr>\n    <tr>\n      <th>19</th>\n      <td>27/10/20</td>\n      <td>DL</td>\n      <td>2</td>\n    </tr>\n    <tr>\n      <th>20</th>\n      <td>27/10/20</td>\n      <td>QD</td>\n      <td>1</td>\n    </tr>\n    <tr>\n      <th>21</th>\n      <td>28/10/20</td>\n      <td>QD</td>\n      <td>2</td>\n    </tr>\n    <tr>\n      <th>22</th>\n      <td>28/10/20</td>\n      <td>DL</td>\n      <td>2</td>\n    </tr>\n    <tr>\n      <th>23</th>\n      <td>29/10/20</td>\n      <td>QD</td>\n      <td>1</td>\n    </tr>\n    <tr>\n      <th>24</th>\n      <td>30/10/20</td>\n      <td>DL</td>\n      <td>2</td>\n    </tr>\n    <tr>\n      <th>25</th>\n      <td>30/10/20</td>\n      <td>QD</td>\n      <td>3</td>\n    </tr>\n    <tr>\n      <th>26</th>\n      <td>31/10/20</td>\n      <td>QD</td>\n      <td>1</td>\n    </tr>\n    <tr>\n      <th>27</th>\n      <td>31/10/20</td>\n      <td>DL</td>\n      <td>1</td>\n    </tr>\n    <tr>\n      <th>28</th>\n      <td>1/11/20</td>\n      <td>QD</td>\n      <td>2</td>\n    </tr>\n    <tr>\n      <th>29</th>\n      <td>1/11/20</td>\n      <td>DL</td>\n      <td>1</td>\n    </tr>\n    <tr>\n      <th>30</th>\n      <td>2/11/20</td>\n      <td>QD</td>\n      <td>3</td>\n    </tr>\n    <tr>\n      <th>31</th>\n      <td>3/11/20</td>\n      <td>DL</td>\n      <td>1</td>\n    </tr>\n    <tr>\n      <th>32</th>\n      <td>5/11/20</td>\n      <td>QD</td>\n      <td>3</td>\n    </tr>\n    <tr>\n      <th>33</th>\n      <td>5/11/20</td>\n      <td>DL</td>\n      <td>2</td>\n    </tr>\n    <tr>\n      <th>34</th>\n      <td>7/11/20</td>\n      <td>DL</td>\n      <td>2</td>\n    </tr>\n    <tr>\n      <th>35</th>\n      <td>8/11/20</td>\n      <td>QD</td>\n      <td>1</td>\n    </tr>\n    <tr>\n      <th>36</th>\n      <td>8/11/20</td>\n      <td>DL</td>\n      <td>1</td>\n    </tr>\n    <tr>\n      <th>37</th>\n      <td>13/11/20</td>\n      <td>QD</td>\n      <td>1</td>\n    </tr>\n    <tr>\n      <th>38</th>\n      <td>14/11/20</td>\n      <td>QD</td>\n      <td>1</td>\n    </tr>\n    <tr>\n      <th>39</th>\n      <td>14/11/20</td>\n      <td>DL</td>\n      <td>1</td>\n    </tr>\n    <tr>\n      <th>40</th>\n      <td>17/11/20</td>\n      <td>QD</td>\n      <td>4</td>\n    </tr>\n  </tbody>\n</table>\n</div>"
     },
     "metadata": {},
     "output_type": "execute_result",
     "execution_count": 59
    }
   ],
   "source": [
    "# Data de veces que desperto y veces que se quejo\n",
    "despertar = [\"DL\",\"QD\"]\n",
    "data_st_dlqd = data_st[data_st.Codigo_Actividad.isin(despertar)]\n",
    "\n",
    "data_st_dlqd_summary = pd.DataFrame(data_st_dlqd.groupby(['Dia',\n",
    "                                                          'Codigo_Actividad'],\n",
    "                                                         sort=False).count( \n",
    "                                                         ).reset_index())\n",
    "\n",
    "data_st_dlqd_summary = data_st_dlqd_summary[['Dia',\n",
    "                                             'Codigo_Actividad', 'Actividad']]\n",
    "\n"
   ],
   "metadata": {
    "collapsed": false,
    "pycharm": {
     "name": "#%%\n",
     "is_executing": false
    }
   }
  },
  {
   "cell_type": "code",
   "execution_count": 56,
   "outputs": [],
   "source": [],
   "metadata": {
    "collapsed": false,
    "pycharm": {
     "name": "#%%\n",
     "is_executing": false
    }
   }
  },
  {
   "cell_type": "code",
   "execution_count": 57,
   "outputs": [],
   "source": [],
   "metadata": {
    "collapsed": false,
    "pycharm": {
     "name": "#%%\n",
     "is_executing": false
    }
   }
  }
 ],
 "metadata": {
  "kernelspec": {
   "display_name": "Python 3",
   "language": "python",
   "name": "python3"
  },
  "language_info": {
   "codemirror_mode": {
    "name": "ipython",
    "version": 2
   },
   "file_extension": ".py",
   "mimetype": "text/x-python",
   "name": "python",
   "nbconvert_exporter": "python",
   "pygments_lexer": "ipython2",
   "version": "2.7.6"
  },
  "pycharm": {
   "stem_cell": {
    "cell_type": "raw",
    "source": [],
    "metadata": {
     "collapsed": false
    }
   }
  }
 },
 "nbformat": 4,
 "nbformat_minor": 0
}