{
 "cells": [
  {
   "cell_type": "code",
   "execution_count": 1,
   "metadata": {
    "collapsed": true,
    "pycharm": {
     "is_executing": false
    }
   },
   "outputs": [],
   "source": [
    "import pandas as pd\n",
    "\n",
    "data_sleep_training = pd.read_csv(\"/Users/home/Documents/Mediums/Sleep training/Sleep_training_261020.csv\")"
   ]
  },
  {
   "cell_type": "code",
   "execution_count": 2,
   "outputs": [
    {
     "name": "stdout",
     "text": [
      "<class 'pandas.core.frame.DataFrame'>\nRangeIndex: 161 entries, 0 to 160\nData columns (total 20 columns):\n #   Column                   Non-Null Count  Dtype  \n---  ------                   --------------  -----  \n 0   Dia                      161 non-null    object \n 1   Hora_inicio              161 non-null    object \n 2   Actividad                161 non-null    object \n 3   Codigo_Actividad         161 non-null    object \n 4   Siesta1_inicio           134 non-null    object \n 5   Siesta1_final            134 non-null    object \n 6   Siesta2_inicio           134 non-null    object \n 7   Siesta2_final            134 non-null    object \n 8   Siesta3_inicio           117 non-null    object \n 9   Siesta3_final            117 non-null    object \n 10  Nap_time_siesta1         134 non-null    object \n 11  Nap_time_siesta2         134 non-null    object \n 12  NAP_time_siesta3         117 non-null    object \n 13  Awake_time_siesta1       134 non-null    object \n 14  Awake_time_siesta2       134 non-null    object \n 15  Awake_time_siesta3       117 non-null    object \n 16  Awake_time_dormir_noche  134 non-null    object \n 17  Sum_Nap                  134 non-null    object \n 18  Sum_awake                134 non-null    object \n 19  Unnamed: 19              0 non-null      float64\ndtypes: float64(1), object(19)\nmemory usage: 25.3+ KB\n"
     ],
     "output_type": "stream"
    }
   ],
   "source": [
    "data_sleep_training.info()"
   ],
   "metadata": {
    "collapsed": false,
    "pycharm": {
     "name": "#%%\n",
     "is_executing": false
    }
   }
  },
  {
   "cell_type": "code",
   "execution_count": 2,
   "outputs": [],
   "source": [],
   "metadata": {
    "collapsed": false,
    "pycharm": {
     "name": "#%%\n",
     "is_executing": false
    }
   }
  }
 ],
 "metadata": {
  "kernelspec": {
   "display_name": "Python 3",
   "language": "python",
   "name": "python3"
  },
  "language_info": {
   "codemirror_mode": {
    "name": "ipython",
    "version": 2
   },
   "file_extension": ".py",
   "mimetype": "text/x-python",
   "name": "python",
   "nbconvert_exporter": "python",
   "pygments_lexer": "ipython2",
   "version": "2.7.6"
  },
  "pycharm": {
   "stem_cell": {
    "cell_type": "raw",
    "source": [],
    "metadata": {
     "collapsed": false
    }
   }
  }
 },
 "nbformat": 4,
 "nbformat_minor": 0
}